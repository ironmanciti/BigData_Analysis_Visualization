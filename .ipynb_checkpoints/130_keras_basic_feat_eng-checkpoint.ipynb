{
 "cells": [
  {
   "cell_type": "markdown",
   "metadata": {
    "id": "rNdWfPXCjTjY"
   },
   "source": [
    "# Keras 를 이용한 Feature Engineering 기초 - 정형 데이터 다루기\n",
    "\n",
    "1. tf.data를 사용하여 입력 파이프 라인 만들기\n",
    "2. Feature engineering 을 통해 범주형, 교차형 및 숫자형 특성 열을 생성"
   ]
  },
  {
   "cell_type": "code",
   "execution_count": 1,
   "metadata": {
    "id": "9dEreb4QKizj"
   },
   "outputs": [],
   "source": [
    "import os\n",
    "import tensorflow.keras\n",
    "import matplotlib.pyplot as plt\n",
    "import pandas as pd\n",
    "import tensorflow as tf\n",
    "\n",
    "from tensorflow import feature_column as fc\n",
    "from tensorflow.keras.models import Sequential\n",
    "from tensorflow.keras.layers import DenseFeatures, Dense\n",
    "from sklearn.model_selection import train_test_split\n",
    "from tensorflow.keras.utils import plot_model"
   ]
  },
  {
   "cell_type": "markdown",
   "metadata": {
    "id": "-u6tTOBMT6O5"
   },
   "source": [
    "[California Housing Dataset](https://developers.google.com/machine-learning/crash-course/california-housing-data-description)을 사용합니다. 여기에는 1990 년 미국 인구 조사에서 가져온 데이터가 포함됩니다. 실습 데이터세트는 누락된 값이 없도록 사전 처리되었습니다."
   ]
  },
  {
   "cell_type": "code",
   "execution_count": 2,
   "metadata": {
    "colab": {
     "base_uri": "https://localhost:8080/",
     "height": 218
    },
    "id": "REZ57BXCLdfG",
    "outputId": "bc2d701c-9520-4ff5-e79e-5157740a21c3"
   },
   "outputs": [
    {
     "data": {
      "text/html": [
       "<div>\n",
       "<style scoped>\n",
       "    .dataframe tbody tr th:only-of-type {\n",
       "        vertical-align: middle;\n",
       "    }\n",
       "\n",
       "    .dataframe tbody tr th {\n",
       "        vertical-align: top;\n",
       "    }\n",
       "\n",
       "    .dataframe thead th {\n",
       "        text-align: right;\n",
       "    }\n",
       "</style>\n",
       "<table border=\"1\" class=\"dataframe\">\n",
       "  <thead>\n",
       "    <tr style=\"text-align: right;\">\n",
       "      <th></th>\n",
       "      <th>longitude</th>\n",
       "      <th>latitude</th>\n",
       "      <th>housing_median_age</th>\n",
       "      <th>total_rooms</th>\n",
       "      <th>total_bedrooms</th>\n",
       "      <th>population</th>\n",
       "      <th>households</th>\n",
       "      <th>median_income</th>\n",
       "      <th>median_house_value</th>\n",
       "      <th>ocean_proximity</th>\n",
       "    </tr>\n",
       "  </thead>\n",
       "  <tbody>\n",
       "    <tr>\n",
       "      <th>0</th>\n",
       "      <td>-122.23</td>\n",
       "      <td>37.88</td>\n",
       "      <td>41.0</td>\n",
       "      <td>880.0</td>\n",
       "      <td>129.0</td>\n",
       "      <td>322.0</td>\n",
       "      <td>126.0</td>\n",
       "      <td>8.3252</td>\n",
       "      <td>452600.0</td>\n",
       "      <td>NEAR BAY</td>\n",
       "    </tr>\n",
       "    <tr>\n",
       "      <th>1</th>\n",
       "      <td>-122.22</td>\n",
       "      <td>37.86</td>\n",
       "      <td>21.0</td>\n",
       "      <td>7099.0</td>\n",
       "      <td>1106.0</td>\n",
       "      <td>2401.0</td>\n",
       "      <td>1138.0</td>\n",
       "      <td>8.3014</td>\n",
       "      <td>358500.0</td>\n",
       "      <td>NEAR BAY</td>\n",
       "    </tr>\n",
       "    <tr>\n",
       "      <th>2</th>\n",
       "      <td>-122.24</td>\n",
       "      <td>37.85</td>\n",
       "      <td>52.0</td>\n",
       "      <td>1467.0</td>\n",
       "      <td>190.0</td>\n",
       "      <td>496.0</td>\n",
       "      <td>177.0</td>\n",
       "      <td>7.2574</td>\n",
       "      <td>352100.0</td>\n",
       "      <td>NEAR BAY</td>\n",
       "    </tr>\n",
       "    <tr>\n",
       "      <th>3</th>\n",
       "      <td>-122.25</td>\n",
       "      <td>37.85</td>\n",
       "      <td>52.0</td>\n",
       "      <td>1274.0</td>\n",
       "      <td>235.0</td>\n",
       "      <td>558.0</td>\n",
       "      <td>219.0</td>\n",
       "      <td>5.6431</td>\n",
       "      <td>341300.0</td>\n",
       "      <td>NEAR BAY</td>\n",
       "    </tr>\n",
       "    <tr>\n",
       "      <th>4</th>\n",
       "      <td>-122.25</td>\n",
       "      <td>37.85</td>\n",
       "      <td>52.0</td>\n",
       "      <td>1627.0</td>\n",
       "      <td>280.0</td>\n",
       "      <td>565.0</td>\n",
       "      <td>259.0</td>\n",
       "      <td>3.8462</td>\n",
       "      <td>342200.0</td>\n",
       "      <td>NEAR BAY</td>\n",
       "    </tr>\n",
       "  </tbody>\n",
       "</table>\n",
       "</div>"
      ],
      "text/plain": [
       "   longitude  latitude  ...  median_house_value  ocean_proximity\n",
       "0    -122.23     37.88  ...            452600.0         NEAR BAY\n",
       "1    -122.22     37.86  ...            358500.0         NEAR BAY\n",
       "2    -122.24     37.85  ...            352100.0         NEAR BAY\n",
       "3    -122.25     37.85  ...            341300.0         NEAR BAY\n",
       "4    -122.25     37.85  ...            342200.0         NEAR BAY\n",
       "\n",
       "[5 rows x 10 columns]"
      ]
     },
     "execution_count": 2,
     "metadata": {
      "tags": []
     },
     "output_type": "execute_result"
    }
   ],
   "source": [
    "housing_df = pd.read_csv('data/housing_pre-proc.csv', index_col=0)\n",
    "housing_df.head()"
   ]
  },
  {
   "cell_type": "code",
   "execution_count": 3,
   "metadata": {
    "colab": {
     "base_uri": "https://localhost:8080/",
     "height": 308
    },
    "id": "8BtWZInmT6O7",
    "outputId": "5912a99f-4e79-46a1-bda5-25c284bfba99"
   },
   "outputs": [
    {
     "data": {
      "text/html": [
       "<div>\n",
       "<style scoped>\n",
       "    .dataframe tbody tr th:only-of-type {\n",
       "        vertical-align: middle;\n",
       "    }\n",
       "\n",
       "    .dataframe tbody tr th {\n",
       "        vertical-align: top;\n",
       "    }\n",
       "\n",
       "    .dataframe thead th {\n",
       "        text-align: right;\n",
       "    }\n",
       "</style>\n",
       "<table border=\"1\" class=\"dataframe\">\n",
       "  <thead>\n",
       "    <tr style=\"text-align: right;\">\n",
       "      <th></th>\n",
       "      <th>longitude</th>\n",
       "      <th>latitude</th>\n",
       "      <th>housing_median_age</th>\n",
       "      <th>total_rooms</th>\n",
       "      <th>total_bedrooms</th>\n",
       "      <th>population</th>\n",
       "      <th>households</th>\n",
       "      <th>median_income</th>\n",
       "      <th>median_house_value</th>\n",
       "    </tr>\n",
       "  </thead>\n",
       "  <tbody>\n",
       "    <tr>\n",
       "      <th>count</th>\n",
       "      <td>20433.000000</td>\n",
       "      <td>20433.000000</td>\n",
       "      <td>20433.000000</td>\n",
       "      <td>20433.000000</td>\n",
       "      <td>20433.000000</td>\n",
       "      <td>20433.000000</td>\n",
       "      <td>20433.000000</td>\n",
       "      <td>20433.000000</td>\n",
       "      <td>20433.000000</td>\n",
       "    </tr>\n",
       "    <tr>\n",
       "      <th>mean</th>\n",
       "      <td>-119.570689</td>\n",
       "      <td>35.633221</td>\n",
       "      <td>28.633094</td>\n",
       "      <td>2636.504233</td>\n",
       "      <td>537.870553</td>\n",
       "      <td>1424.946949</td>\n",
       "      <td>499.433465</td>\n",
       "      <td>3.871162</td>\n",
       "      <td>206864.413155</td>\n",
       "    </tr>\n",
       "    <tr>\n",
       "      <th>std</th>\n",
       "      <td>2.003578</td>\n",
       "      <td>2.136348</td>\n",
       "      <td>12.591805</td>\n",
       "      <td>2185.269567</td>\n",
       "      <td>421.385070</td>\n",
       "      <td>1133.208490</td>\n",
       "      <td>382.299226</td>\n",
       "      <td>1.899291</td>\n",
       "      <td>115435.667099</td>\n",
       "    </tr>\n",
       "    <tr>\n",
       "      <th>min</th>\n",
       "      <td>-124.350000</td>\n",
       "      <td>32.540000</td>\n",
       "      <td>1.000000</td>\n",
       "      <td>2.000000</td>\n",
       "      <td>1.000000</td>\n",
       "      <td>3.000000</td>\n",
       "      <td>1.000000</td>\n",
       "      <td>0.499900</td>\n",
       "      <td>14999.000000</td>\n",
       "    </tr>\n",
       "    <tr>\n",
       "      <th>25%</th>\n",
       "      <td>-121.800000</td>\n",
       "      <td>33.930000</td>\n",
       "      <td>18.000000</td>\n",
       "      <td>1450.000000</td>\n",
       "      <td>296.000000</td>\n",
       "      <td>787.000000</td>\n",
       "      <td>280.000000</td>\n",
       "      <td>2.563700</td>\n",
       "      <td>119500.000000</td>\n",
       "    </tr>\n",
       "    <tr>\n",
       "      <th>50%</th>\n",
       "      <td>-118.490000</td>\n",
       "      <td>34.260000</td>\n",
       "      <td>29.000000</td>\n",
       "      <td>2127.000000</td>\n",
       "      <td>435.000000</td>\n",
       "      <td>1166.000000</td>\n",
       "      <td>409.000000</td>\n",
       "      <td>3.536500</td>\n",
       "      <td>179700.000000</td>\n",
       "    </tr>\n",
       "    <tr>\n",
       "      <th>75%</th>\n",
       "      <td>-118.010000</td>\n",
       "      <td>37.720000</td>\n",
       "      <td>37.000000</td>\n",
       "      <td>3143.000000</td>\n",
       "      <td>647.000000</td>\n",
       "      <td>1722.000000</td>\n",
       "      <td>604.000000</td>\n",
       "      <td>4.744000</td>\n",
       "      <td>264700.000000</td>\n",
       "    </tr>\n",
       "    <tr>\n",
       "      <th>max</th>\n",
       "      <td>-114.310000</td>\n",
       "      <td>41.950000</td>\n",
       "      <td>52.000000</td>\n",
       "      <td>39320.000000</td>\n",
       "      <td>6445.000000</td>\n",
       "      <td>35682.000000</td>\n",
       "      <td>6082.000000</td>\n",
       "      <td>15.000100</td>\n",
       "      <td>500001.000000</td>\n",
       "    </tr>\n",
       "  </tbody>\n",
       "</table>\n",
       "</div>"
      ],
      "text/plain": [
       "          longitude      latitude  ...  median_income  median_house_value\n",
       "count  20433.000000  20433.000000  ...   20433.000000        20433.000000\n",
       "mean    -119.570689     35.633221  ...       3.871162       206864.413155\n",
       "std        2.003578      2.136348  ...       1.899291       115435.667099\n",
       "min     -124.350000     32.540000  ...       0.499900        14999.000000\n",
       "25%     -121.800000     33.930000  ...       2.563700       119500.000000\n",
       "50%     -118.490000     34.260000  ...       3.536500       179700.000000\n",
       "75%     -118.010000     37.720000  ...       4.744000       264700.000000\n",
       "max     -114.310000     41.950000  ...      15.000100       500001.000000\n",
       "\n",
       "[8 rows x 9 columns]"
      ]
     },
     "execution_count": 3,
     "metadata": {
      "tags": []
     },
     "output_type": "execute_result"
    }
   ],
   "source": [
    "housing_df.describe()"
   ]
  },
  {
   "cell_type": "code",
   "execution_count": 4,
   "metadata": {
    "colab": {
     "base_uri": "https://localhost:8080/",
     "height": 168
    },
    "id": "zzQ7bLFJCdQ9",
    "outputId": "a958f5cd-44d0-4e42-bf1c-dee6bdd2a7a1"
   },
   "outputs": [
    {
     "data": {
      "text/html": [
       "<div>\n",
       "<style scoped>\n",
       "    .dataframe tbody tr th:only-of-type {\n",
       "        vertical-align: middle;\n",
       "    }\n",
       "\n",
       "    .dataframe tbody tr th {\n",
       "        vertical-align: top;\n",
       "    }\n",
       "\n",
       "    .dataframe thead th {\n",
       "        text-align: right;\n",
       "    }\n",
       "</style>\n",
       "<table border=\"1\" class=\"dataframe\">\n",
       "  <thead>\n",
       "    <tr style=\"text-align: right;\">\n",
       "      <th></th>\n",
       "      <th>ocean_proximity</th>\n",
       "    </tr>\n",
       "  </thead>\n",
       "  <tbody>\n",
       "    <tr>\n",
       "      <th>count</th>\n",
       "      <td>20433</td>\n",
       "    </tr>\n",
       "    <tr>\n",
       "      <th>unique</th>\n",
       "      <td>5</td>\n",
       "    </tr>\n",
       "    <tr>\n",
       "      <th>top</th>\n",
       "      <td>&lt;1H OCEAN</td>\n",
       "    </tr>\n",
       "    <tr>\n",
       "      <th>freq</th>\n",
       "      <td>9034</td>\n",
       "    </tr>\n",
       "  </tbody>\n",
       "</table>\n",
       "</div>"
      ],
      "text/plain": [
       "       ocean_proximity\n",
       "count            20433\n",
       "unique               5\n",
       "top          <1H OCEAN\n",
       "freq              9034"
      ]
     },
     "execution_count": 4,
     "metadata": {
      "tags": []
     },
     "output_type": "execute_result"
    }
   ],
   "source": [
    "housing_df.describe(include='O')"
   ]
  },
  {
   "cell_type": "markdown",
   "metadata": {
    "id": "u0zhLtQqMPem"
   },
   "source": [
    "####  Train, Test set 분할"
   ]
  },
  {
   "cell_type": "code",
   "execution_count": 5,
   "metadata": {
    "colab": {
     "base_uri": "https://localhost:8080/"
    },
    "id": "YEOpw7LhMYsI",
    "outputId": "442e4c02-1d75-46a7-919d-50c9e9ddd1a3"
   },
   "outputs": [
    {
     "name": "stdout",
     "output_type": "stream",
     "text": [
      "13076 train examples\n",
      "3270 validation examples\n",
      "4087 test examples\n"
     ]
    }
   ],
   "source": [
    "train, test = train_test_split(housing_df, test_size=0.2)\n",
    "train, val = train_test_split(train, test_size=0.2)\n",
    "\n",
    "print(len(train), 'train examples')\n",
    "print(len(val), 'validation examples')\n",
    "print(len(test), 'test examples')"
   ]
  },
  {
   "cell_type": "markdown",
   "metadata": {
    "id": "dz9kfjOMBX9U"
   },
   "source": [
    "나중에 테스트를 위해 test.csv가 필요합니다. "
   ]
  },
  {
   "cell_type": "code",
   "execution_count": 6,
   "metadata": {
    "id": "ADX23QUu_Wiu"
   },
   "outputs": [],
   "source": [
    "train.to_csv('data/housing-train.csv', encoding='utf-8', index=False)\n",
    "val.to_csv('data/housing-val.csv', encoding='utf-8', index=False)\n",
    "test.to_csv('data/housing-test.csv', encoding='utf-8', index=False)"
   ]
  },
  {
   "cell_type": "code",
   "execution_count": 7,
   "metadata": {
    "colab": {
     "base_uri": "https://localhost:8080/"
    },
    "id": "W3puDuWYT6O9",
    "outputId": "ea9f074e-453f-4197-be32-913d64f34084"
   },
   "outputs": [
    {
     "name": "stdout",
     "output_type": "stream",
     "text": [
      "==> data/housing_pre-proc.csv <==\n",
      ",longitude,latitude,housing_median_age,total_rooms,total_bedrooms,population,households,median_income,median_house_value,ocean_proximity\n",
      "0,-122.23,37.88,41.0,880.0,129.0,322.0,126.0,8.3252,452600.0,NEAR BAY\n",
      "1,-122.22,37.86,21.0,7099.0,1106.0,2401.0,1138.0,8.3014,358500.0,NEAR BAY\n",
      "\n",
      "==> data/housing-test.csv <==\n",
      "longitude,latitude,housing_median_age,total_rooms,total_bedrooms,population,households,median_income,median_house_value,ocean_proximity\n",
      "-120.95,37.57,29.0,1179.0,249.0,672.0,243.0,3.1125,154800.0,INLAND\n",
      "-118.25,33.97,38.0,1231.0,346.0,1217.0,354.0,1.8661,106600.0,<1H OCEAN\n",
      "\n",
      "==> data/housing-train.csv <==\n",
      "longitude,latitude,housing_median_age,total_rooms,total_bedrooms,population,households,median_income,median_house_value,ocean_proximity\n",
      "-119.5,36.74,20.0,1089.0,208.0,531.0,212.0,4.5938,106900.0,INLAND\n",
      "-118.56,34.42,2.0,966.0,270.0,233.0,169.0,1.9667,450000.0,<1H OCEAN\n",
      "\n",
      "==> data/housing-val.csv <==\n",
      "longitude,latitude,housing_median_age,total_rooms,total_bedrooms,population,households,median_income,median_house_value,ocean_proximity\n",
      "-121.82,36.54,22.0,1746.0,363.0,886.0,364.0,5.5469,378800.0,<1H OCEAN\n",
      "-117.97,33.71,25.0,3273.0,478.0,1645.0,497.0,5.8195,286100.0,<1H OCEAN\n"
     ]
    }
   ],
   "source": [
    "!head -n3 data/housing*.csv"
   ]
  },
  {
   "cell_type": "markdown",
   "metadata": {
    "id": "Aj35eYy_lutI"
   },
   "source": [
    "## tf.data 를 이용하여 input pipeline 생성\n",
    "\n",
    "- tf.data를 사용하여 데이터프레임을 감싼다.  \n",
    "- 판다스 데이터프레임의 열을 모델 훈련에 필요한 특성으로 매핑   "
   ]
  },
  {
   "cell_type": "code",
   "execution_count": 8,
   "metadata": {
    "id": "QcHHU-tgT6O9"
   },
   "outputs": [],
   "source": [
    "# 판다스 데이터프레임으로부터 tf.data 데이터셋을 만들기 위한 함수\n",
    "def df_to_dataset(dataframe, shuffle=True, batch_size=32):\n",
    "    dataframe = dataframe.copy()\n",
    "    labels = dataframe.pop('median_house_value')\n",
    "    \n",
    "    ds = tf.data.Dataset.from_tensor_slices((dict(dataframe), labels))\n",
    "    \n",
    "    if shuffle:\n",
    "        ds = ds.shuffle(buffer_size=len(dataframe))\n",
    "    ds = ds.batch(batch_size)\n",
    "    return ds"
   ]
  },
  {
   "cell_type": "markdown",
   "metadata": {
    "id": "eRK1wCYCT6O9"
   },
   "source": [
    "- 훈련 및 검증 데이터 세트를 초기화"
   ]
  },
  {
   "cell_type": "code",
   "execution_count": 9,
   "metadata": {
    "id": "InzCl6NcT6O-"
   },
   "outputs": [],
   "source": [
    "batch_size = 32\n",
    "train_ds = df_to_dataset(train)\n",
    "val_ds   = df_to_dataset(val, shuffle=False, batch_size=batch_size)"
   ]
  },
  {
   "cell_type": "code",
   "execution_count": 10,
   "metadata": {
    "colab": {
     "base_uri": "https://localhost:8080/"
    },
    "id": "FedBJLy_T6O-",
    "outputId": "cc224272-0652-4e77-f59a-c9b76fdc7b4f"
   },
   "outputs": [
    {
     "data": {
      "text/plain": [
       "<BatchDataset shapes: ({longitude: (None,), latitude: (None,), housing_median_age: (None,), total_rooms: (None,), total_bedrooms: (None,), population: (None,), households: (None,), median_income: (None,), ocean_proximity: (None,)}, (None,)), types: ({longitude: tf.float64, latitude: tf.float64, housing_median_age: tf.float64, total_rooms: tf.float64, total_bedrooms: tf.float64, population: tf.float64, households: tf.float64, median_income: tf.float64, ocean_proximity: tf.string}, tf.float64)>"
      ]
     },
     "execution_count": 10,
     "metadata": {
      "tags": []
     },
     "output_type": "execute_result"
    }
   ],
   "source": [
    "train_ds"
   ]
  },
  {
   "cell_type": "markdown",
   "metadata": {
    "id": "feHn9rpR5D6g"
   },
   "source": [
    "- dataframe 의 column 값에 mapping된 column names dictionary 확인"
   ]
  },
  {
   "cell_type": "code",
   "execution_count": 11,
   "metadata": {
    "colab": {
     "base_uri": "https://localhost:8080/"
    },
    "id": "CSBo3dUVNFc9",
    "outputId": "e7f2a79b-9274-40df-bbaa-fc1a2d0349fe"
   },
   "outputs": [
    {
     "name": "stdout",
     "output_type": "stream",
     "text": [
      "전체 feature : ['longitude', 'latitude', 'housing_median_age', 'total_rooms', 'total_bedrooms', 'population', 'households', 'median_income', 'ocean_proximity']\n",
      "households batch: tf.Tensor(\n",
      "[ 235.  510.  408.  474.  266.  229.  339.  214.  304.  309.  664.  426.\n",
      "  434.  575.  304. 1926.  630.  993.  523. 1267.  536.  577.  198. 1482.\n",
      "  395. 1289.  831.  222.  640.  327.  325.  827.], shape=(32,), dtype=float64)\n",
      "ocean_proximity batch: tf.Tensor(\n",
      "[b'NEAR OCEAN' b'INLAND' b'<1H OCEAN' b'INLAND' b'<1H OCEAN' b'INLAND'\n",
      " b'INLAND' b'INLAND' b'<1H OCEAN' b'NEAR OCEAN' b'<1H OCEAN' b'<1H OCEAN'\n",
      " b'<1H OCEAN' b'INLAND' b'<1H OCEAN' b'INLAND' b'<1H OCEAN' b'NEAR BAY'\n",
      " b'<1H OCEAN' b'<1H OCEAN' b'INLAND' b'<1H OCEAN' b'INLAND' b'<1H OCEAN'\n",
      " b'<1H OCEAN' b'NEAR BAY' b'NEAR OCEAN' b'<1H OCEAN' b'<1H OCEAN'\n",
      " b'NEAR OCEAN' b'<1H OCEAN' b'<1H OCEAN'], shape=(32,), dtype=string)\n",
      "targets batch: tf.Tensor(\n",
      "[284100. 156700. 412500.  53900. 150000. 130400.  71300.  58300. 152300.\n",
      " 500001. 188800. 500001. 235300.  72200. 195300. 199300. 161300. 212800.\n",
      " 187500. 183700.  52100. 148600.  79200. 500001. 210500. 208900. 243100.\n",
      " 284400. 206900. 166000. 196900. 400000.], shape=(32,), dtype=float64)\n"
     ]
    }
   ],
   "source": [
    "for feature_batch, label_batch in train_ds.take(1):\n",
    "    print('전체 feature :', list(feature_batch.keys()))\n",
    "    print('households batch:', feature_batch['households'])\n",
    "    print('ocean_proximity batch:', feature_batch['ocean_proximity'])\n",
    "    print('targets batch:', label_batch)"
   ]
  },
  {
   "cell_type": "markdown",
   "metadata": {
    "id": "YEGEAqaziwfC"
   },
   "source": [
    "### Numeric columns\n",
    "\n",
    "- 수치형 열은 가장 간단한 종류의 열입니다. `feature_column.numeric_column`을 사용하면 모델은 데이터프레임 열의 값을 변형시키지 않고 그대로 전달 받습니다.  \n",
    "- 캘리포니아 주택 가격 데이터 세트에서 데이터 프레임의 대부분의 열은 숫자이므로, \n",
    "숫자 특성 열만 포함하는 **numeric_cols** 라는 list를 만듭니다."
   ]
  },
  {
   "cell_type": "code",
   "execution_count": 12,
   "metadata": {
    "id": "wifpg01PT6O_"
   },
   "outputs": [],
   "source": [
    "numeric_cols = ['longitude', 'latitude', 'housing_median_age', 'total_rooms',\n",
    "                'total_bedrooms', 'population', 'households', 'median_income']"
   ]
  },
  {
   "cell_type": "markdown",
   "metadata": {
    "id": "EwMEcH_52JT8"
   },
   "source": [
    "### Scaling"
   ]
  },
  {
   "cell_type": "code",
   "execution_count": 13,
   "metadata": {
    "id": "yIK1jOIwT6PA"
   },
   "outputs": [],
   "source": [
    "def get_scale(feature):\n",
    "    def minmax(x):\n",
    "        mini = train[feature].min()\n",
    "        maxi = train[feature].max()\n",
    "        return (x - mini)/(maxi-mini)\n",
    "    return(minmax)"
   ]
  },
  {
   "cell_type": "code",
   "execution_count": 14,
   "metadata": {
    "colab": {
     "base_uri": "https://localhost:8080/"
    },
    "id": "Y8IUfcuVaS_g",
    "outputId": "82d9b757-8405-49d4-f9b7-ded813dd3283"
   },
   "outputs": [
    {
     "data": {
      "text/plain": [
       "[NumericColumn(key='longitude', shape=(1,), default_value=None, dtype=tf.float32, normalizer_fn=<function get_scale.<locals>.minmax at 0x7f0ff01dc830>),\n",
       " NumericColumn(key='latitude', shape=(1,), default_value=None, dtype=tf.float32, normalizer_fn=<function get_scale.<locals>.minmax at 0x7f0ff01dcdd0>),\n",
       " NumericColumn(key='housing_median_age', shape=(1,), default_value=None, dtype=tf.float32, normalizer_fn=<function get_scale.<locals>.minmax at 0x7f0ff01dce60>),\n",
       " NumericColumn(key='total_rooms', shape=(1,), default_value=None, dtype=tf.float32, normalizer_fn=<function get_scale.<locals>.minmax at 0x7f0ff01dc710>),\n",
       " NumericColumn(key='total_bedrooms', shape=(1,), default_value=None, dtype=tf.float32, normalizer_fn=<function get_scale.<locals>.minmax at 0x7f0ff01dc7a0>),\n",
       " NumericColumn(key='population', shape=(1,), default_value=None, dtype=tf.float32, normalizer_fn=<function get_scale.<locals>.minmax at 0x7f0ff01dc5f0>),\n",
       " NumericColumn(key='households', shape=(1,), default_value=None, dtype=tf.float32, normalizer_fn=<function get_scale.<locals>.minmax at 0x7f0ff01dc4d0>),\n",
       " NumericColumn(key='median_income', shape=(1,), default_value=None, dtype=tf.float32, normalizer_fn=<function get_scale.<locals>.minmax at 0x7f0ff01dc560>)]"
      ]
     },
     "execution_count": 14,
     "metadata": {
      "tags": []
     },
     "output_type": "execute_result"
    }
   ],
   "source": [
    "feature_columns = []\n",
    "\n",
    "for col in numeric_cols:\n",
    "    scal_input_fn = get_scale(col)\n",
    "    feature_columns.append(\n",
    "        fc.numeric_column(col, normalizer_fn=scal_input_fn))\n",
    "    \n",
    "feature_columns"
   ]
  },
  {
   "cell_type": "markdown",
   "metadata": {
    "id": "wqkozY268xi7"
   },
   "source": [
    "### Load test data"
   ]
  },
  {
   "cell_type": "code",
   "execution_count": 15,
   "metadata": {
    "colab": {
     "base_uri": "https://localhost:8080/",
     "height": 308
    },
    "id": "b4C4BmhV8ch9",
    "outputId": "9801190c-ceda-4bde-c2f5-657363bfd932"
   },
   "outputs": [
    {
     "data": {
      "text/html": [
       "<div>\n",
       "<style scoped>\n",
       "    .dataframe tbody tr th:only-of-type {\n",
       "        vertical-align: middle;\n",
       "    }\n",
       "\n",
       "    .dataframe tbody tr th {\n",
       "        vertical-align: top;\n",
       "    }\n",
       "\n",
       "    .dataframe thead th {\n",
       "        text-align: right;\n",
       "    }\n",
       "</style>\n",
       "<table border=\"1\" class=\"dataframe\">\n",
       "  <thead>\n",
       "    <tr style=\"text-align: right;\">\n",
       "      <th></th>\n",
       "      <th>longitude</th>\n",
       "      <th>latitude</th>\n",
       "      <th>housing_median_age</th>\n",
       "      <th>total_rooms</th>\n",
       "      <th>total_bedrooms</th>\n",
       "      <th>population</th>\n",
       "      <th>households</th>\n",
       "      <th>median_income</th>\n",
       "      <th>median_house_value</th>\n",
       "    </tr>\n",
       "  </thead>\n",
       "  <tbody>\n",
       "    <tr>\n",
       "      <th>count</th>\n",
       "      <td>4087.000000</td>\n",
       "      <td>4087.000000</td>\n",
       "      <td>4087.000000</td>\n",
       "      <td>4087.000000</td>\n",
       "      <td>4087.000000</td>\n",
       "      <td>4087.000000</td>\n",
       "      <td>4087.000000</td>\n",
       "      <td>4087.000000</td>\n",
       "      <td>4087.000000</td>\n",
       "    </tr>\n",
       "    <tr>\n",
       "      <th>mean</th>\n",
       "      <td>-119.608439</td>\n",
       "      <td>35.686861</td>\n",
       "      <td>28.682652</td>\n",
       "      <td>2628.941277</td>\n",
       "      <td>532.451431</td>\n",
       "      <td>1408.198923</td>\n",
       "      <td>493.316369</td>\n",
       "      <td>3.895572</td>\n",
       "      <td>206224.758503</td>\n",
       "    </tr>\n",
       "    <tr>\n",
       "      <th>std</th>\n",
       "      <td>2.004958</td>\n",
       "      <td>2.156048</td>\n",
       "      <td>12.775686</td>\n",
       "      <td>2137.283813</td>\n",
       "      <td>414.091404</td>\n",
       "      <td>1067.881599</td>\n",
       "      <td>375.856074</td>\n",
       "      <td>1.962315</td>\n",
       "      <td>116107.129833</td>\n",
       "    </tr>\n",
       "    <tr>\n",
       "      <th>min</th>\n",
       "      <td>-124.260000</td>\n",
       "      <td>32.560000</td>\n",
       "      <td>1.000000</td>\n",
       "      <td>6.000000</td>\n",
       "      <td>1.000000</td>\n",
       "      <td>5.000000</td>\n",
       "      <td>1.000000</td>\n",
       "      <td>0.499900</td>\n",
       "      <td>14999.000000</td>\n",
       "    </tr>\n",
       "    <tr>\n",
       "      <th>25%</th>\n",
       "      <td>-121.820000</td>\n",
       "      <td>33.940000</td>\n",
       "      <td>18.000000</td>\n",
       "      <td>1429.000000</td>\n",
       "      <td>294.000000</td>\n",
       "      <td>769.500000</td>\n",
       "      <td>275.000000</td>\n",
       "      <td>2.559550</td>\n",
       "      <td>116100.000000</td>\n",
       "    </tr>\n",
       "    <tr>\n",
       "      <th>50%</th>\n",
       "      <td>-118.590000</td>\n",
       "      <td>34.310000</td>\n",
       "      <td>29.000000</td>\n",
       "      <td>2125.000000</td>\n",
       "      <td>433.000000</td>\n",
       "      <td>1173.000000</td>\n",
       "      <td>408.000000</td>\n",
       "      <td>3.534100</td>\n",
       "      <td>179200.000000</td>\n",
       "    </tr>\n",
       "    <tr>\n",
       "      <th>75%</th>\n",
       "      <td>-118.040000</td>\n",
       "      <td>37.740000</td>\n",
       "      <td>37.000000</td>\n",
       "      <td>3170.000000</td>\n",
       "      <td>635.500000</td>\n",
       "      <td>1700.500000</td>\n",
       "      <td>593.000000</td>\n",
       "      <td>4.776100</td>\n",
       "      <td>262750.000000</td>\n",
       "    </tr>\n",
       "    <tr>\n",
       "      <th>max</th>\n",
       "      <td>-114.310000</td>\n",
       "      <td>41.860000</td>\n",
       "      <td>52.000000</td>\n",
       "      <td>30405.000000</td>\n",
       "      <td>5027.000000</td>\n",
       "      <td>12873.000000</td>\n",
       "      <td>4855.000000</td>\n",
       "      <td>15.000100</td>\n",
       "      <td>500001.000000</td>\n",
       "    </tr>\n",
       "  </tbody>\n",
       "</table>\n",
       "</div>"
      ],
      "text/plain": [
       "         longitude     latitude  ...  median_income  median_house_value\n",
       "count  4087.000000  4087.000000  ...    4087.000000         4087.000000\n",
       "mean   -119.608439    35.686861  ...       3.895572       206224.758503\n",
       "std       2.004958     2.156048  ...       1.962315       116107.129833\n",
       "min    -124.260000    32.560000  ...       0.499900        14999.000000\n",
       "25%    -121.820000    33.940000  ...       2.559550       116100.000000\n",
       "50%    -118.590000    34.310000  ...       3.534100       179200.000000\n",
       "75%    -118.040000    37.740000  ...       4.776100       262750.000000\n",
       "max    -114.310000    41.860000  ...      15.000100       500001.000000\n",
       "\n",
       "[8 rows x 9 columns]"
      ]
     },
     "execution_count": 15,
     "metadata": {
      "tags": []
     },
     "output_type": "execute_result"
    }
   ],
   "source": [
    "test_data = pd.read_csv('data/housing-test.csv')\n",
    "test_data.describe()"
   ]
  },
  {
   "cell_type": "code",
   "execution_count": 16,
   "metadata": {
    "id": "8rMdDeGDCwpT"
   },
   "outputs": [],
   "source": [
    "# def test_input_fn(features, batch_size=256):\n",
    "#     \"\"\"prediction을 위한 input function\"\"\"\n",
    "#     # 입력을 레이블이없는 데이터 세트로 변환\n",
    "#     return tf.data.Dataset.from_tensor_slices(dict(features)).batch(batch_size)\n",
    "\n",
    "# test_predict = test_input_fn(dict(test_data))\n",
    "# test_predict"
   ]
  },
  {
   "cell_type": "markdown",
   "metadata": {
    "id": "vdx370A0T6PE"
   },
   "source": [
    "## Feature Engineering \n",
    "\n",
    "- categorical and numerical features 생성"
   ]
  },
  {
   "cell_type": "markdown",
   "metadata": {
    "id": "78F1XH1Qwvbt"
   },
   "source": [
    "- `housing_median_age`를 버킷화\n",
    "\n",
    "- `ocean_proximity`를 one-hot 인코딩하여 범주화 "
   ]
  },
  {
   "cell_type": "code",
   "execution_count": 17,
   "metadata": {
    "id": "ZxSatLUxUmvI"
   },
   "outputs": [],
   "source": [
    "# numerical columns\n",
    "numeric_cols = ['longitude', 'latitude', 'housing_median_age', 'total_rooms',\n",
    "                'total_bedrooms', 'population', 'households', 'median_income']\n",
    "\n",
    "# bucketized columns\n",
    "bucketized_cols = ['housing_median_age']\n",
    "\n",
    "# indicator columns, Categorical features\n",
    "categorical_cols = ['ocean_proximity']"
   ]
  },
  {
   "cell_type": "markdown",
   "metadata": {
    "id": "yYUpUZvgwrPe"
   },
   "source": [
    "### Categorical Feature\n",
    "\n",
    "- `ocean_proximity`는 문자열로 표시되므로 숫자 값에 매핑하고 one-hot-encoding "
   ]
  },
  {
   "cell_type": "code",
   "execution_count": 18,
   "metadata": {
    "colab": {
     "base_uri": "https://localhost:8080/"
    },
    "id": "5cfLs-VTCvKc",
    "outputId": "130e01d2-3feb-4434-8eb7-86be48544bbc"
   },
   "outputs": [
    {
     "data": {
      "text/plain": [
       "array(['NEAR BAY', '<1H OCEAN', 'INLAND', 'NEAR OCEAN', 'ISLAND'],\n",
       "      dtype=object)"
      ]
     },
     "execution_count": 18,
     "metadata": {
      "tags": []
     },
     "output_type": "execute_result"
    }
   ],
   "source": [
    "housing_df['ocean_proximity'].unique()"
   ]
  },
  {
   "cell_type": "code",
   "execution_count": 19,
   "metadata": {
    "colab": {
     "base_uri": "https://localhost:8080/"
    },
    "id": "3Cf6SoFTUnc6",
    "outputId": "4bd01d18-3d61-4883-8c86-e27587399732"
   },
   "outputs": [
    {
     "data": {
      "text/plain": [
       "[NumericColumn(key='longitude', shape=(1,), default_value=None, dtype=tf.float32, normalizer_fn=<function get_scale.<locals>.minmax at 0x7f0ff01dc830>),\n",
       " NumericColumn(key='latitude', shape=(1,), default_value=None, dtype=tf.float32, normalizer_fn=<function get_scale.<locals>.minmax at 0x7f0ff01dcdd0>),\n",
       " NumericColumn(key='housing_median_age', shape=(1,), default_value=None, dtype=tf.float32, normalizer_fn=<function get_scale.<locals>.minmax at 0x7f0ff01dce60>),\n",
       " NumericColumn(key='total_rooms', shape=(1,), default_value=None, dtype=tf.float32, normalizer_fn=<function get_scale.<locals>.minmax at 0x7f0ff01dc710>),\n",
       " NumericColumn(key='total_bedrooms', shape=(1,), default_value=None, dtype=tf.float32, normalizer_fn=<function get_scale.<locals>.minmax at 0x7f0ff01dc7a0>),\n",
       " NumericColumn(key='population', shape=(1,), default_value=None, dtype=tf.float32, normalizer_fn=<function get_scale.<locals>.minmax at 0x7f0ff01dc5f0>),\n",
       " NumericColumn(key='households', shape=(1,), default_value=None, dtype=tf.float32, normalizer_fn=<function get_scale.<locals>.minmax at 0x7f0ff01dc4d0>),\n",
       " NumericColumn(key='median_income', shape=(1,), default_value=None, dtype=tf.float32, normalizer_fn=<function get_scale.<locals>.minmax at 0x7f0ff01dc560>),\n",
       " IndicatorColumn(categorical_column=VocabularyListCategoricalColumn(key='ocean_proximity', vocabulary_list=('NEAR BAY', '<1H OCEAN', 'INLAND', 'NEAR OCEAN', 'ISLAND'), dtype=tf.string, default_value=-1, num_oov_buckets=0))]"
      ]
     },
     "execution_count": 19,
     "metadata": {
      "tags": []
     },
     "output_type": "execute_result"
    }
   ],
   "source": [
    "for col in categorical_cols:\n",
    "    vocabulary = housing_df[col].unique()\n",
    "    categorical_c = fc.categorical_column_with_vocabulary_list(col, vocabulary)\n",
    "    one_hot = fc.indicator_column(categorical_c)\n",
    "    feature_columns.append(one_hot)\n",
    "    \n",
    "feature_columns"
   ]
  },
  {
   "cell_type": "markdown",
   "metadata": {
    "id": "qnGyWaijzShj"
   },
   "source": [
    "### Bucketized Feature\n",
    "\n",
    "주택 연령을 Numeric Column으로 표시하는 대신 [bucketized column](https://www.tensorflow.org/api_docs/python/tf/feature_column/bucketized_column)을 사용하여 주택 연령을 여러 버킷으로 분할할 수 있습니다."
   ]
  },
  {
   "cell_type": "markdown",
   "metadata": {
    "id": "7ZRlFyP7fOw-"
   },
   "source": [
    "- `housing_median_age`를 사용하여 버킷화 된 열을 만듭니다."
   ]
  },
  {
   "cell_type": "code",
   "execution_count": 20,
   "metadata": {
    "colab": {
     "base_uri": "https://localhost:8080/"
    },
    "id": "xB-yiVLmUnXp",
    "outputId": "bb829ad1-78c2-4ff5-86b9-7cf961b183c3"
   },
   "outputs": [
    {
     "data": {
      "text/plain": [
       "[NumericColumn(key='longitude', shape=(1,), default_value=None, dtype=tf.float32, normalizer_fn=<function get_scale.<locals>.minmax at 0x7f0ff01dc830>),\n",
       " NumericColumn(key='latitude', shape=(1,), default_value=None, dtype=tf.float32, normalizer_fn=<function get_scale.<locals>.minmax at 0x7f0ff01dcdd0>),\n",
       " NumericColumn(key='housing_median_age', shape=(1,), default_value=None, dtype=tf.float32, normalizer_fn=<function get_scale.<locals>.minmax at 0x7f0ff01dce60>),\n",
       " NumericColumn(key='total_rooms', shape=(1,), default_value=None, dtype=tf.float32, normalizer_fn=<function get_scale.<locals>.minmax at 0x7f0ff01dc710>),\n",
       " NumericColumn(key='total_bedrooms', shape=(1,), default_value=None, dtype=tf.float32, normalizer_fn=<function get_scale.<locals>.minmax at 0x7f0ff01dc7a0>),\n",
       " NumericColumn(key='population', shape=(1,), default_value=None, dtype=tf.float32, normalizer_fn=<function get_scale.<locals>.minmax at 0x7f0ff01dc5f0>),\n",
       " NumericColumn(key='households', shape=(1,), default_value=None, dtype=tf.float32, normalizer_fn=<function get_scale.<locals>.minmax at 0x7f0ff01dc4d0>),\n",
       " NumericColumn(key='median_income', shape=(1,), default_value=None, dtype=tf.float32, normalizer_fn=<function get_scale.<locals>.minmax at 0x7f0ff01dc560>),\n",
       " IndicatorColumn(categorical_column=VocabularyListCategoricalColumn(key='ocean_proximity', vocabulary_list=('NEAR BAY', '<1H OCEAN', 'INLAND', 'NEAR OCEAN', 'ISLAND'), dtype=tf.string, default_value=-1, num_oov_buckets=0)),\n",
       " BucketizedColumn(source_column=NumericColumn(key='housing_median_age', shape=(1,), default_value=None, dtype=tf.float32, normalizer_fn=None), boundaries=(10, 20, 30, 40, 50, 60, 80, 100))]"
      ]
     },
     "execution_count": 20,
     "metadata": {
      "tags": []
     },
     "output_type": "execute_result"
    }
   ],
   "source": [
    "age = fc.numeric_column(\"housing_median_age\")\n",
    "\n",
    "# Bucketized cols\n",
    "age_buckets = fc.bucketized_column(age, boundaries=[10, 20, 30, 40, 50, 60, 80, 100])\n",
    "\n",
    "feature_columns.append(age_buckets)\n",
    "feature_columns"
   ]
  },
  {
   "cell_type": "markdown",
   "metadata": {
    "id": "Ri4_wssOg943"
   },
   "source": [
    "### Feature Cross\n",
    "\n",
    "- [Feature Cross](https://developers.google.com/machine-learning/glossary/#feature_cross)하여 단일 기능으로 결합하면 모델이 각 기능 조합에 대해 별도의 가중치를 학습할 수 있습니다."
   ]
  },
  {
   "cell_type": "markdown",
   "metadata": {
    "id": "a6HHJl3J0j0T"
   },
   "source": [
    "- `housing_median_age`와 `ocean_proximity`의 특성 교차를 생성합니다."
   ]
  },
  {
   "cell_type": "code",
   "execution_count": 21,
   "metadata": {
    "colab": {
     "base_uri": "https://localhost:8080/"
    },
    "id": "JVLnG0WbUnkl",
    "outputId": "a7755d21-c105-428c-c3f1-8e76d6771a09"
   },
   "outputs": [
    {
     "data": {
      "text/plain": [
       "[NumericColumn(key='longitude', shape=(1,), default_value=None, dtype=tf.float32, normalizer_fn=<function get_scale.<locals>.minmax at 0x7f0ff01dc830>),\n",
       " NumericColumn(key='latitude', shape=(1,), default_value=None, dtype=tf.float32, normalizer_fn=<function get_scale.<locals>.minmax at 0x7f0ff01dcdd0>),\n",
       " NumericColumn(key='housing_median_age', shape=(1,), default_value=None, dtype=tf.float32, normalizer_fn=<function get_scale.<locals>.minmax at 0x7f0ff01dce60>),\n",
       " NumericColumn(key='total_rooms', shape=(1,), default_value=None, dtype=tf.float32, normalizer_fn=<function get_scale.<locals>.minmax at 0x7f0ff01dc710>),\n",
       " NumericColumn(key='total_bedrooms', shape=(1,), default_value=None, dtype=tf.float32, normalizer_fn=<function get_scale.<locals>.minmax at 0x7f0ff01dc7a0>),\n",
       " NumericColumn(key='population', shape=(1,), default_value=None, dtype=tf.float32, normalizer_fn=<function get_scale.<locals>.minmax at 0x7f0ff01dc5f0>),\n",
       " NumericColumn(key='households', shape=(1,), default_value=None, dtype=tf.float32, normalizer_fn=<function get_scale.<locals>.minmax at 0x7f0ff01dc4d0>),\n",
       " NumericColumn(key='median_income', shape=(1,), default_value=None, dtype=tf.float32, normalizer_fn=<function get_scale.<locals>.minmax at 0x7f0ff01dc560>),\n",
       " IndicatorColumn(categorical_column=VocabularyListCategoricalColumn(key='ocean_proximity', vocabulary_list=('NEAR BAY', '<1H OCEAN', 'INLAND', 'NEAR OCEAN', 'ISLAND'), dtype=tf.string, default_value=-1, num_oov_buckets=0)),\n",
       " BucketizedColumn(source_column=NumericColumn(key='housing_median_age', shape=(1,), default_value=None, dtype=tf.float32, normalizer_fn=None), boundaries=(10, 20, 30, 40, 50, 60, 80, 100)),\n",
       " IndicatorColumn(categorical_column=CrossedColumn(keys=(BucketizedColumn(source_column=NumericColumn(key='housing_median_age', shape=(1,), default_value=None, dtype=tf.float32, normalizer_fn=None), boundaries=(10, 20, 30, 40, 50, 60, 80, 100)), VocabularyListCategoricalColumn(key='ocean_proximity', vocabulary_list=('NEAR BAY', '<1H OCEAN', 'INLAND', 'NEAR OCEAN', 'ISLAND'), dtype=tf.string, default_value=-1, num_oov_buckets=0)), hash_bucket_size=1000, hash_key=None))]"
      ]
     },
     "execution_count": 21,
     "metadata": {
      "tags": []
     },
     "output_type": "execute_result"
    }
   ],
   "source": [
    "vocabulary = housing_df['ocean_proximity'].unique()\n",
    "ocean_proximity = fc.categorical_column_with_vocabulary_list('ocean_proximity', vocabulary)\n",
    "\n",
    "crossed_feature = fc.crossed_column([age_buckets, ocean_proximity], hash_bucket_size=1000)\n",
    "crossed_feature = fc.indicator_column(crossed_feature)\n",
    "feature_columns.append(crossed_feature)\n",
    "\n",
    "feature_columns"
   ]
  },
  {
   "cell_type": "code",
   "execution_count": 22,
   "metadata": {
    "colab": {
     "base_uri": "https://localhost:8080/"
    },
    "id": "4Dwal3oxUoCe",
    "outputId": "c620acea-4506-4c27-e0be-7452827a33ac",
    "scrolled": true
   },
   "outputs": [
    {
     "name": "stdout",
     "output_type": "stream",
     "text": [
      "Epoch 1/50\n",
      "WARNING:tensorflow:Layers in a Sequential model should only have a single input tensor, but we receive a <class 'dict'> input: {'longitude': <tf.Tensor 'ExpandDims_3:0' shape=(None, 1) dtype=float64>, 'latitude': <tf.Tensor 'ExpandDims_2:0' shape=(None, 1) dtype=float64>, 'housing_median_age': <tf.Tensor 'ExpandDims_1:0' shape=(None, 1) dtype=float64>, 'total_rooms': <tf.Tensor 'ExpandDims_8:0' shape=(None, 1) dtype=float64>, 'total_bedrooms': <tf.Tensor 'ExpandDims_7:0' shape=(None, 1) dtype=float64>, 'population': <tf.Tensor 'ExpandDims_6:0' shape=(None, 1) dtype=float64>, 'households': <tf.Tensor 'ExpandDims:0' shape=(None, 1) dtype=float64>, 'median_income': <tf.Tensor 'ExpandDims_4:0' shape=(None, 1) dtype=float64>, 'ocean_proximity': <tf.Tensor 'ExpandDims_5:0' shape=(None, 1) dtype=string>}\n",
      "Consider rewriting this model with the Functional API.\n",
      "WARNING:tensorflow:Layers in a Sequential model should only have a single input tensor, but we receive a <class 'dict'> input: {'longitude': <tf.Tensor 'ExpandDims_3:0' shape=(None, 1) dtype=float64>, 'latitude': <tf.Tensor 'ExpandDims_2:0' shape=(None, 1) dtype=float64>, 'housing_median_age': <tf.Tensor 'ExpandDims_1:0' shape=(None, 1) dtype=float64>, 'total_rooms': <tf.Tensor 'ExpandDims_8:0' shape=(None, 1) dtype=float64>, 'total_bedrooms': <tf.Tensor 'ExpandDims_7:0' shape=(None, 1) dtype=float64>, 'population': <tf.Tensor 'ExpandDims_6:0' shape=(None, 1) dtype=float64>, 'households': <tf.Tensor 'ExpandDims:0' shape=(None, 1) dtype=float64>, 'median_income': <tf.Tensor 'ExpandDims_4:0' shape=(None, 1) dtype=float64>, 'ocean_proximity': <tf.Tensor 'ExpandDims_5:0' shape=(None, 1) dtype=string>}\n",
      "Consider rewriting this model with the Functional API.\n",
      "398/409 [============================>.] - ETA: 0s - loss: 56031322112.0000 - mse: 56031322112.0000WARNING:tensorflow:Layers in a Sequential model should only have a single input tensor, but we receive a <class 'dict'> input: {'longitude': <tf.Tensor 'ExpandDims_3:0' shape=(None, 1) dtype=float64>, 'latitude': <tf.Tensor 'ExpandDims_2:0' shape=(None, 1) dtype=float64>, 'housing_median_age': <tf.Tensor 'ExpandDims_1:0' shape=(None, 1) dtype=float64>, 'total_rooms': <tf.Tensor 'ExpandDims_8:0' shape=(None, 1) dtype=float64>, 'total_bedrooms': <tf.Tensor 'ExpandDims_7:0' shape=(None, 1) dtype=float64>, 'population': <tf.Tensor 'ExpandDims_6:0' shape=(None, 1) dtype=float64>, 'households': <tf.Tensor 'ExpandDims:0' shape=(None, 1) dtype=float64>, 'median_income': <tf.Tensor 'ExpandDims_4:0' shape=(None, 1) dtype=float64>, 'ocean_proximity': <tf.Tensor 'ExpandDims_5:0' shape=(None, 1) dtype=string>}\n",
      "Consider rewriting this model with the Functional API.\n",
      "409/409 [==============================] - 3s 5ms/step - loss: 55901822976.0000 - mse: 55901822976.0000 - val_loss: 55090716672.0000 - val_mse: 55090716672.0000\n",
      "Epoch 2/50\n",
      "409/409 [==============================] - 2s 4ms/step - loss: 52350271488.0000 - mse: 52350271488.0000 - val_loss: 48289546240.0000 - val_mse: 48289546240.0000\n",
      "Epoch 3/50\n",
      "409/409 [==============================] - 2s 5ms/step - loss: 42077798400.0000 - mse: 42077798400.0000 - val_loss: 35022663680.0000 - val_mse: 35022663680.0000\n",
      "Epoch 4/50\n",
      "409/409 [==============================] - 2s 5ms/step - loss: 27926415360.0000 - mse: 27926415360.0000 - val_loss: 21390405632.0000 - val_mse: 21390405632.0000\n",
      "Epoch 5/50\n",
      "409/409 [==============================] - 2s 5ms/step - loss: 17071258624.0000 - mse: 17071258624.0000 - val_loss: 13835080704.0000 - val_mse: 13835080704.0000\n",
      "Epoch 6/50\n",
      "409/409 [==============================] - 2s 5ms/step - loss: 12389340160.0000 - mse: 12389340160.0000 - val_loss: 11392492544.0000 - val_mse: 11392492544.0000\n",
      "Epoch 7/50\n",
      "409/409 [==============================] - 2s 5ms/step - loss: 10981097472.0000 - mse: 10981097472.0000 - val_loss: 10597314560.0000 - val_mse: 10597314560.0000\n",
      "Epoch 8/50\n",
      "409/409 [==============================] - 2s 5ms/step - loss: 10405355520.0000 - mse: 10405355520.0000 - val_loss: 10137869312.0000 - val_mse: 10137869312.0000\n",
      "Epoch 9/50\n",
      "409/409 [==============================] - 2s 4ms/step - loss: 10016185344.0000 - mse: 10016185344.0000 - val_loss: 9785431040.0000 - val_mse: 9785431040.0000\n",
      "Epoch 10/50\n",
      "409/409 [==============================] - 2s 4ms/step - loss: 9710613504.0000 - mse: 9710613504.0000 - val_loss: 9501086720.0000 - val_mse: 9501086720.0000\n",
      "Epoch 11/50\n",
      "409/409 [==============================] - 2s 4ms/step - loss: 9461372928.0000 - mse: 9461372928.0000 - val_loss: 9266130944.0000 - val_mse: 9266130944.0000\n",
      "Epoch 12/50\n",
      "409/409 [==============================] - 2s 4ms/step - loss: 9256380416.0000 - mse: 9256380416.0000 - val_loss: 9071242240.0000 - val_mse: 9071242240.0000\n",
      "Epoch 13/50\n",
      "409/409 [==============================] - 2s 4ms/step - loss: 9085413376.0000 - mse: 9085413376.0000 - val_loss: 8907549696.0000 - val_mse: 8907549696.0000\n",
      "Epoch 14/50\n",
      "409/409 [==============================] - 2s 5ms/step - loss: 8941414400.0000 - mse: 8941414400.0000 - val_loss: 8767730688.0000 - val_mse: 8767730688.0000\n",
      "Epoch 15/50\n",
      "409/409 [==============================] - 2s 5ms/step - loss: 8816930816.0000 - mse: 8816930816.0000 - val_loss: 8649283584.0000 - val_mse: 8649283584.0000\n",
      "Epoch 16/50\n",
      "409/409 [==============================] - 2s 4ms/step - loss: 8708030464.0000 - mse: 8708030464.0000 - val_loss: 8537928192.0000 - val_mse: 8537928192.0000\n",
      "Epoch 17/50\n",
      "409/409 [==============================] - 2s 5ms/step - loss: 8609887232.0000 - mse: 8609887232.0000 - val_loss: 8440000000.0000 - val_mse: 8440000000.0000\n",
      "Epoch 18/50\n",
      "409/409 [==============================] - 2s 5ms/step - loss: 8517741056.0000 - mse: 8517741056.0000 - val_loss: 8348330496.0000 - val_mse: 8348330496.0000\n",
      "Epoch 19/50\n",
      "409/409 [==============================] - 2s 5ms/step - loss: 8431514112.0000 - mse: 8431514112.0000 - val_loss: 8260900864.0000 - val_mse: 8260900864.0000\n",
      "Epoch 20/50\n",
      "409/409 [==============================] - 2s 4ms/step - loss: 8346372608.0000 - mse: 8346372608.0000 - val_loss: 8175618560.0000 - val_mse: 8175618560.0000\n",
      "Epoch 21/50\n",
      "409/409 [==============================] - 2s 4ms/step - loss: 8263785984.0000 - mse: 8263785984.0000 - val_loss: 8094751232.0000 - val_mse: 8094751232.0000\n",
      "Epoch 22/50\n",
      "409/409 [==============================] - 2s 4ms/step - loss: 8181195776.0000 - mse: 8181195776.0000 - val_loss: 8017609728.0000 - val_mse: 8017609728.0000\n",
      "Epoch 23/50\n",
      "409/409 [==============================] - 2s 4ms/step - loss: 8098952704.0000 - mse: 8098952704.0000 - val_loss: 7930796032.0000 - val_mse: 7930796032.0000\n",
      "Epoch 24/50\n",
      "409/409 [==============================] - 2s 4ms/step - loss: 8016069632.0000 - mse: 8016069632.0000 - val_loss: 7851457024.0000 - val_mse: 7851457024.0000\n",
      "Epoch 25/50\n",
      "409/409 [==============================] - 2s 5ms/step - loss: 7934344704.0000 - mse: 7934344704.0000 - val_loss: 7769719808.0000 - val_mse: 7769719808.0000\n",
      "Epoch 26/50\n",
      "409/409 [==============================] - 2s 5ms/step - loss: 7849674752.0000 - mse: 7849674752.0000 - val_loss: 7689388544.0000 - val_mse: 7689388544.0000\n",
      "Epoch 27/50\n",
      "409/409 [==============================] - 2s 4ms/step - loss: 7767367168.0000 - mse: 7767367168.0000 - val_loss: 7612858880.0000 - val_mse: 7612858880.0000\n",
      "Epoch 28/50\n",
      "409/409 [==============================] - 2s 4ms/step - loss: 7683290112.0000 - mse: 7683290112.0000 - val_loss: 7531448832.0000 - val_mse: 7531448832.0000\n",
      "Epoch 29/50\n",
      "409/409 [==============================] - 2s 4ms/step - loss: 7598154752.0000 - mse: 7598154752.0000 - val_loss: 7447049728.0000 - val_mse: 7447049728.0000\n",
      "Epoch 30/50\n",
      "409/409 [==============================] - 2s 4ms/step - loss: 7511007744.0000 - mse: 7511007744.0000 - val_loss: 7365561856.0000 - val_mse: 7365561856.0000\n",
      "Epoch 31/50\n",
      "409/409 [==============================] - 2s 4ms/step - loss: 7422926336.0000 - mse: 7422926336.0000 - val_loss: 7280131584.0000 - val_mse: 7280131584.0000\n",
      "Epoch 32/50\n",
      "409/409 [==============================] - 2s 4ms/step - loss: 7333027328.0000 - mse: 7333027328.0000 - val_loss: 7194428928.0000 - val_mse: 7194428928.0000\n",
      "Epoch 33/50\n",
      "409/409 [==============================] - 2s 4ms/step - loss: 7243126784.0000 - mse: 7243126784.0000 - val_loss: 7109266944.0000 - val_mse: 7109266944.0000\n",
      "Epoch 34/50\n",
      "409/409 [==============================] - 2s 4ms/step - loss: 7150789120.0000 - mse: 7150789120.0000 - val_loss: 7029487616.0000 - val_mse: 7029487616.0000\n",
      "Epoch 35/50\n",
      "409/409 [==============================] - 2s 4ms/step - loss: 7062376448.0000 - mse: 7062376448.0000 - val_loss: 6938971136.0000 - val_mse: 6938971136.0000\n",
      "Epoch 36/50\n",
      "409/409 [==============================] - 2s 5ms/step - loss: 6969938432.0000 - mse: 6969938432.0000 - val_loss: 6853062656.0000 - val_mse: 6853062656.0000\n",
      "Epoch 37/50\n",
      "409/409 [==============================] - 2s 5ms/step - loss: 6876822016.0000 - mse: 6876822016.0000 - val_loss: 6766242816.0000 - val_mse: 6766242816.0000\n",
      "Epoch 38/50\n",
      "409/409 [==============================] - 2s 5ms/step - loss: 6783242240.0000 - mse: 6783242240.0000 - val_loss: 6675807744.0000 - val_mse: 6675807744.0000\n",
      "Epoch 39/50\n",
      "409/409 [==============================] - 2s 4ms/step - loss: 6689204736.0000 - mse: 6689204736.0000 - val_loss: 6587065856.0000 - val_mse: 6587065856.0000\n",
      "Epoch 40/50\n",
      "409/409 [==============================] - 2s 4ms/step - loss: 6594299904.0000 - mse: 6594299904.0000 - val_loss: 6499568640.0000 - val_mse: 6499568640.0000\n",
      "Epoch 41/50\n",
      "409/409 [==============================] - 2s 4ms/step - loss: 6498992128.0000 - mse: 6498992128.0000 - val_loss: 6413554688.0000 - val_mse: 6413554688.0000\n",
      "Epoch 42/50\n",
      "409/409 [==============================] - 2s 4ms/step - loss: 6405153792.0000 - mse: 6405153792.0000 - val_loss: 6323893760.0000 - val_mse: 6323893760.0000\n",
      "Epoch 43/50\n",
      "409/409 [==============================] - 2s 4ms/step - loss: 6311828480.0000 - mse: 6311828480.0000 - val_loss: 6237781504.0000 - val_mse: 6237781504.0000\n",
      "Epoch 44/50\n",
      "409/409 [==============================] - 2s 4ms/step - loss: 6220014080.0000 - mse: 6220014080.0000 - val_loss: 6155295232.0000 - val_mse: 6155295232.0000\n",
      "Epoch 45/50\n",
      "409/409 [==============================] - 2s 4ms/step - loss: 6128334336.0000 - mse: 6128334336.0000 - val_loss: 6071000576.0000 - val_mse: 6071000576.0000\n",
      "Epoch 46/50\n",
      "409/409 [==============================] - 2s 4ms/step - loss: 6037339648.0000 - mse: 6037339648.0000 - val_loss: 5991073792.0000 - val_mse: 5991073792.0000\n",
      "Epoch 47/50\n",
      "409/409 [==============================] - 2s 4ms/step - loss: 5949999616.0000 - mse: 5949999616.0000 - val_loss: 5911278080.0000 - val_mse: 5911278080.0000\n",
      "Epoch 48/50\n",
      "409/409 [==============================] - 2s 4ms/step - loss: 5864276992.0000 - mse: 5864276992.0000 - val_loss: 5832428032.0000 - val_mse: 5832428032.0000\n",
      "Epoch 49/50\n",
      "409/409 [==============================] - 2s 4ms/step - loss: 5781722112.0000 - mse: 5781722112.0000 - val_loss: 5761099776.0000 - val_mse: 5761099776.0000\n",
      "Epoch 50/50\n",
      "409/409 [==============================] - 2s 4ms/step - loss: 5703447040.0000 - mse: 5703447040.0000 - val_loss: 5698294784.0000 - val_mse: 5698294784.0000\n"
     ]
    }
   ],
   "source": [
    "feature_layer = DenseFeatures(feature_columns, dtype='float64')\n",
    "\n",
    "model = Sequential([\n",
    "  feature_layer,\n",
    "  Dense(32, input_dim=8, activation='relu'),\n",
    "  Dense(8, activation='relu'),\n",
    "  Dense(1, activation='linear',  name='median_house_value')\n",
    "])\n",
    "\n",
    "model.compile(optimizer='adam', loss='mse', metrics=['mse'])\n",
    "\n",
    "history = model.fit(train_ds, validation_data=val_ds, epochs=50)"
   ]
  },
  {
   "cell_type": "code",
   "execution_count": 23,
   "metadata": {
    "colab": {
     "base_uri": "https://localhost:8080/"
    },
    "id": "ZtFSpkd9UoAW",
    "outputId": "8d6bd651-d2fa-48de-9a2e-a31ff64f8a8c"
   },
   "outputs": [
    {
     "name": "stdout",
     "output_type": "stream",
     "text": [
      "Mean Squared Error 5664258560.0\n"
     ]
    }
   ],
   "source": [
    "loss, mse = model.evaluate(test_ds, verbose=0)\n",
    "print(\"Mean Squared Error\", mse)"
   ]
  },
  {
   "cell_type": "code",
   "execution_count": 24,
   "metadata": {
    "id": "936EKUT6GKrK"
   },
   "outputs": [],
   "source": [
    "def plot_curves(history, metrics):\n",
    "    fig = plt.figure(figsize=(10, 5))\n",
    "\n",
    "    for idx, key in enumerate(metrics):  \n",
    "        ax = fig.add_subplot(1, 2, idx+1)\n",
    "        plt.plot(history.history[key])\n",
    "        plt.plot(history.history['val_{}'.format(key)])\n",
    "        plt.title(f'{key}')\n",
    "        plt.ylabel(key)\n",
    "        plt.xlabel('epoch')\n",
    "        plt.legend(['train', 'validation']);  "
   ]
  },
  {
   "cell_type": "code",
   "execution_count": 25,
   "metadata": {
    "colab": {
     "base_uri": "https://localhost:8080/",
     "height": 350
    },
    "id": "O8kWMa6xUn-M",
    "outputId": "1e9754ed-3b7a-4c3d-f790-f0b08f7ffde2"
   },
   "outputs": [
    {
     "data": {
      "image/png": "[encoded data removed]",
      "text/plain": [
       "<Figure size 720x360 with 2 Axes>"
      ]
     },
     "metadata": {
      "needs_background": "light",
      "tags": []
     },
     "output_type": "display_data"
    }
   ],
   "source": [
    "plot_curves(history, ['loss', 'mse'])"
   ]
  },
  {
   "cell_type": "code",
   "execution_count": 26,
   "metadata": {
    "colab": {
     "base_uri": "https://localhost:8080/"
    },
    "id": "R2banTWHT6PH",
    "outputId": "c2fa905c-9ce8-4285-cceb-5240c5bc31d4"
   },
   "outputs": [
    {
     "name": "stdout",
     "output_type": "stream",
     "text": [
      "WARNING:tensorflow:Layers in a Sequential model should only have a single input tensor, but we receive a <class 'dict'> input: {'longitude': <tf.Tensor 'ExpandDims_3:0' shape=(None, 1) dtype=float32>, 'latitude': <tf.Tensor 'ExpandDims_2:0' shape=(None, 1) dtype=float32>, 'housing_median_age': <tf.Tensor 'ExpandDims_1:0' shape=(None, 1) dtype=float32>, 'total_rooms': <tf.Tensor 'ExpandDims_8:0' shape=(None, 1) dtype=float32>, 'total_bedrooms': <tf.Tensor 'ExpandDims_7:0' shape=(None, 1) dtype=float32>, 'population': <tf.Tensor 'ExpandDims_6:0' shape=(None, 1) dtype=float32>, 'households': <tf.Tensor 'ExpandDims:0' shape=(None, 1) dtype=float32>, 'median_income': <tf.Tensor 'ExpandDims_4:0' shape=(None, 1) dtype=float32>, 'ocean_proximity': <tf.Tensor 'ExpandDims_5:0' shape=(None, 1) dtype=string>}\n",
      "Consider rewriting this model with the Functional API.\n"
     ]
    },
    {
     "data": {
      "text/plain": [
       "array([[290148.9]], dtype=float32)"
      ]
     },
     "execution_count": 26,
     "metadata": {
      "tags": []
     },
     "output_type": "execute_result"
    }
   ],
   "source": [
    "# Median_house_value is $249,000 for NEAR OCEAN\n",
    "model.predict({\n",
    "    'longitude': tf.convert_to_tensor([-122.43]),\n",
    "    'latitude': tf.convert_to_tensor([37.63]),\n",
    "    'housing_median_age': tf.convert_to_tensor([34.0]),\n",
    "    'total_rooms': tf.convert_to_tensor([4135.0]),\n",
    "    'total_bedrooms': tf.convert_to_tensor([687.0]),\n",
    "    'population': tf.convert_to_tensor([2154.0]),\n",
    "    'households': tf.convert_to_tensor([742.0]),\n",
    "    'median_income': tf.convert_to_tensor([4.9732]),\n",
    "    'ocean_proximity': tf.convert_to_tensor(['NEAR OCEAN'])\n",
    "})"
   ]
  },
  {
   "cell_type": "markdown",
   "metadata": {
    "id": "rcbdA3arXkej"
   },
   "source": [
    "### Analysis \n",
    "\n",
    "이제 \"feature engineering 템플릿\" 설정이 완료되었으므로 추가 feature를 만들어 실험할 수 있습니다. 예를 들어, 인구당 가구와 같은 파생 피쳐를 생성하고 모델에 미치는 영향을 확인할 수 있습니다. 특성 교차를 생성하는 데 사용한 특성을 대체하는 실험을 할 수도 있습니다."
   ]
  },
  {
   "cell_type": "code",
   "execution_count": 26,
   "metadata": {
    "id": "4tKBdzGKFVV7"
   },
   "outputs": [],
   "source": []
  }
 ],
 "metadata": {
  "accelerator": "GPU",
  "colab": {
   "collapsed_sections": [],
   "machine_shape": "hm",
   "name": "130_keras_basic_feat_eng.ipynb",
   "provenance": []
  },
  "kernelspec": {
   "display_name": "Python 3",
   "language": "python",
   "name": "python3"
  },
  "language_info": {
   "codemirror_mode": {
    "name": "ipython",
    "version": 3
   },
   "file_extension": ".py",
   "mimetype": "text/x-python",
   "name": "python",
   "nbconvert_exporter": "python",
   "pygments_lexer": "ipython3",
   "version": "3.7.10"
  }
 },
 "nbformat": 4,
 "nbformat_minor": 1
}
