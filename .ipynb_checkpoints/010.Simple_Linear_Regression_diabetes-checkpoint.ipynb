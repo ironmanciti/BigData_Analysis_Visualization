{
 "cells": [
  {
   "cell_type": "markdown",
   "metadata": {
    "slideshow": {
     "slide_type": "slide"
    }
   },
   "source": [
    "# 010.Simple Linear Regression\n",
    "\n",
    "## Univariate Linear Regression (단변수 선형회귀)"
   ]
  },
  {
   "cell_type": "code",
   "execution_count": 1,
   "metadata": {
    "slideshow": {
     "slide_type": "subslide"
    }
   },
   "outputs": [],
   "source": [
    "import matplotlib.pyplot as plt\n",
    "import numpy as np\n",
    "from sklearn import datasets, linear_model\n",
    "from sklearn.metrics import mean_squared_error, r2_score\n",
    "import pandas as pd"
   ]
  },
  {
   "cell_type": "code",
   "execution_count": 2,
   "metadata": {
    "slideshow": {
     "slide_type": "subslide"
    }
   },
   "outputs": [
    {
     "data": {
      "text/plain": [
       "['age', 'sex', 'bmi', 'bp', 's1', 's2', 's3', 's4', 's5', 's6']"
      ]
     },
     "execution_count": 2,
     "metadata": {},
     "output_type": "execute_result"
    }
   ],
   "source": [
    "# Load the diabetes dataset\n",
    "# 나이, 성별, 체질량지수, 혈압, 6가지 혈청 수치  --> already scaled\n",
    "diabetes = datasets.load_diabetes()\n",
    "diabetes.feature_names"
   ]
  },
  {
   "cell_type": "code",
   "execution_count": 3,
   "metadata": {
    "slideshow": {
     "slide_type": "subslide"
    }
   },
   "outputs": [
    {
     "data": {
      "text/plain": [
       "(442, 10)"
      ]
     },
     "execution_count": 3,
     "metadata": {},
     "output_type": "execute_result"
    }
   ],
   "source": [
    "diabetes.data.shape"
   ]
  },
  {
   "cell_type": "code",
   "execution_count": 4,
   "metadata": {
    "slideshow": {
     "slide_type": "subslide"
    }
   },
   "outputs": [
    {
     "data": {
      "text/plain": [
       "array([[ 0.03807591,  0.05068012,  0.06169621,  0.02187235, -0.0442235 ,\n",
       "        -0.03482076, -0.04340085, -0.00259226,  0.01990842, -0.01764613],\n",
       "       [-0.00188202, -0.04464164, -0.05147406, -0.02632783, -0.00844872,\n",
       "        -0.01916334,  0.07441156, -0.03949338, -0.06832974, -0.09220405],\n",
       "       [ 0.08529891,  0.05068012,  0.04445121, -0.00567061, -0.04559945,\n",
       "        -0.03419447, -0.03235593, -0.00259226,  0.00286377, -0.02593034],\n",
       "       [-0.08906294, -0.04464164, -0.01159501, -0.03665645,  0.01219057,\n",
       "         0.02499059, -0.03603757,  0.03430886,  0.02269202, -0.00936191],\n",
       "       [ 0.00538306, -0.04464164, -0.03638469,  0.02187235,  0.00393485,\n",
       "         0.01559614,  0.00814208, -0.00259226, -0.03199144, -0.04664087]])"
      ]
     },
     "execution_count": 4,
     "metadata": {},
     "output_type": "execute_result"
    }
   ],
   "source": [
    "diabetes.data[:5]"
   ]
  },
  {
   "cell_type": "code",
   "execution_count": 5,
   "metadata": {
    "slideshow": {
     "slide_type": "subslide"
    }
   },
   "outputs": [
    {
     "data": {
      "text/plain": [
       "array([151.,  75., 141., 206., 135.])"
      ]
     },
     "execution_count": 5,
     "metadata": {},
     "output_type": "execute_result"
    }
   ],
   "source": [
    "#1년 뒤 측정한 당뇨병의 진행률 - target(label)\n",
    "diabetes.target[:5]"
   ]
  },
  {
   "cell_type": "code",
   "execution_count": 6,
   "metadata": {
    "slideshow": {
     "slide_type": "subslide"
    }
   },
   "outputs": [],
   "source": [
    "df_diab  = pd.DataFrame(data=diabetes.data, columns=diabetes.feature_names)"
   ]
  },
  {
   "cell_type": "code",
   "execution_count": 7,
   "metadata": {
    "slideshow": {
     "slide_type": "subslide"
    }
   },
   "outputs": [
    {
     "data": {
      "text/html": [
       "<div>\n",
       "<style scoped>\n",
       "    .dataframe tbody tr th:only-of-type {\n",
       "        vertical-align: middle;\n",
       "    }\n",
       "\n",
       "    .dataframe tbody tr th {\n",
       "        vertical-align: top;\n",
       "    }\n",
       "\n",
       "    .dataframe thead th {\n",
       "        text-align: right;\n",
       "    }\n",
       "</style>\n",
       "<table border=\"1\" class=\"dataframe\">\n",
       "  <thead>\n",
       "    <tr style=\"text-align: right;\">\n",
       "      <th></th>\n",
       "      <th>age</th>\n",
       "      <th>sex</th>\n",
       "      <th>bmi</th>\n",
       "      <th>bp</th>\n",
       "      <th>s1</th>\n",
       "      <th>s2</th>\n",
       "      <th>s3</th>\n",
       "      <th>s4</th>\n",
       "      <th>s5</th>\n",
       "      <th>s6</th>\n",
       "    </tr>\n",
       "  </thead>\n",
       "  <tbody>\n",
       "    <tr>\n",
       "      <th>0</th>\n",
       "      <td>0.038076</td>\n",
       "      <td>0.050680</td>\n",
       "      <td>0.061696</td>\n",
       "      <td>0.021872</td>\n",
       "      <td>-0.044223</td>\n",
       "      <td>-0.034821</td>\n",
       "      <td>-0.043401</td>\n",
       "      <td>-0.002592</td>\n",
       "      <td>0.019908</td>\n",
       "      <td>-0.017646</td>\n",
       "    </tr>\n",
       "    <tr>\n",
       "      <th>1</th>\n",
       "      <td>-0.001882</td>\n",
       "      <td>-0.044642</td>\n",
       "      <td>-0.051474</td>\n",
       "      <td>-0.026328</td>\n",
       "      <td>-0.008449</td>\n",
       "      <td>-0.019163</td>\n",
       "      <td>0.074412</td>\n",
       "      <td>-0.039493</td>\n",
       "      <td>-0.068330</td>\n",
       "      <td>-0.092204</td>\n",
       "    </tr>\n",
       "    <tr>\n",
       "      <th>2</th>\n",
       "      <td>0.085299</td>\n",
       "      <td>0.050680</td>\n",
       "      <td>0.044451</td>\n",
       "      <td>-0.005671</td>\n",
       "      <td>-0.045599</td>\n",
       "      <td>-0.034194</td>\n",
       "      <td>-0.032356</td>\n",
       "      <td>-0.002592</td>\n",
       "      <td>0.002864</td>\n",
       "      <td>-0.025930</td>\n",
       "    </tr>\n",
       "    <tr>\n",
       "      <th>3</th>\n",
       "      <td>-0.089063</td>\n",
       "      <td>-0.044642</td>\n",
       "      <td>-0.011595</td>\n",
       "      <td>-0.036656</td>\n",
       "      <td>0.012191</td>\n",
       "      <td>0.024991</td>\n",
       "      <td>-0.036038</td>\n",
       "      <td>0.034309</td>\n",
       "      <td>0.022692</td>\n",
       "      <td>-0.009362</td>\n",
       "    </tr>\n",
       "    <tr>\n",
       "      <th>4</th>\n",
       "      <td>0.005383</td>\n",
       "      <td>-0.044642</td>\n",
       "      <td>-0.036385</td>\n",
       "      <td>0.021872</td>\n",
       "      <td>0.003935</td>\n",
       "      <td>0.015596</td>\n",
       "      <td>0.008142</td>\n",
       "      <td>-0.002592</td>\n",
       "      <td>-0.031991</td>\n",
       "      <td>-0.046641</td>\n",
       "    </tr>\n",
       "  </tbody>\n",
       "</table>\n",
       "</div>"
      ],
      "text/plain": [
       "        age       sex       bmi        bp        s1        s2        s3  \\\n",
       "0  0.038076  0.050680  0.061696  0.021872 -0.044223 -0.034821 -0.043401   \n",
       "1 -0.001882 -0.044642 -0.051474 -0.026328 -0.008449 -0.019163  0.074412   \n",
       "2  0.085299  0.050680  0.044451 -0.005671 -0.045599 -0.034194 -0.032356   \n",
       "3 -0.089063 -0.044642 -0.011595 -0.036656  0.012191  0.024991 -0.036038   \n",
       "4  0.005383 -0.044642 -0.036385  0.021872  0.003935  0.015596  0.008142   \n",
       "\n",
       "         s4        s5        s6  \n",
       "0 -0.002592  0.019908 -0.017646  \n",
       "1 -0.039493 -0.068330 -0.092204  \n",
       "2 -0.002592  0.002864 -0.025930  \n",
       "3  0.034309  0.022692 -0.009362  \n",
       "4 -0.002592 -0.031991 -0.046641  "
      ]
     },
     "execution_count": 7,
     "metadata": {},
     "output_type": "execute_result"
    }
   ],
   "source": [
    "df_diab.head()"
   ]
  },
  {
   "cell_type": "markdown",
   "metadata": {},
   "source": [
    "## univariate linear regression data 생성"
   ]
  },
  {
   "cell_type": "code",
   "execution_count": 78,
   "metadata": {
    "slideshow": {
     "slide_type": "subslide"
    }
   },
   "outputs": [],
   "source": [
    "# Use only one feature (단변수 선형회귀)\n",
    "\n",
    "X = df_diab['bmi'].values.reshape(-1, 1)"
   ]
  },
  {
   "cell_type": "code",
   "execution_count": 79,
   "metadata": {
    "slideshow": {
     "slide_type": "subslide"
    }
   },
   "outputs": [],
   "source": [
    "# training/testing data set 분할\n",
    "\n",
    "X_train = X[:-20]\n",
    "X_test  = X[-20:]"
   ]
  },
  {
   "cell_type": "code",
   "execution_count": 80,
   "metadata": {
    "slideshow": {
     "slide_type": "subslide"
    }
   },
   "outputs": [],
   "source": [
    "# targets data 를 training/testing set 으로 분리\n",
    "\n",
    "y_train = diabetes.target[:-20]\n",
    "y_test = diabetes.target[-20:]"
   ]
  },
  {
   "cell_type": "markdown",
   "metadata": {},
   "source": [
    "## sklearn model 이용"
   ]
  },
  {
   "cell_type": "code",
   "execution_count": 81,
   "metadata": {
    "slideshow": {
     "slide_type": "subslide"
    }
   },
   "outputs": [],
   "source": [
    "# regression object 생성\n",
    "regr = linear_model.LinearRegression()"
   ]
  },
  {
   "cell_type": "code",
   "execution_count": 82,
   "metadata": {
    "slideshow": {
     "slide_type": "subslide"
    }
   },
   "outputs": [
    {
     "data": {
      "text/plain": [
       "LinearRegression()"
      ]
     },
     "execution_count": 82,
     "metadata": {},
     "output_type": "execute_result"
    }
   ],
   "source": [
    "# training set 을 이용하여 model 훈련\n",
    "\n",
    "regr.fit(X_train, y_train)"
   ]
  },
  {
   "cell_type": "code",
   "execution_count": 83,
   "metadata": {
    "slideshow": {
     "slide_type": "subslide"
    }
   },
   "outputs": [
    {
     "name": "stdout",
     "output_type": "stream",
     "text": [
      "Coefficients: \n",
      " [938.23786125]\n",
      "Intercept: \n",
      " 152.91886182616167\n"
     ]
    }
   ],
   "source": [
    "# The coefficients\n",
    "print('Coefficients: \\n', regr.coef_)\n",
    "print('Intercept: \\n', regr.intercept_)"
   ]
  },
  {
   "cell_type": "markdown",
   "metadata": {},
   "source": [
    "- 훈련된 model 을 이용하여 new data 예측"
   ]
  },
  {
   "cell_type": "code",
   "execution_count": 84,
   "metadata": {},
   "outputs": [
    {
     "name": "stdout",
     "output_type": "stream",
     "text": [
      "[106.00696876]\n",
      "[176.37480836]\n"
     ]
    }
   ],
   "source": [
    "print(regr.predict(np.array([[-0.050]])))\n",
    "print(regr.predict(np.array([[0.025]])))"
   ]
  },
  {
   "cell_type": "code",
   "execution_count": 85,
   "metadata": {},
   "outputs": [],
   "source": [
    "y_pred = regr.predict(X_test)"
   ]
  },
  {
   "cell_type": "code",
   "execution_count": 20,
   "metadata": {
    "scrolled": true,
    "slideshow": {
     "slide_type": "subslide"
    }
   },
   "outputs": [
    {
     "data": {
      "image/png": "[encoded data removed]",
      "text/plain": [
       "<Figure size 432x288 with 1 Axes>"
      ]
     },
     "metadata": {
      "needs_background": "light"
     },
     "output_type": "display_data"
    }
   ],
   "source": [
    "# visualization\n",
    "\n",
    "plt.scatter(X_test, y_test,  color='black')\n",
    "plt.plot(X_test, y_pred, color='blue', linewidth=3)\n",
    "\n",
    "plt.xlabel('bmi') \n",
    "plt.ylabel('progress')\n",
    "plt.show()"
   ]
  },
  {
   "cell_type": "markdown",
   "metadata": {},
   "source": [
    "## R2 계산"
   ]
  },
  {
   "cell_type": "code",
   "execution_count": 21,
   "metadata": {},
   "outputs": [
    {
     "name": "stdout",
     "output_type": "stream",
     "text": [
      "결정계수 : 0.47\n"
     ]
    }
   ],
   "source": [
    "print(\"결정계수 : {:.2f}\".format(r2_score(y_test, y_pred)))"
   ]
  },
  {
   "cell_type": "markdown",
   "metadata": {
    "slideshow": {
     "slide_type": "slide"
    }
   },
   "source": [
    "## Multivariate Linear Regression (다변수 선형회귀)\n",
    "\n",
    "bmi, bp 두가지 변수를 이용한 Linear Regression"
   ]
  },
  {
   "cell_type": "code",
   "execution_count": 43,
   "metadata": {
    "slideshow": {
     "slide_type": "subslide"
    }
   },
   "outputs": [
    {
     "data": {
      "text/html": [
       "<div>\n",
       "<style scoped>\n",
       "    .dataframe tbody tr th:only-of-type {\n",
       "        vertical-align: middle;\n",
       "    }\n",
       "\n",
       "    .dataframe tbody tr th {\n",
       "        vertical-align: top;\n",
       "    }\n",
       "\n",
       "    .dataframe thead th {\n",
       "        text-align: right;\n",
       "    }\n",
       "</style>\n",
       "<table border=\"1\" class=\"dataframe\">\n",
       "  <thead>\n",
       "    <tr style=\"text-align: right;\">\n",
       "      <th></th>\n",
       "      <th>age</th>\n",
       "      <th>sex</th>\n",
       "      <th>bmi</th>\n",
       "      <th>bp</th>\n",
       "      <th>s1</th>\n",
       "      <th>s2</th>\n",
       "      <th>s3</th>\n",
       "      <th>s4</th>\n",
       "      <th>s5</th>\n",
       "      <th>s6</th>\n",
       "    </tr>\n",
       "  </thead>\n",
       "  <tbody>\n",
       "    <tr>\n",
       "      <th>0</th>\n",
       "      <td>0.038076</td>\n",
       "      <td>0.050680</td>\n",
       "      <td>0.061696</td>\n",
       "      <td>0.021872</td>\n",
       "      <td>-0.044223</td>\n",
       "      <td>-0.034821</td>\n",
       "      <td>-0.043401</td>\n",
       "      <td>-0.002592</td>\n",
       "      <td>0.019908</td>\n",
       "      <td>-0.017646</td>\n",
       "    </tr>\n",
       "    <tr>\n",
       "      <th>1</th>\n",
       "      <td>-0.001882</td>\n",
       "      <td>-0.044642</td>\n",
       "      <td>-0.051474</td>\n",
       "      <td>-0.026328</td>\n",
       "      <td>-0.008449</td>\n",
       "      <td>-0.019163</td>\n",
       "      <td>0.074412</td>\n",
       "      <td>-0.039493</td>\n",
       "      <td>-0.068330</td>\n",
       "      <td>-0.092204</td>\n",
       "    </tr>\n",
       "    <tr>\n",
       "      <th>2</th>\n",
       "      <td>0.085299</td>\n",
       "      <td>0.050680</td>\n",
       "      <td>0.044451</td>\n",
       "      <td>-0.005671</td>\n",
       "      <td>-0.045599</td>\n",
       "      <td>-0.034194</td>\n",
       "      <td>-0.032356</td>\n",
       "      <td>-0.002592</td>\n",
       "      <td>0.002864</td>\n",
       "      <td>-0.025930</td>\n",
       "    </tr>\n",
       "    <tr>\n",
       "      <th>3</th>\n",
       "      <td>-0.089063</td>\n",
       "      <td>-0.044642</td>\n",
       "      <td>-0.011595</td>\n",
       "      <td>-0.036656</td>\n",
       "      <td>0.012191</td>\n",
       "      <td>0.024991</td>\n",
       "      <td>-0.036038</td>\n",
       "      <td>0.034309</td>\n",
       "      <td>0.022692</td>\n",
       "      <td>-0.009362</td>\n",
       "    </tr>\n",
       "    <tr>\n",
       "      <th>4</th>\n",
       "      <td>0.005383</td>\n",
       "      <td>-0.044642</td>\n",
       "      <td>-0.036385</td>\n",
       "      <td>0.021872</td>\n",
       "      <td>0.003935</td>\n",
       "      <td>0.015596</td>\n",
       "      <td>0.008142</td>\n",
       "      <td>-0.002592</td>\n",
       "      <td>-0.031991</td>\n",
       "      <td>-0.046641</td>\n",
       "    </tr>\n",
       "  </tbody>\n",
       "</table>\n",
       "</div>"
      ],
      "text/plain": [
       "        age       sex       bmi        bp        s1        s2        s3  \\\n",
       "0  0.038076  0.050680  0.061696  0.021872 -0.044223 -0.034821 -0.043401   \n",
       "1 -0.001882 -0.044642 -0.051474 -0.026328 -0.008449 -0.019163  0.074412   \n",
       "2  0.085299  0.050680  0.044451 -0.005671 -0.045599 -0.034194 -0.032356   \n",
       "3 -0.089063 -0.044642 -0.011595 -0.036656  0.012191  0.024991 -0.036038   \n",
       "4  0.005383 -0.044642 -0.036385  0.021872  0.003935  0.015596  0.008142   \n",
       "\n",
       "         s4        s5        s6  \n",
       "0 -0.002592  0.019908 -0.017646  \n",
       "1 -0.039493 -0.068330 -0.092204  \n",
       "2 -0.002592  0.002864 -0.025930  \n",
       "3  0.034309  0.022692 -0.009362  \n",
       "4 -0.002592 -0.031991 -0.046641  "
      ]
     },
     "execution_count": 43,
     "metadata": {},
     "output_type": "execute_result"
    }
   ],
   "source": [
    "df_diab.head()"
   ]
  },
  {
   "cell_type": "code",
   "execution_count": 49,
   "metadata": {
    "slideshow": {
     "slide_type": "subslide"
    }
   },
   "outputs": [],
   "source": [
    "# 2 개의 feature 를 사용\n",
    "X = df_diab[['bmi', 'bp']].values"
   ]
  },
  {
   "cell_type": "code",
   "execution_count": 50,
   "metadata": {
    "slideshow": {
     "slide_type": "subslide"
    }
   },
   "outputs": [
    {
     "data": {
      "text/plain": [
       "(442, 2)"
      ]
     },
     "execution_count": 50,
     "metadata": {},
     "output_type": "execute_result"
    }
   ],
   "source": [
    "X.shape"
   ]
  },
  {
   "cell_type": "code",
   "execution_count": 51,
   "metadata": {
    "slideshow": {
     "slide_type": "subslide"
    }
   },
   "outputs": [
    {
     "data": {
      "text/plain": [
       "((422, 2), (20, 2), (422,), (20,))"
      ]
     },
     "execution_count": 51,
     "metadata": {},
     "output_type": "execute_result"
    }
   ],
   "source": [
    "# Split the data into training/testing sets\n",
    "X_train = X[:-20]\n",
    "X_test  = X[-20:]\n",
    "\n",
    "# Split the targets into training/testing sets\n",
    "y_train = diabetes.target[:-20]\n",
    "y_test = diabetes.target[-20:]\n",
    "\n",
    "X_train.shape, X_test.shape, y_train.shape, y_test.shape"
   ]
  },
  {
   "cell_type": "code",
   "execution_count": 52,
   "metadata": {
    "slideshow": {
     "slide_type": "subslide"
    }
   },
   "outputs": [],
   "source": [
    "# Create linear regression object\n",
    "regr = linear_model.LinearRegression()"
   ]
  },
  {
   "cell_type": "code",
   "execution_count": 53,
   "metadata": {
    "slideshow": {
     "slide_type": "subslide"
    }
   },
   "outputs": [
    {
     "data": {
      "text/plain": [
       "LinearRegression()"
      ]
     },
     "execution_count": 53,
     "metadata": {},
     "output_type": "execute_result"
    }
   ],
   "source": [
    "# Train the model using the training sets\n",
    "regr.fit(X_train, y_train)"
   ]
  },
  {
   "cell_type": "code",
   "execution_count": 54,
   "metadata": {
    "slideshow": {
     "slide_type": "subslide"
    }
   },
   "outputs": [],
   "source": [
    "# Make predictions using the testing set\n",
    "y_pred = regr.predict(X_test)"
   ]
  },
  {
   "cell_type": "code",
   "execution_count": 55,
   "metadata": {
    "slideshow": {
     "slide_type": "subslide"
    }
   },
   "outputs": [
    {
     "name": "stdout",
     "output_type": "stream",
     "text": [
      "Coefficients: \n",
      " [781.17008831 410.14503587]\n",
      "Intercept: \n",
      " 152.86283685571757\n"
     ]
    }
   ],
   "source": [
    "# The coefficients\n",
    "print('Coefficients: \\n', regr.coef_)\n",
    "print('Intercept: \\n', regr.intercept_)"
   ]
  },
  {
   "cell_type": "markdown",
   "metadata": {},
   "source": [
    "- 훈련된 model 을 이용하여 new data 예측"
   ]
  },
  {
   "cell_type": "code",
   "execution_count": 56,
   "metadata": {},
   "outputs": [
    {
     "data": {
      "text/plain": [
       "array([184.59556623])"
      ]
     },
     "execution_count": 56,
     "metadata": {},
     "output_type": "execute_result"
    }
   ],
   "source": [
    "regr.predict(np.array([[0.08, -0.075]]))"
   ]
  },
  {
   "cell_type": "code",
   "execution_count": 57,
   "metadata": {
    "slideshow": {
     "slide_type": "subslide"
    }
   },
   "outputs": [
    {
     "name": "stdout",
     "output_type": "stream",
     "text": [
      "결정계수: 0.47\n"
     ]
    }
   ],
   "source": [
    "# R2 계산 \n",
    "print(\"결정계수: {:.2f}\".format(r2_score(y_test, y_pred)))"
   ]
  },
  {
   "cell_type": "markdown",
   "metadata": {},
   "source": [
    "## meshgrid 를 이용한 3 차원 공간의 regression surface 시각화"
   ]
  },
  {
   "cell_type": "code",
   "execution_count": 58,
   "metadata": {},
   "outputs": [
    {
     "data": {
      "text/plain": [
       "(array([[1, 2, 3, 4, 5],\n",
       "        [1, 2, 3, 4, 5],\n",
       "        [1, 2, 3, 4, 5],\n",
       "        [1, 2, 3, 4, 5],\n",
       "        [1, 2, 3, 4, 5]]),\n",
       " array([[1, 1, 1, 1, 1],\n",
       "        [2, 2, 2, 2, 2],\n",
       "        [3, 3, 3, 3, 3],\n",
       "        [4, 4, 4, 4, 4],\n",
       "        [5, 5, 5, 5, 5]]))"
      ]
     },
     "execution_count": 58,
     "metadata": {},
     "output_type": "execute_result"
    }
   ],
   "source": [
    "X1, X2 = np.meshgrid([1, 2, 3, 4, 5], [1,2, 3, 4, 5])\n",
    "X1, X2"
   ]
  },
  {
   "cell_type": "code",
   "execution_count": 59,
   "metadata": {},
   "outputs": [
    {
     "data": {
      "text/plain": [
       "Text(0, 0.5, 'X2')"
      ]
     },
     "execution_count": 59,
     "metadata": {},
     "output_type": "execute_result"
    },
    {
     "data": {
      "image/png": "[encoded data removed]",
      "text/plain": [
       "<Figure size 432x288 with 1 Axes>"
      ]
     },
     "metadata": {
      "needs_background": "light"
     },
     "output_type": "display_data"
    }
   ],
   "source": [
    "plt.scatter(X1, X2)\n",
    "plt.xlabel(\"X1\")\n",
    "plt.ylabel(\"X2\")"
   ]
  },
  {
   "cell_type": "code",
   "execution_count": 60,
   "metadata": {},
   "outputs": [
    {
     "data": {
      "text/plain": [
       "(array([1, 2, 3, 4, 5, 1, 2, 3, 4, 5, 1, 2, 3, 4, 5, 1, 2, 3, 4, 5, 1, 2,\n",
       "        3, 4, 5]),\n",
       " array([1, 1, 1, 1, 1, 2, 2, 2, 2, 2, 3, 3, 3, 3, 3, 4, 4, 4, 4, 4, 5, 5,\n",
       "        5, 5, 5]))"
      ]
     },
     "execution_count": 60,
     "metadata": {},
     "output_type": "execute_result"
    }
   ],
   "source": [
    "X1.ravel(), X2.ravel()"
   ]
  },
  {
   "cell_type": "code",
   "execution_count": 61,
   "metadata": {},
   "outputs": [
    {
     "name": "stdout",
     "output_type": "stream",
     "text": [
      "(25, 2)\n"
     ]
    },
    {
     "data": {
      "text/plain": [
       "array([[1, 1],\n",
       "       [2, 1],\n",
       "       [3, 1],\n",
       "       [4, 1],\n",
       "       [5, 1],\n",
       "       [1, 2],\n",
       "       [2, 2],\n",
       "       [3, 2],\n",
       "       [4, 2],\n",
       "       [5, 2]])"
      ]
     },
     "execution_count": 61,
     "metadata": {},
     "output_type": "execute_result"
    }
   ],
   "source": [
    "XX = np.column_stack([X1.ravel(), X2.ravel()])\n",
    "print(XX.shape)\n",
    "XX[:10]"
   ]
  },
  {
   "cell_type": "code",
   "execution_count": 62,
   "metadata": {},
   "outputs": [],
   "source": [
    "Y = regr.predict(XX)"
   ]
  },
  {
   "cell_type": "markdown",
   "metadata": {},
   "source": [
    "- 3차원 상의 평면 시각화"
   ]
  },
  {
   "cell_type": "code",
   "execution_count": 63,
   "metadata": {},
   "outputs": [
    {
     "data": {
      "application/javascript": [
       "/* Put everything inside the global mpl namespace */\n",
       "/* global mpl */\n",
       "window.mpl = {};\n",
       "\n",
       "mpl.get_websocket_type = function () {\n",
       "    if (typeof WebSocket !== 'undefined') {\n",
       "        return WebSocket;\n",
       "    } else if (typeof MozWebSocket !== 'undefined') {\n",
       "        return MozWebSocket;\n",
       "    } else {\n",
       "        alert(\n",
       "            'Your browser does not have WebSocket support. ' +\n",
       "                'Please try Chrome, Safari or Firefox ≥ 6. ' +\n",
       "                'Firefox 4 and 5 are also supported but you ' +\n",
       "                'have to enable WebSockets in about:config.'\n",
       "        );\n",
       "    }\n",
       "};\n",
       "\n",
       "mpl.figure = function (figure_id, websocket, ondownload, parent_element) {\n",
       "    this.id = figure_id;\n",
       "\n",
       "    this.ws = websocket;\n",
       "\n",
       "    this.supports_binary = this.ws.binaryType !== undefined;\n",
       "\n",
       "    if (!this.supports_binary) {\n",
       "        var warnings = document.getElementById('mpl-warnings');\n",
       "        if (warnings) {\n",
       "            warnings.style.display = 'block';\n",
       "            warnings.textContent =\n",
       "                'This browser does not support binary websocket messages. ' +\n",
       "                'Performance may be slow.';\n",
       "        }\n",
       "    }\n",
       "\n",
       "    this.imageObj = new Image();\n",
       "\n",
       "    this.context = undefined;\n",
       "    this.message = undefined;\n",
       "    this.canvas = undefined;\n",
       "    this.rubberband_canvas = undefined;\n",
       "    this.rubberband_context = undefined;\n",
       "    this.format_dropdown = undefined;\n",
       "\n",
       "    this.image_mode = 'full';\n",
       "\n",
       "    this.root = document.createElement('div');\n",
       "    this.root.setAttribute('style', 'display: inline-block');\n",
       "    this._root_extra_style(this.root);\n",
       "\n",
       "    parent_element.appendChild(this.root);\n",
       "\n",
       "    this._init_header(this);\n",
       "    this._init_canvas(this);\n",
       "    this._init_toolbar(this);\n",
       "\n",
       "    var fig = this;\n",
       "\n",
       "    this.waiting = false;\n",
       "\n",
       "    this.ws.onopen = function () {\n",
       "        fig.send_message('supports_binary', { value: fig.supports_binary });\n",
       "        fig.send_message('send_image_mode', {});\n",
       "        if (fig.ratio !== 1) {\n",
       "            fig.send_message('set_dpi_ratio', { dpi_ratio: fig.ratio });\n",
       "        }\n",
       "        fig.send_message('refresh', {});\n",
       "    };\n",
       "\n",
       "    this.imageObj.onload = function () {\n",
       "        if (fig.image_mode === 'full') {\n",
       "            // Full images could contain transparency (where diff images\n",
       "            // almost always do), so we need to clear the canvas so that\n",
       "            // there is no ghosting.\n",
       "            fig.context.clearRect(0, 0, fig.canvas.width, fig.canvas.height);\n",
       "        }\n",
       "        fig.context.drawImage(fig.imageObj, 0, 0);\n",
       "    };\n",
       "\n",
       "    this.imageObj.onunload = function () {\n",
       "        fig.ws.close();\n",
       "    };\n",
       "\n",
       "    this.ws.onmessage = this._make_on_message_function(this);\n",
       "\n",
       "    this.ondownload = ondownload;\n",
       "};\n",
       "\n",
       "mpl.figure.prototype._init_header = function () {\n",
       "    var titlebar = document.createElement('div');\n",
       "    titlebar.classList =\n",
       "        'ui-dialog-titlebar ui-widget-header ui-corner-all ui-helper-clearfix';\n",
       "    var titletext = document.createElement('div');\n",
       "    titletext.classList = 'ui-dialog-title';\n",
       "    titletext.setAttribute(\n",
       "        'style',\n",
       "        'width: 100%; text-align: center; padding: 3px;'\n",
       "    );\n",
       "    titlebar.appendChild(titletext);\n",
       "    this.root.appendChild(titlebar);\n",
       "    this.header = titletext;\n",
       "};\n",
       "\n",
       "mpl.figure.prototype._canvas_extra_style = function (_canvas_div) {};\n",
       "\n",
       "mpl.figure.prototype._root_extra_style = function (_canvas_div) {};\n",
       "\n",
       "mpl.figure.prototype._init_canvas = function () {\n",
       "    var fig = this;\n",
       "\n",
       "    var canvas_div = (this.canvas_div = document.createElement('div'));\n",
       "    canvas_div.setAttribute(\n",
       "        'style',\n",
       "        'border: 1px solid #ddd;' +\n",
       "            'box-sizing: content-box;' +\n",
       "            'clear: both;' +\n",
       "            'min-height: 1px;' +\n",
       "            'min-width: 1px;' +\n",
       "            'outline: 0;' +\n",
       "            'overflow: hidden;' +\n",
       "            'position: relative;' +\n",
       "            'resize: both;'\n",
       "    );\n",
       "\n",
       "    function on_keyboard_event_closure(name) {\n",
       "        return function (event) {\n",
       "            return fig.key_event(event, name);\n",
       "        };\n",
       "    }\n",
       "\n",
       "    canvas_div.addEventListener(\n",
       "        'keydown',\n",
       "        on_keyboard_event_closure('key_press')\n",
       "    );\n",
       "    canvas_div.addEventListener(\n",
       "        'keyup',\n",
       "        on_keyboard_event_closure('key_release')\n",
       "    );\n",
       "\n",
       "    this._canvas_extra_style(canvas_div);\n",
       "    this.root.appendChild(canvas_div);\n",
       "\n",
       "    var canvas = (this.canvas = document.createElement('canvas'));\n",
       "    canvas.classList.add('mpl-canvas');\n",
       "    canvas.setAttribute('style', 'box-sizing: content-box;');\n",
       "\n",
       "    this.context = canvas.getContext('2d');\n",
       "\n",
       "    var backingStore =\n",
       "        this.context.backingStorePixelRatio ||\n",
       "        this.context.webkitBackingStorePixelRatio ||\n",
       "        this.context.mozBackingStorePixelRatio ||\n",
       "        this.context.msBackingStorePixelRatio ||\n",
       "        this.context.oBackingStorePixelRatio ||\n",
       "        this.context.backingStorePixelRatio ||\n",
       "        1;\n",
       "\n",
       "    this.ratio = (window.devicePixelRatio || 1) / backingStore;\n",
       "\n",
       "    var rubberband_canvas = (this.rubberband_canvas = document.createElement(\n",
       "        'canvas'\n",
       "    ));\n",
       "    rubberband_canvas.setAttribute(\n",
       "        'style',\n",
       "        'box-sizing: content-box; position: absolute; left: 0; top: 0; z-index: 1;'\n",
       "    );\n",
       "\n",
       "    // Apply a ponyfill if ResizeObserver is not implemented by browser.\n",
       "    if (this.ResizeObserver === undefined) {\n",
       "        if (window.ResizeObserver !== undefined) {\n",
       "            this.ResizeObserver = window.ResizeObserver;\n",
       "        } else {\n",
       "            var obs = _JSXTOOLS_RESIZE_OBSERVER({});\n",
       "            this.ResizeObserver = obs.ResizeObserver;\n",
       "        }\n",
       "    }\n",
       "\n",
       "    this.resizeObserverInstance = new this.ResizeObserver(function (entries) {\n",
       "        var nentries = entries.length;\n",
       "        for (var i = 0; i < nentries; i++) {\n",
       "            var entry = entries[i];\n",
       "            var width, height;\n",
       "            if (entry.contentBoxSize) {\n",
       "                if (entry.contentBoxSize instanceof Array) {\n",
       "                    // Chrome 84 implements new version of spec.\n",
       "                    width = entry.contentBoxSize[0].inlineSize;\n",
       "                    height = entry.contentBoxSize[0].blockSize;\n",
       "                } else {\n",
       "                    // Firefox implements old version of spec.\n",
       "                    width = entry.contentBoxSize.inlineSize;\n",
       "                    height = entry.contentBoxSize.blockSize;\n",
       "                }\n",
       "            } else {\n",
       "                // Chrome <84 implements even older version of spec.\n",
       "                width = entry.contentRect.width;\n",
       "                height = entry.contentRect.height;\n",
       "            }\n",
       "\n",
       "            // Keep the size of the canvas and rubber band canvas in sync with\n",
       "            // the canvas container.\n",
       "            if (entry.devicePixelContentBoxSize) {\n",
       "                // Chrome 84 implements new version of spec.\n",
       "                canvas.setAttribute(\n",
       "                    'width',\n",
       "                    entry.devicePixelContentBoxSize[0].inlineSize\n",
       "                );\n",
       "                canvas.setAttribute(\n",
       "                    'height',\n",
       "                    entry.devicePixelContentBoxSize[0].blockSize\n",
       "                );\n",
       "            } else {\n",
       "                canvas.setAttribute('width', width * fig.ratio);\n",
       "                canvas.setAttribute('height', height * fig.ratio);\n",
       "            }\n",
       "            canvas.setAttribute(\n",
       "                'style',\n",
       "                'width: ' + width + 'px; height: ' + height + 'px;'\n",
       "            );\n",
       "\n",
       "            rubberband_canvas.setAttribute('width', width);\n",
       "            rubberband_canvas.setAttribute('height', height);\n",
       "\n",
       "            // And update the size in Python. We ignore the initial 0/0 size\n",
       "            // that occurs as the element is placed into the DOM, which should\n",
       "            // otherwise not happen due to the minimum size styling.\n",
       "            if (fig.ws.readyState == 1 && width != 0 && height != 0) {\n",
       "                fig.request_resize(width, height);\n",
       "            }\n",
       "        }\n",
       "    });\n",
       "    this.resizeObserverInstance.observe(canvas_div);\n",
       "\n",
       "    function on_mouse_event_closure(name) {\n",
       "        return function (event) {\n",
       "            return fig.mouse_event(event, name);\n",
       "        };\n",
       "    }\n",
       "\n",
       "    rubberband_canvas.addEventListener(\n",
       "        'mousedown',\n",
       "        on_mouse_event_closure('button_press')\n",
       "    );\n",
       "    rubberband_canvas.addEventListener(\n",
       "        'mouseup',\n",
       "        on_mouse_event_closure('button_release')\n",
       "    );\n",
       "    // Throttle sequential mouse events to 1 every 20ms.\n",
       "    rubberband_canvas.addEventListener(\n",
       "        'mousemove',\n",
       "        on_mouse_event_closure('motion_notify')\n",
       "    );\n",
       "\n",
       "    rubberband_canvas.addEventListener(\n",
       "        'mouseenter',\n",
       "        on_mouse_event_closure('figure_enter')\n",
       "    );\n",
       "    rubberband_canvas.addEventListener(\n",
       "        'mouseleave',\n",
       "        on_mouse_event_closure('figure_leave')\n",
       "    );\n",
       "\n",
       "    canvas_div.addEventListener('wheel', function (event) {\n",
       "        if (event.deltaY < 0) {\n",
       "            event.step = 1;\n",
       "        } else {\n",
       "            event.step = -1;\n",
       "        }\n",
       "        on_mouse_event_closure('scroll')(event);\n",
       "    });\n",
       "\n",
       "    canvas_div.appendChild(canvas);\n",
       "    canvas_div.appendChild(rubberband_canvas);\n",
       "\n",
       "    this.rubberband_context = rubberband_canvas.getContext('2d');\n",
       "    this.rubberband_context.strokeStyle = '#000000';\n",
       "\n",
       "    this._resize_canvas = function (width, height, forward) {\n",
       "        if (forward) {\n",
       "            canvas_div.style.width = width + 'px';\n",
       "            canvas_div.style.height = height + 'px';\n",
       "        }\n",
       "    };\n",
       "\n",
       "    // Disable right mouse context menu.\n",
       "    this.rubberband_canvas.addEventListener('contextmenu', function (_e) {\n",
       "        event.preventDefault();\n",
       "        return false;\n",
       "    });\n",
       "\n",
       "    function set_focus() {\n",
       "        canvas.focus();\n",
       "        canvas_div.focus();\n",
       "    }\n",
       "\n",
       "    window.setTimeout(set_focus, 100);\n",
       "};\n",
       "\n",
       "mpl.figure.prototype._init_toolbar = function () {\n",
       "    var fig = this;\n",
       "\n",
       "    var toolbar = document.createElement('div');\n",
       "    toolbar.classList = 'mpl-toolbar';\n",
       "    this.root.appendChild(toolbar);\n",
       "\n",
       "    function on_click_closure(name) {\n",
       "        return function (_event) {\n",
       "            return fig.toolbar_button_onclick(name);\n",
       "        };\n",
       "    }\n",
       "\n",
       "    function on_mouseover_closure(tooltip) {\n",
       "        return function (event) {\n",
       "            if (!event.currentTarget.disabled) {\n",
       "                return fig.toolbar_button_onmouseover(tooltip);\n",
       "            }\n",
       "        };\n",
       "    }\n",
       "\n",
       "    fig.buttons = {};\n",
       "    var buttonGroup = document.createElement('div');\n",
       "    buttonGroup.classList = 'mpl-button-group';\n",
       "    for (var toolbar_ind in mpl.toolbar_items) {\n",
       "        var name = mpl.toolbar_items[toolbar_ind][0];\n",
       "        var tooltip = mpl.toolbar_items[toolbar_ind][1];\n",
       "        var image = mpl.toolbar_items[toolbar_ind][2];\n",
       "        var method_name = mpl.toolbar_items[toolbar_ind][3];\n",
       "\n",
       "        if (!name) {\n",
       "            /* Instead of a spacer, we start a new button group. */\n",
       "            if (buttonGroup.hasChildNodes()) {\n",
       "                toolbar.appendChild(buttonGroup);\n",
       "            }\n",
       "            buttonGroup = document.createElement('div');\n",
       "            buttonGroup.classList = 'mpl-button-group';\n",
       "            continue;\n",
       "        }\n",
       "\n",
       "        var button = (fig.buttons[name] = document.createElement('button'));\n",
       "        button.classList = 'mpl-widget';\n",
       "        button.setAttribute('role', 'button');\n",
       "        button.setAttribute('aria-disabled', 'false');\n",
       "        button.addEventListener('click', on_click_closure(method_name));\n",
       "        button.addEventListener('mouseover', on_mouseover_closure(tooltip));\n",
       "\n",
       "        var icon_img = document.createElement('img');\n",
       "        icon_img.src = '_images/' + image + '.png';\n",
       "        icon_img.srcset = '_images/' + image + '_large.png 2x';\n",
       "        icon_img.alt = tooltip;\n",
       "        button.appendChild(icon_img);\n",
       "\n",
       "        buttonGroup.appendChild(button);\n",
       "    }\n",
       "\n",
       "    if (buttonGroup.hasChildNodes()) {\n",
       "        toolbar.appendChild(buttonGroup);\n",
       "    }\n",
       "\n",
       "    var fmt_picker = document.createElement('select');\n",
       "    fmt_picker.classList = 'mpl-widget';\n",
       "    toolbar.appendChild(fmt_picker);\n",
       "    this.format_dropdown = fmt_picker;\n",
       "\n",
       "    for (var ind in mpl.extensions) {\n",
       "        var fmt = mpl.extensions[ind];\n",
       "        var option = document.createElement('option');\n",
       "        option.selected = fmt === mpl.default_extension;\n",
       "        option.innerHTML = fmt;\n",
       "        fmt_picker.appendChild(option);\n",
       "    }\n",
       "\n",
       "    var status_bar = document.createElement('span');\n",
       "    status_bar.classList = 'mpl-message';\n",
       "    toolbar.appendChild(status_bar);\n",
       "    this.message = status_bar;\n",
       "};\n",
       "\n",
       "mpl.figure.prototype.request_resize = function (x_pixels, y_pixels) {\n",
       "    // Request matplotlib to resize the figure. Matplotlib will then trigger a resize in the client,\n",
       "    // which will in turn request a refresh of the image.\n",
       "    this.send_message('resize', { width: x_pixels, height: y_pixels });\n",
       "};\n",
       "\n",
       "mpl.figure.prototype.send_message = function (type, properties) {\n",
       "    properties['type'] = type;\n",
       "    properties['figure_id'] = this.id;\n",
       "    this.ws.send(JSON.stringify(properties));\n",
       "};\n",
       "\n",
       "mpl.figure.prototype.send_draw_message = function () {\n",
       "    if (!this.waiting) {\n",
       "        this.waiting = true;\n",
       "        this.ws.send(JSON.stringify({ type: 'draw', figure_id: this.id }));\n",
       "    }\n",
       "};\n",
       "\n",
       "mpl.figure.prototype.handle_save = function (fig, _msg) {\n",
       "    var format_dropdown = fig.format_dropdown;\n",
       "    var format = format_dropdown.options[format_dropdown.selectedIndex].value;\n",
       "    fig.ondownload(fig, format);\n",
       "};\n",
       "\n",
       "mpl.figure.prototype.handle_resize = function (fig, msg) {\n",
       "    var size = msg['size'];\n",
       "    if (size[0] !== fig.canvas.width || size[1] !== fig.canvas.height) {\n",
       "        fig._resize_canvas(size[0], size[1], msg['forward']);\n",
       "        fig.send_message('refresh', {});\n",
       "    }\n",
       "};\n",
       "\n",
       "mpl.figure.prototype.handle_rubberband = function (fig, msg) {\n",
       "    var x0 = msg['x0'] / fig.ratio;\n",
       "    var y0 = (fig.canvas.height - msg['y0']) / fig.ratio;\n",
       "    var x1 = msg['x1'] / fig.ratio;\n",
       "    var y1 = (fig.canvas.height - msg['y1']) / fig.ratio;\n",
       "    x0 = Math.floor(x0) + 0.5;\n",
       "    y0 = Math.floor(y0) + 0.5;\n",
       "    x1 = Math.floor(x1) + 0.5;\n",
       "    y1 = Math.floor(y1) + 0.5;\n",
       "    var min_x = Math.min(x0, x1);\n",
       "    var min_y = Math.min(y0, y1);\n",
       "    var width = Math.abs(x1 - x0);\n",
       "    var height = Math.abs(y1 - y0);\n",
       "\n",
       "    fig.rubberband_context.clearRect(\n",
       "        0,\n",
       "        0,\n",
       "        fig.canvas.width / fig.ratio,\n",
       "        fig.canvas.height / fig.ratio\n",
       "    );\n",
       "\n",
       "    fig.rubberband_context.strokeRect(min_x, min_y, width, height);\n",
       "};\n",
       "\n",
       "mpl.figure.prototype.handle_figure_label = function (fig, msg) {\n",
       "    // Updates the figure title.\n",
       "    fig.header.textContent = msg['label'];\n",
       "};\n",
       "\n",
       "mpl.figure.prototype.handle_cursor = function (fig, msg) {\n",
       "    var cursor = msg['cursor'];\n",
       "    switch (cursor) {\n",
       "        case 0:\n",
       "            cursor = 'pointer';\n",
       "            break;\n",
       "        case 1:\n",
       "            cursor = 'default';\n",
       "            break;\n",
       "        case 2:\n",
       "            cursor = 'crosshair';\n",
       "            break;\n",
       "        case 3:\n",
       "            cursor = 'move';\n",
       "            break;\n",
       "    }\n",
       "    fig.rubberband_canvas.style.cursor = cursor;\n",
       "};\n",
       "\n",
       "mpl.figure.prototype.handle_message = function (fig, msg) {\n",
       "    fig.message.textContent = msg['message'];\n",
       "};\n",
       "\n",
       "mpl.figure.prototype.handle_draw = function (fig, _msg) {\n",
       "    // Request the server to send over a new figure.\n",
       "    fig.send_draw_message();\n",
       "};\n",
       "\n",
       "mpl.figure.prototype.handle_image_mode = function (fig, msg) {\n",
       "    fig.image_mode = msg['mode'];\n",
       "};\n",
       "\n",
       "mpl.figure.prototype.handle_history_buttons = function (fig, msg) {\n",
       "    for (var key in msg) {\n",
       "        if (!(key in fig.buttons)) {\n",
       "            continue;\n",
       "        }\n",
       "        fig.buttons[key].disabled = !msg[key];\n",
       "        fig.buttons[key].setAttribute('aria-disabled', !msg[key]);\n",
       "    }\n",
       "};\n",
       "\n",
       "mpl.figure.prototype.handle_navigate_mode = function (fig, msg) {\n",
       "    if (msg['mode'] === 'PAN') {\n",
       "        fig.buttons['Pan'].classList.add('active');\n",
       "        fig.buttons['Zoom'].classList.remove('active');\n",
       "    } else if (msg['mode'] === 'ZOOM') {\n",
       "        fig.buttons['Pan'].classList.remove('active');\n",
       "        fig.buttons['Zoom'].classList.add('active');\n",
       "    } else {\n",
       "        fig.buttons['Pan'].classList.remove('active');\n",
       "        fig.buttons['Zoom'].classList.remove('active');\n",
       "    }\n",
       "};\n",
       "\n",
       "mpl.figure.prototype.updated_canvas_event = function () {\n",
       "    // Called whenever the canvas gets updated.\n",
       "    this.send_message('ack', {});\n",
       "};\n",
       "\n",
       "// A function to construct a web socket function for onmessage handling.\n",
       "// Called in the figure constructor.\n",
       "mpl.figure.prototype._make_on_message_function = function (fig) {\n",
       "    return function socket_on_message(evt) {\n",
       "        if (evt.data instanceof Blob) {\n",
       "            /* FIXME: We get \"Resource interpreted as Image but\n",
       "             * transferred with MIME type text/plain:\" errors on\n",
       "             * Chrome.  But how to set the MIME type?  It doesn't seem\n",
       "             * to be part of the websocket stream */\n",
       "            evt.data.type = 'image/png';\n",
       "\n",
       "            /* Free the memory for the previous frames */\n",
       "            if (fig.imageObj.src) {\n",
       "                (window.URL || window.webkitURL).revokeObjectURL(\n",
       "                    fig.imageObj.src\n",
       "                );\n",
       "            }\n",
       "\n",
       "            fig.imageObj.src = (window.URL || window.webkitURL).createObjectURL(\n",
       "                evt.data\n",
       "            );\n",
       "            fig.updated_canvas_event();\n",
       "            fig.waiting = false;\n",
       "            return;\n",
       "        } else if (\n",
       "            typeof evt.data === 'string' &&\n",
       "            evt.data.slice(0, 21) === 'data:image/png;base64'\n",
       "        ) {\n",
       "            fig.imageObj.src = evt.data;\n",
       "            fig.updated_canvas_event();\n",
       "            fig.waiting = false;\n",
       "            return;\n",
       "        }\n",
       "\n",
       "        var msg = JSON.parse(evt.data);\n",
       "        var msg_type = msg['type'];\n",
       "\n",
       "        // Call the  \"handle_{type}\" callback, which takes\n",
       "        // the figure and JSON message as its only arguments.\n",
       "        try {\n",
       "            var callback = fig['handle_' + msg_type];\n",
       "        } catch (e) {\n",
       "            console.log(\n",
       "                \"No handler for the '\" + msg_type + \"' message type: \",\n",
       "                msg\n",
       "            );\n",
       "            return;\n",
       "        }\n",
       "\n",
       "        if (callback) {\n",
       "            try {\n",
       "                // console.log(\"Handling '\" + msg_type + \"' message: \", msg);\n",
       "                callback(fig, msg);\n",
       "            } catch (e) {\n",
       "                console.log(\n",
       "                    \"Exception inside the 'handler_\" + msg_type + \"' callback:\",\n",
       "                    e,\n",
       "                    e.stack,\n",
       "                    msg\n",
       "                );\n",
       "            }\n",
       "        }\n",
       "    };\n",
       "};\n",
       "\n",
       "// from http://stackoverflow.com/questions/1114465/getting-mouse-location-in-canvas\n",
       "mpl.findpos = function (e) {\n",
       "    //this section is from http://www.quirksmode.org/js/events_properties.html\n",
       "    var targ;\n",
       "    if (!e) {\n",
       "        e = window.event;\n",
       "    }\n",
       "    if (e.target) {\n",
       "        targ = e.target;\n",
       "    } else if (e.srcElement) {\n",
       "        targ = e.srcElement;\n",
       "    }\n",
       "    if (targ.nodeType === 3) {\n",
       "        // defeat Safari bug\n",
       "        targ = targ.parentNode;\n",
       "    }\n",
       "\n",
       "    // pageX,Y are the mouse positions relative to the document\n",
       "    var boundingRect = targ.getBoundingClientRect();\n",
       "    var x = e.pageX - (boundingRect.left + document.body.scrollLeft);\n",
       "    var y = e.pageY - (boundingRect.top + document.body.scrollTop);\n",
       "\n",
       "    return { x: x, y: y };\n",
       "};\n",
       "\n",
       "/*\n",
       " * return a copy of an object with only non-object keys\n",
       " * we need this to avoid circular references\n",
       " * http://stackoverflow.com/a/24161582/3208463\n",
       " */\n",
       "function simpleKeys(original) {\n",
       "    return Object.keys(original).reduce(function (obj, key) {\n",
       "        if (typeof original[key] !== 'object') {\n",
       "            obj[key] = original[key];\n",
       "        }\n",
       "        return obj;\n",
       "    }, {});\n",
       "}\n",
       "\n",
       "mpl.figure.prototype.mouse_event = function (event, name) {\n",
       "    var canvas_pos = mpl.findpos(event);\n",
       "\n",
       "    if (name === 'button_press') {\n",
       "        this.canvas.focus();\n",
       "        this.canvas_div.focus();\n",
       "    }\n",
       "\n",
       "    var x = canvas_pos.x * this.ratio;\n",
       "    var y = canvas_pos.y * this.ratio;\n",
       "\n",
       "    this.send_message(name, {\n",
       "        x: x,\n",
       "        y: y,\n",
       "        button: event.button,\n",
       "        step: event.step,\n",
       "        guiEvent: simpleKeys(event),\n",
       "    });\n",
       "\n",
       "    /* This prevents the web browser from automatically changing to\n",
       "     * the text insertion cursor when the button is pressed.  We want\n",
       "     * to control all of the cursor setting manually through the\n",
       "     * 'cursor' event from matplotlib */\n",
       "    event.preventDefault();\n",
       "    return false;\n",
       "};\n",
       "\n",
       "mpl.figure.prototype._key_event_extra = function (_event, _name) {\n",
       "    // Handle any extra behaviour associated with a key event\n",
       "};\n",
       "\n",
       "mpl.figure.prototype.key_event = function (event, name) {\n",
       "    // Prevent repeat events\n",
       "    if (name === 'key_press') {\n",
       "        if (event.which === this._key) {\n",
       "            return;\n",
       "        } else {\n",
       "            this._key = event.which;\n",
       "        }\n",
       "    }\n",
       "    if (name === 'key_release') {\n",
       "        this._key = null;\n",
       "    }\n",
       "\n",
       "    var value = '';\n",
       "    if (event.ctrlKey && event.which !== 17) {\n",
       "        value += 'ctrl+';\n",
       "    }\n",
       "    if (event.altKey && event.which !== 18) {\n",
       "        value += 'alt+';\n",
       "    }\n",
       "    if (event.shiftKey && event.which !== 16) {\n",
       "        value += 'shift+';\n",
       "    }\n",
       "\n",
       "    value += 'k';\n",
       "    value += event.which.toString();\n",
       "\n",
       "    this._key_event_extra(event, name);\n",
       "\n",
       "    this.send_message(name, { key: value, guiEvent: simpleKeys(event) });\n",
       "    return false;\n",
       "};\n",
       "\n",
       "mpl.figure.prototype.toolbar_button_onclick = function (name) {\n",
       "    if (name === 'download') {\n",
       "        this.handle_save(this, null);\n",
       "    } else {\n",
       "        this.send_message('toolbar_button', { name: name });\n",
       "    }\n",
       "};\n",
       "\n",
       "mpl.figure.prototype.toolbar_button_onmouseover = function (tooltip) {\n",
       "    this.message.textContent = tooltip;\n",
       "};\n",
       "\n",
       "///////////////// REMAINING CONTENT GENERATED BY embed_js.py /////////////////\n",
       "// prettier-ignore\n",
       "var _JSXTOOLS_RESIZE_OBSERVER=function(A){var t,i=new WeakMap,n=new WeakMap,a=new WeakMap,r=new WeakMap,o=new Set;function s(e){if(!(this instanceof s))throw new TypeError(\"Constructor requires 'new' operator\");i.set(this,e)}function h(){throw new TypeError(\"Function is not a constructor\")}function c(e,t,i,n){e=0 in arguments?Number(arguments[0]):0,t=1 in arguments?Number(arguments[1]):0,i=2 in arguments?Number(arguments[2]):0,n=3 in arguments?Number(arguments[3]):0,this.right=(this.x=this.left=e)+(this.width=i),this.bottom=(this.y=this.top=t)+(this.height=n),Object.freeze(this)}function d(){t=requestAnimationFrame(d);var s=new WeakMap,p=new Set;o.forEach((function(t){r.get(t).forEach((function(i){var r=t instanceof window.SVGElement,o=a.get(t),d=r?0:parseFloat(o.paddingTop),f=r?0:parseFloat(o.paddingRight),l=r?0:parseFloat(o.paddingBottom),u=r?0:parseFloat(o.paddingLeft),g=r?0:parseFloat(o.borderTopWidth),m=r?0:parseFloat(o.borderRightWidth),w=r?0:parseFloat(o.borderBottomWidth),b=u+f,F=d+l,v=(r?0:parseFloat(o.borderLeftWidth))+m,W=g+w,y=r?0:t.offsetHeight-W-t.clientHeight,E=r?0:t.offsetWidth-v-t.clientWidth,R=b+v,z=F+W,M=r?t.width:parseFloat(o.width)-R-E,O=r?t.height:parseFloat(o.height)-z-y;if(n.has(t)){var k=n.get(t);if(k[0]===M&&k[1]===O)return}n.set(t,[M,O]);var S=Object.create(h.prototype);S.target=t,S.contentRect=new c(u,d,M,O),s.has(i)||(s.set(i,[]),p.add(i)),s.get(i).push(S)}))})),p.forEach((function(e){i.get(e).call(e,s.get(e),e)}))}return s.prototype.observe=function(i){if(i instanceof window.Element){r.has(i)||(r.set(i,new Set),o.add(i),a.set(i,window.getComputedStyle(i)));var n=r.get(i);n.has(this)||n.add(this),cancelAnimationFrame(t),t=requestAnimationFrame(d)}},s.prototype.unobserve=function(i){if(i instanceof window.Element&&r.has(i)){var n=r.get(i);n.has(this)&&(n.delete(this),n.size||(r.delete(i),o.delete(i))),n.size||r.delete(i),o.size||cancelAnimationFrame(t)}},A.DOMRectReadOnly=c,A.ResizeObserver=s,A.ResizeObserverEntry=h,A}; // eslint-disable-line\n",
       "mpl.toolbar_items = [[\"Home\", \"Reset original view\", \"fa fa-home icon-home\", \"home\"], [\"Back\", \"Back to previous view\", \"fa fa-arrow-left icon-arrow-left\", \"back\"], [\"Forward\", \"Forward to next view\", \"fa fa-arrow-right icon-arrow-right\", \"forward\"], [\"\", \"\", \"\", \"\"], [\"Pan\", \"Left button pans, Right button zooms\\nx/y fixes axis, CTRL fixes aspect\", \"fa fa-arrows icon-move\", \"pan\"], [\"Zoom\", \"Zoom to rectangle\\nx/y fixes axis, CTRL fixes aspect\", \"fa fa-square-o icon-check-empty\", \"zoom\"], [\"\", \"\", \"\", \"\"], [\"Download\", \"Download plot\", \"fa fa-floppy-o icon-save\", \"download\"]];\n",
       "\n",
       "mpl.extensions = [\"eps\", \"jpeg\", \"pdf\", \"png\", \"ps\", \"raw\", \"svg\", \"tif\"];\n",
       "\n",
       "mpl.default_extension = \"png\";/* global mpl */\n",
       "\n",
       "var comm_websocket_adapter = function (comm) {\n",
       "    // Create a \"websocket\"-like object which calls the given IPython comm\n",
       "    // object with the appropriate methods. Currently this is a non binary\n",
       "    // socket, so there is still some room for performance tuning.\n",
       "    var ws = {};\n",
       "\n",
       "    ws.close = function () {\n",
       "        comm.close();\n",
       "    };\n",
       "    ws.send = function (m) {\n",
       "        //console.log('sending', m);\n",
       "        comm.send(m);\n",
       "    };\n",
       "    // Register the callback with on_msg.\n",
       "    comm.on_msg(function (msg) {\n",
       "        //console.log('receiving', msg['content']['data'], msg);\n",
       "        // Pass the mpl event to the overridden (by mpl) onmessage function.\n",
       "        ws.onmessage(msg['content']['data']);\n",
       "    });\n",
       "    return ws;\n",
       "};\n",
       "\n",
       "mpl.mpl_figure_comm = function (comm, msg) {\n",
       "    // This is the function which gets called when the mpl process\n",
       "    // starts-up an IPython Comm through the \"matplotlib\" channel.\n",
       "\n",
       "    var id = msg.content.data.id;\n",
       "    // Get hold of the div created by the display call when the Comm\n",
       "    // socket was opened in Python.\n",
       "    var element = document.getElementById(id);\n",
       "    var ws_proxy = comm_websocket_adapter(comm);\n",
       "\n",
       "    function ondownload(figure, _format) {\n",
       "        window.open(figure.canvas.toDataURL());\n",
       "    }\n",
       "\n",
       "    var fig = new mpl.figure(id, ws_proxy, ondownload, element);\n",
       "\n",
       "    // Call onopen now - mpl needs it, as it is assuming we've passed it a real\n",
       "    // web socket which is closed, not our websocket->open comm proxy.\n",
       "    ws_proxy.onopen();\n",
       "\n",
       "    fig.parent_element = element;\n",
       "    fig.cell_info = mpl.find_output_cell(\"<div id='\" + id + \"'></div>\");\n",
       "    if (!fig.cell_info) {\n",
       "        console.error('Failed to find cell for figure', id, fig);\n",
       "        return;\n",
       "    }\n",
       "    fig.cell_info[0].output_area.element.on(\n",
       "        'cleared',\n",
       "        { fig: fig },\n",
       "        fig._remove_fig_handler\n",
       "    );\n",
       "};\n",
       "\n",
       "mpl.figure.prototype.handle_close = function (fig, msg) {\n",
       "    var width = fig.canvas.width / fig.ratio;\n",
       "    fig.cell_info[0].output_area.element.off(\n",
       "        'cleared',\n",
       "        fig._remove_fig_handler\n",
       "    );\n",
       "    fig.resizeObserverInstance.unobserve(fig.canvas_div);\n",
       "\n",
       "    // Update the output cell to use the data from the current canvas.\n",
       "    fig.push_to_output();\n",
       "    var dataURL = fig.canvas.toDataURL();\n",
       "    // Re-enable the keyboard manager in IPython - without this line, in FF,\n",
       "    // the notebook keyboard shortcuts fail.\n",
       "    IPython.keyboard_manager.enable();\n",
       "    fig.parent_element.innerHTML =\n",
       "        '<img src=\"' + dataURL + '\" width=\"' + width + '\">';\n",
       "    fig.close_ws(fig, msg);\n",
       "};\n",
       "\n",
       "mpl.figure.prototype.close_ws = function (fig, msg) {\n",
       "    fig.send_message('closing', msg);\n",
       "    // fig.ws.close()\n",
       "};\n",
       "\n",
       "mpl.figure.prototype.push_to_output = function (_remove_interactive) {\n",
       "    // Turn the data on the canvas into data in the output cell.\n",
       "    var width = this.canvas.width / this.ratio;\n",
       "    var dataURL = this.canvas.toDataURL();\n",
       "    this.cell_info[1]['text/html'] =\n",
       "        '<img src=\"' + dataURL + '\" width=\"' + width + '\">';\n",
       "};\n",
       "\n",
       "mpl.figure.prototype.updated_canvas_event = function () {\n",
       "    // Tell IPython that the notebook contents must change.\n",
       "    IPython.notebook.set_dirty(true);\n",
       "    this.send_message('ack', {});\n",
       "    var fig = this;\n",
       "    // Wait a second, then push the new image to the DOM so\n",
       "    // that it is saved nicely (might be nice to debounce this).\n",
       "    setTimeout(function () {\n",
       "        fig.push_to_output();\n",
       "    }, 1000);\n",
       "};\n",
       "\n",
       "mpl.figure.prototype._init_toolbar = function () {\n",
       "    var fig = this;\n",
       "\n",
       "    var toolbar = document.createElement('div');\n",
       "    toolbar.classList = 'btn-toolbar';\n",
       "    this.root.appendChild(toolbar);\n",
       "\n",
       "    function on_click_closure(name) {\n",
       "        return function (_event) {\n",
       "            return fig.toolbar_button_onclick(name);\n",
       "        };\n",
       "    }\n",
       "\n",
       "    function on_mouseover_closure(tooltip) {\n",
       "        return function (event) {\n",
       "            if (!event.currentTarget.disabled) {\n",
       "                return fig.toolbar_button_onmouseover(tooltip);\n",
       "            }\n",
       "        };\n",
       "    }\n",
       "\n",
       "    fig.buttons = {};\n",
       "    var buttonGroup = document.createElement('div');\n",
       "    buttonGroup.classList = 'btn-group';\n",
       "    var button;\n",
       "    for (var toolbar_ind in mpl.toolbar_items) {\n",
       "        var name = mpl.toolbar_items[toolbar_ind][0];\n",
       "        var tooltip = mpl.toolbar_items[toolbar_ind][1];\n",
       "        var image = mpl.toolbar_items[toolbar_ind][2];\n",
       "        var method_name = mpl.toolbar_items[toolbar_ind][3];\n",
       "\n",
       "        if (!name) {\n",
       "            /* Instead of a spacer, we start a new button group. */\n",
       "            if (buttonGroup.hasChildNodes()) {\n",
       "                toolbar.appendChild(buttonGroup);\n",
       "            }\n",
       "            buttonGroup = document.createElement('div');\n",
       "            buttonGroup.classList = 'btn-group';\n",
       "            continue;\n",
       "        }\n",
       "\n",
       "        button = fig.buttons[name] = document.createElement('button');\n",
       "        button.classList = 'btn btn-default';\n",
       "        button.href = '#';\n",
       "        button.title = name;\n",
       "        button.innerHTML = '<i class=\"fa ' + image + ' fa-lg\"></i>';\n",
       "        button.addEventListener('click', on_click_closure(method_name));\n",
       "        button.addEventListener('mouseover', on_mouseover_closure(tooltip));\n",
       "        buttonGroup.appendChild(button);\n",
       "    }\n",
       "\n",
       "    if (buttonGroup.hasChildNodes()) {\n",
       "        toolbar.appendChild(buttonGroup);\n",
       "    }\n",
       "\n",
       "    // Add the status bar.\n",
       "    var status_bar = document.createElement('span');\n",
       "    status_bar.classList = 'mpl-message pull-right';\n",
       "    toolbar.appendChild(status_bar);\n",
       "    this.message = status_bar;\n",
       "\n",
       "    // Add the close button to the window.\n",
       "    var buttongrp = document.createElement('div');\n",
       "    buttongrp.classList = 'btn-group inline pull-right';\n",
       "    button = document.createElement('button');\n",
       "    button.classList = 'btn btn-mini btn-primary';\n",
       "    button.href = '#';\n",
       "    button.title = 'Stop Interaction';\n",
       "    button.innerHTML = '<i class=\"fa fa-power-off icon-remove icon-large\"></i>';\n",
       "    button.addEventListener('click', function (_evt) {\n",
       "        fig.handle_close(fig, {});\n",
       "    });\n",
       "    button.addEventListener(\n",
       "        'mouseover',\n",
       "        on_mouseover_closure('Stop Interaction')\n",
       "    );\n",
       "    buttongrp.appendChild(button);\n",
       "    var titlebar = this.root.querySelector('.ui-dialog-titlebar');\n",
       "    titlebar.insertBefore(buttongrp, titlebar.firstChild);\n",
       "};\n",
       "\n",
       "mpl.figure.prototype._remove_fig_handler = function (event) {\n",
       "    var fig = event.data.fig;\n",
       "    if (event.target !== this) {\n",
       "        // Ignore bubbled events from children.\n",
       "        return;\n",
       "    }\n",
       "    fig.close_ws(fig, {});\n",
       "};\n",
       "\n",
       "mpl.figure.prototype._root_extra_style = function (el) {\n",
       "    el.style.boxSizing = 'content-box'; // override notebook setting of border-box.\n",
       "};\n",
       "\n",
       "mpl.figure.prototype._canvas_extra_style = function (el) {\n",
       "    // this is important to make the div 'focusable\n",
       "    el.setAttribute('tabindex', 0);\n",
       "    // reach out to IPython and tell the keyboard manager to turn it's self\n",
       "    // off when our div gets focus\n",
       "\n",
       "    // location in version 3\n",
       "    if (IPython.notebook.keyboard_manager) {\n",
       "        IPython.notebook.keyboard_manager.register_events(el);\n",
       "    } else {\n",
       "        // location in version 2\n",
       "        IPython.keyboard_manager.register_events(el);\n",
       "    }\n",
       "};\n",
       "\n",
       "mpl.figure.prototype._key_event_extra = function (event, _name) {\n",
       "    var manager = IPython.notebook.keyboard_manager;\n",
       "    if (!manager) {\n",
       "        manager = IPython.keyboard_manager;\n",
       "    }\n",
       "\n",
       "    // Check for shift+enter\n",
       "    if (event.shiftKey && event.which === 13) {\n",
       "        this.canvas_div.blur();\n",
       "        // select the cell after this one\n",
       "        var index = IPython.notebook.find_cell_index(this.cell_info[0]);\n",
       "        IPython.notebook.select(index + 1);\n",
       "    }\n",
       "};\n",
       "\n",
       "mpl.figure.prototype.handle_save = function (fig, _msg) {\n",
       "    fig.ondownload(fig, null);\n",
       "};\n",
       "\n",
       "mpl.find_output_cell = function (html_output) {\n",
       "    // Return the cell and output element which can be found *uniquely* in the notebook.\n",
       "    // Note - this is a bit hacky, but it is done because the \"notebook_saving.Notebook\"\n",
       "    // IPython event is triggered only after the cells have been serialised, which for\n",
       "    // our purposes (turning an active figure into a static one), is too late.\n",
       "    var cells = IPython.notebook.get_cells();\n",
       "    var ncells = cells.length;\n",
       "    for (var i = 0; i < ncells; i++) {\n",
       "        var cell = cells[i];\n",
       "        if (cell.cell_type === 'code') {\n",
       "            for (var j = 0; j < cell.output_area.outputs.length; j++) {\n",
       "                var data = cell.output_area.outputs[j];\n",
       "                if (data.data) {\n",
       "                    // IPython >= 3 moved mimebundle to data attribute of output\n",
       "                    data = data.data;\n",
       "                }\n",
       "                if (data['text/html'] === html_output) {\n",
       "                    return [cell, data, j];\n",
       "                }\n",
       "            }\n",
       "        }\n",
       "    }\n",
       "};\n",
       "\n",
       "// Register the function which deals with the matplotlib target/channel.\n",
       "// The kernel may be null if the page has been refreshed.\n",
       "if (IPython.notebook.kernel !== null) {\n",
       "    IPython.notebook.kernel.comm_manager.register_target(\n",
       "        'matplotlib',\n",
       "        mpl.mpl_figure_comm\n",
       "    );\n",
       "}\n"
      ],
      "text/plain": [
       "<IPython.core.display.Javascript object>"
      ]
     },
     "metadata": {},
     "output_type": "display_data"
    },
    {
     "data": {
      "text/html": [
       "<img src=\"data:image/png;base64,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\" width=\"399.9999913302337\">"
      ],
      "text/plain": [
       "<IPython.core.display.HTML object>"
      ]
     },
     "metadata": {},
     "output_type": "display_data"
    },
    {
     "data": {
      "text/plain": [
       "Text(0.5, 0, 'Y')"
      ]
     },
     "execution_count": 63,
     "metadata": {},
     "output_type": "execute_result"
    }
   ],
   "source": [
    "%matplotlib notebook\n",
    "from mpl_toolkits.mplot3d import Axes3D\n",
    "\n",
    "fig = plt.figure(figsize=(4, 3))\n",
    "ax = fig.add_subplot(111, projection='3d')\n",
    "ax.scatter(X1, X2, 0, c='r')\n",
    "ax.scatter(X1, X2, Y, 'o', c='b')\n",
    "ax.plot_surface(X1, X2, Y.reshape(X1.shape), color='None', alpha=0.2)\n",
    "\n",
    "ax.set_xlabel('X1')\n",
    "ax.set_ylabel('X2')\n",
    "ax.set_zlabel('Y')"
   ]
  },
  {
   "cell_type": "code",
   "execution_count": 64,
   "metadata": {
    "slideshow": {
     "slide_type": "subslide"
    }
   },
   "outputs": [
    {
     "data": {
      "text/plain": [
       "((5, 5), (5, 5))"
      ]
     },
     "execution_count": 64,
     "metadata": {},
     "output_type": "execute_result"
    }
   ],
   "source": [
    "# 3 차원 표현을 위한 meshgrid 작성\n",
    "x1_min  = X_test[:, 0].min()\n",
    "x1_max = X_test[:, 0].max()\n",
    "x2_min  = X_test[:, 1].min()\n",
    "x2_max = X_test[:, 1].max()\n",
    "                                 \n",
    "X1, X2 = np.meshgrid(np.linspace(x1_min, x1_max, 5), np.linspace(x2_min, x2_max, 5))\n",
    "\n",
    "X1.shape, X2.shape"
   ]
  },
  {
   "cell_type": "code",
   "execution_count": 65,
   "metadata": {},
   "outputs": [],
   "source": [
    "XX = np.column_stack([X1.ravel(), X2.ravel()])"
   ]
  },
  {
   "cell_type": "code",
   "execution_count": 66,
   "metadata": {
    "slideshow": {
     "slide_type": "fragment"
    }
   },
   "outputs": [],
   "source": [
    "Y = regr.predict(XX)"
   ]
  },
  {
   "cell_type": "code",
   "execution_count": 70,
   "metadata": {
    "slideshow": {
     "slide_type": "subslide"
    }
   },
   "outputs": [
    {
     "data": {
      "image/png": "[encoded data removed]",
      "text/plain": [
       "<Figure size 576x432 with 1 Axes>"
      ]
     },
     "metadata": {
      "needs_background": "light"
     },
     "output_type": "display_data"
    }
   ],
   "source": [
    "%matplotlib inline\n",
    "from mpl_toolkits.mplot3d import Axes3D\n",
    "\n",
    "fig = plt.figure(figsize=(8,6))\n",
    "ax = fig.add_subplot(111, projection='3d')\n",
    "\n",
    "ax.scatter(X_test[:,0], X_test[:,1], y_test, c='blue', marker='o')\n",
    "ax.plot_surface(X1, X2, Y.reshape(X1.shape), color='y', alpha=0.3)\n",
    "\n",
    "ax.set_xlabel('bmi')\n",
    "ax.set_ylabel('bp')\n",
    "ax.set_zlabel('progress')\n",
    "plt.show()"
   ]
  },
  {
   "cell_type": "markdown",
   "metadata": {},
   "source": [
    "# 실습\n",
    "\n",
    "- 모든 변수를 사용한 다변수 선형회귀  \n",
    "- 이전 결과들과 r2 score 비교"
   ]
  }
 ],
 "metadata": {
  "kernelspec": {
   "display_name": "Python 3",
   "language": "python",
   "name": "python3"
  },
  "language_info": {
   "codemirror_mode": {
    "name": "ipython",
    "version": 3
   },
   "file_extension": ".py",
   "mimetype": "text/x-python",
   "name": "python",
   "nbconvert_exporter": "python",
   "pygments_lexer": "ipython3",
   "version": "3.8.5"
  }
 },
 "nbformat": 4,
 "nbformat_minor": 2
}
