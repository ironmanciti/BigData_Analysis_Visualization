{
 "cells": [
  {
   "cell_type": "markdown",
   "metadata": {
    "id": "SyQuWKAJt3xq"
   },
   "source": [
    "# 편향된 data 의 분류\n",
    "\n",
    "- [Credit Card Fraud Detection](https://www.kaggle.com/mlg-ulb/creditcardfraud) - Kaggle\n",
    "\n",
    "\n",
    "- Highly Imbalanced Dataset - 284,807 거래 건 중 492 개의 사기거래 존재"
   ]
  },
  {
   "cell_type": "code",
   "execution_count": 1,
   "metadata": {
    "id": "dH4wHxmzt3xy"
   },
   "outputs": [],
   "source": [
    "import tensorflow as tf\n",
    "\n",
    "import os\n",
    "import tempfile\n",
    "\n",
    "import matplotlib as mpl\n",
    "import matplotlib.pyplot as plt\n",
    "import numpy as np\n",
    "import pandas as pd\n",
    "import seaborn as sns\n",
    "\n",
    "from sklearn.metrics import confusion_matrix, roc_curve\n",
    "from sklearn.model_selection import train_test_split\n",
    "from sklearn.preprocessing import StandardScaler\n",
    "\n",
    "mpl.rcParams['figure.figsize'] = (12, 10)"
   ]
  },
  {
   "cell_type": "markdown",
   "metadata": {
    "id": "IdW269nBt3x2"
   },
   "source": [
    "### Download the Kaggle Credit Card Fraud data set\n",
    "\n",
    "- [kaggle creditcard csv file](https://storage.googleapis.com/download.tensorflow.org/data/creditcard.csv)"
   ]
  },
  {
   "cell_type": "code",
   "execution_count": 2,
   "metadata": {
    "colab": {
     "base_uri": "https://localhost:8080/",
     "height": 218
    },
    "id": "Zo_ucpfIt3x4",
    "outputId": "d766455b-7d10-4f99-9982-3ccf0a17a957"
   },
   "outputs": [
    {
     "data": {
      "text/html": [
       "<div>\n",
       "<style scoped>\n",
       "    .dataframe tbody tr th:only-of-type {\n",
       "        vertical-align: middle;\n",
       "    }\n",
       "\n",
       "    .dataframe tbody tr th {\n",
       "        vertical-align: top;\n",
       "    }\n",
       "\n",
       "    .dataframe thead th {\n",
       "        text-align: right;\n",
       "    }\n",
       "</style>\n",
       "<table border=\"1\" class=\"dataframe\">\n",
       "  <thead>\n",
       "    <tr style=\"text-align: right;\">\n",
       "      <th></th>\n",
       "      <th>Time</th>\n",
       "      <th>V1</th>\n",
       "      <th>V2</th>\n",
       "      <th>V3</th>\n",
       "      <th>V4</th>\n",
       "      <th>V5</th>\n",
       "      <th>V6</th>\n",
       "      <th>V7</th>\n",
       "      <th>V8</th>\n",
       "      <th>V9</th>\n",
       "      <th>V10</th>\n",
       "      <th>V11</th>\n",
       "      <th>V12</th>\n",
       "      <th>V13</th>\n",
       "      <th>V14</th>\n",
       "      <th>V15</th>\n",
       "      <th>V16</th>\n",
       "      <th>V17</th>\n",
       "      <th>V18</th>\n",
       "      <th>V19</th>\n",
       "      <th>V20</th>\n",
       "      <th>V21</th>\n",
       "      <th>V22</th>\n",
       "      <th>V23</th>\n",
       "      <th>V24</th>\n",
       "      <th>V25</th>\n",
       "      <th>V26</th>\n",
       "      <th>V27</th>\n",
       "      <th>V28</th>\n",
       "      <th>Amount</th>\n",
       "      <th>Class</th>\n",
       "    </tr>\n",
       "  </thead>\n",
       "  <tbody>\n",
       "    <tr>\n",
       "      <th>0</th>\n",
       "      <td>0.0</td>\n",
       "      <td>-1.359807</td>\n",
       "      <td>-0.072781</td>\n",
       "      <td>2.536347</td>\n",
       "      <td>1.378155</td>\n",
       "      <td>-0.338321</td>\n",
       "      <td>0.462388</td>\n",
       "      <td>0.239599</td>\n",
       "      <td>0.098698</td>\n",
       "      <td>0.363787</td>\n",
       "      <td>0.090794</td>\n",
       "      <td>-0.551600</td>\n",
       "      <td>-0.617801</td>\n",
       "      <td>-0.991390</td>\n",
       "      <td>-0.311169</td>\n",
       "      <td>1.468177</td>\n",
       "      <td>-0.470401</td>\n",
       "      <td>0.207971</td>\n",
       "      <td>0.025791</td>\n",
       "      <td>0.403993</td>\n",
       "      <td>0.251412</td>\n",
       "      <td>-0.018307</td>\n",
       "      <td>0.277838</td>\n",
       "      <td>-0.110474</td>\n",
       "      <td>0.066928</td>\n",
       "      <td>0.128539</td>\n",
       "      <td>-0.189115</td>\n",
       "      <td>0.133558</td>\n",
       "      <td>-0.021053</td>\n",
       "      <td>149.62</td>\n",
       "      <td>0</td>\n",
       "    </tr>\n",
       "    <tr>\n",
       "      <th>1</th>\n",
       "      <td>0.0</td>\n",
       "      <td>1.191857</td>\n",
       "      <td>0.266151</td>\n",
       "      <td>0.166480</td>\n",
       "      <td>0.448154</td>\n",
       "      <td>0.060018</td>\n",
       "      <td>-0.082361</td>\n",
       "      <td>-0.078803</td>\n",
       "      <td>0.085102</td>\n",
       "      <td>-0.255425</td>\n",
       "      <td>-0.166974</td>\n",
       "      <td>1.612727</td>\n",
       "      <td>1.065235</td>\n",
       "      <td>0.489095</td>\n",
       "      <td>-0.143772</td>\n",
       "      <td>0.635558</td>\n",
       "      <td>0.463917</td>\n",
       "      <td>-0.114805</td>\n",
       "      <td>-0.183361</td>\n",
       "      <td>-0.145783</td>\n",
       "      <td>-0.069083</td>\n",
       "      <td>-0.225775</td>\n",
       "      <td>-0.638672</td>\n",
       "      <td>0.101288</td>\n",
       "      <td>-0.339846</td>\n",
       "      <td>0.167170</td>\n",
       "      <td>0.125895</td>\n",
       "      <td>-0.008983</td>\n",
       "      <td>0.014724</td>\n",
       "      <td>2.69</td>\n",
       "      <td>0</td>\n",
       "    </tr>\n",
       "    <tr>\n",
       "      <th>2</th>\n",
       "      <td>1.0</td>\n",
       "      <td>-1.358354</td>\n",
       "      <td>-1.340163</td>\n",
       "      <td>1.773209</td>\n",
       "      <td>0.379780</td>\n",
       "      <td>-0.503198</td>\n",
       "      <td>1.800499</td>\n",
       "      <td>0.791461</td>\n",
       "      <td>0.247676</td>\n",
       "      <td>-1.514654</td>\n",
       "      <td>0.207643</td>\n",
       "      <td>0.624501</td>\n",
       "      <td>0.066084</td>\n",
       "      <td>0.717293</td>\n",
       "      <td>-0.165946</td>\n",
       "      <td>2.345865</td>\n",
       "      <td>-2.890083</td>\n",
       "      <td>1.109969</td>\n",
       "      <td>-0.121359</td>\n",
       "      <td>-2.261857</td>\n",
       "      <td>0.524980</td>\n",
       "      <td>0.247998</td>\n",
       "      <td>0.771679</td>\n",
       "      <td>0.909412</td>\n",
       "      <td>-0.689281</td>\n",
       "      <td>-0.327642</td>\n",
       "      <td>-0.139097</td>\n",
       "      <td>-0.055353</td>\n",
       "      <td>-0.059752</td>\n",
       "      <td>378.66</td>\n",
       "      <td>0</td>\n",
       "    </tr>\n",
       "    <tr>\n",
       "      <th>3</th>\n",
       "      <td>1.0</td>\n",
       "      <td>-0.966272</td>\n",
       "      <td>-0.185226</td>\n",
       "      <td>1.792993</td>\n",
       "      <td>-0.863291</td>\n",
       "      <td>-0.010309</td>\n",
       "      <td>1.247203</td>\n",
       "      <td>0.237609</td>\n",
       "      <td>0.377436</td>\n",
       "      <td>-1.387024</td>\n",
       "      <td>-0.054952</td>\n",
       "      <td>-0.226487</td>\n",
       "      <td>0.178228</td>\n",
       "      <td>0.507757</td>\n",
       "      <td>-0.287924</td>\n",
       "      <td>-0.631418</td>\n",
       "      <td>-1.059647</td>\n",
       "      <td>-0.684093</td>\n",
       "      <td>1.965775</td>\n",
       "      <td>-1.232622</td>\n",
       "      <td>-0.208038</td>\n",
       "      <td>-0.108300</td>\n",
       "      <td>0.005274</td>\n",
       "      <td>-0.190321</td>\n",
       "      <td>-1.175575</td>\n",
       "      <td>0.647376</td>\n",
       "      <td>-0.221929</td>\n",
       "      <td>0.062723</td>\n",
       "      <td>0.061458</td>\n",
       "      <td>123.50</td>\n",
       "      <td>0</td>\n",
       "    </tr>\n",
       "    <tr>\n",
       "      <th>4</th>\n",
       "      <td>2.0</td>\n",
       "      <td>-1.158233</td>\n",
       "      <td>0.877737</td>\n",
       "      <td>1.548718</td>\n",
       "      <td>0.403034</td>\n",
       "      <td>-0.407193</td>\n",
       "      <td>0.095921</td>\n",
       "      <td>0.592941</td>\n",
       "      <td>-0.270533</td>\n",
       "      <td>0.817739</td>\n",
       "      <td>0.753074</td>\n",
       "      <td>-0.822843</td>\n",
       "      <td>0.538196</td>\n",
       "      <td>1.345852</td>\n",
       "      <td>-1.119670</td>\n",
       "      <td>0.175121</td>\n",
       "      <td>-0.451449</td>\n",
       "      <td>-0.237033</td>\n",
       "      <td>-0.038195</td>\n",
       "      <td>0.803487</td>\n",
       "      <td>0.408542</td>\n",
       "      <td>-0.009431</td>\n",
       "      <td>0.798278</td>\n",
       "      <td>-0.137458</td>\n",
       "      <td>0.141267</td>\n",
       "      <td>-0.206010</td>\n",
       "      <td>0.502292</td>\n",
       "      <td>0.219422</td>\n",
       "      <td>0.215153</td>\n",
       "      <td>69.99</td>\n",
       "      <td>0</td>\n",
       "    </tr>\n",
       "  </tbody>\n",
       "</table>\n",
       "</div>"
      ],
      "text/plain": [
       "   Time        V1        V2        V3  ...       V27       V28  Amount  Class\n",
       "0   0.0 -1.359807 -0.072781  2.536347  ...  0.133558 -0.021053  149.62      0\n",
       "1   0.0  1.191857  0.266151  0.166480  ... -0.008983  0.014724    2.69      0\n",
       "2   1.0 -1.358354 -1.340163  1.773209  ... -0.055353 -0.059752  378.66      0\n",
       "3   1.0 -0.966272 -0.185226  1.792993  ...  0.062723  0.061458  123.50      0\n",
       "4   2.0 -1.158233  0.877737  1.548718  ...  0.219422  0.215153   69.99      0\n",
       "\n",
       "[5 rows x 31 columns]"
      ]
     },
     "execution_count": 2,
     "metadata": {
      "tags": []
     },
     "output_type": "execute_result"
    }
   ],
   "source": [
    "df = pd.read_csv('https://storage.googleapis.com/download.tensorflow.org/data/creditcard.csv')\n",
    "df.head()"
   ]
  },
  {
   "cell_type": "code",
   "execution_count": 3,
   "metadata": {
    "colab": {
     "base_uri": "https://localhost:8080/",
     "height": 343
    },
    "id": "5V8JNJZVt3x7",
    "outputId": "38d06bc4-bb63-4d7f-f3c9-0262b1db7b3a"
   },
   "outputs": [
    {
     "data": {
      "text/html": [
       "<div>\n",
       "<style scoped>\n",
       "    .dataframe tbody tr th:only-of-type {\n",
       "        vertical-align: middle;\n",
       "    }\n",
       "\n",
       "    .dataframe tbody tr th {\n",
       "        vertical-align: top;\n",
       "    }\n",
       "\n",
       "    .dataframe thead th {\n",
       "        text-align: right;\n",
       "    }\n",
       "</style>\n",
       "<table border=\"1\" class=\"dataframe\">\n",
       "  <thead>\n",
       "    <tr style=\"text-align: right;\">\n",
       "      <th></th>\n",
       "      <th>Time</th>\n",
       "      <th>V1</th>\n",
       "      <th>V2</th>\n",
       "      <th>V3</th>\n",
       "      <th>V4</th>\n",
       "      <th>V5</th>\n",
       "      <th>V26</th>\n",
       "      <th>V27</th>\n",
       "      <th>V28</th>\n",
       "      <th>Amount</th>\n",
       "      <th>Class</th>\n",
       "    </tr>\n",
       "  </thead>\n",
       "  <tbody>\n",
       "    <tr>\n",
       "      <th>count</th>\n",
       "      <td>284807.000000</td>\n",
       "      <td>2.848070e+05</td>\n",
       "      <td>2.848070e+05</td>\n",
       "      <td>2.848070e+05</td>\n",
       "      <td>2.848070e+05</td>\n",
       "      <td>2.848070e+05</td>\n",
       "      <td>2.848070e+05</td>\n",
       "      <td>2.848070e+05</td>\n",
       "      <td>2.848070e+05</td>\n",
       "      <td>284807.000000</td>\n",
       "      <td>284807.000000</td>\n",
       "    </tr>\n",
       "    <tr>\n",
       "      <th>mean</th>\n",
       "      <td>94813.859575</td>\n",
       "      <td>3.919560e-15</td>\n",
       "      <td>5.688174e-16</td>\n",
       "      <td>-8.769071e-15</td>\n",
       "      <td>2.782312e-15</td>\n",
       "      <td>-1.552563e-15</td>\n",
       "      <td>1.699104e-15</td>\n",
       "      <td>-3.660161e-16</td>\n",
       "      <td>-1.206049e-16</td>\n",
       "      <td>88.349619</td>\n",
       "      <td>0.001727</td>\n",
       "    </tr>\n",
       "    <tr>\n",
       "      <th>std</th>\n",
       "      <td>47488.145955</td>\n",
       "      <td>1.958696e+00</td>\n",
       "      <td>1.651309e+00</td>\n",
       "      <td>1.516255e+00</td>\n",
       "      <td>1.415869e+00</td>\n",
       "      <td>1.380247e+00</td>\n",
       "      <td>4.822270e-01</td>\n",
       "      <td>4.036325e-01</td>\n",
       "      <td>3.300833e-01</td>\n",
       "      <td>250.120109</td>\n",
       "      <td>0.041527</td>\n",
       "    </tr>\n",
       "    <tr>\n",
       "      <th>min</th>\n",
       "      <td>0.000000</td>\n",
       "      <td>-5.640751e+01</td>\n",
       "      <td>-7.271573e+01</td>\n",
       "      <td>-4.832559e+01</td>\n",
       "      <td>-5.683171e+00</td>\n",
       "      <td>-1.137433e+02</td>\n",
       "      <td>-2.604551e+00</td>\n",
       "      <td>-2.256568e+01</td>\n",
       "      <td>-1.543008e+01</td>\n",
       "      <td>0.000000</td>\n",
       "      <td>0.000000</td>\n",
       "    </tr>\n",
       "    <tr>\n",
       "      <th>25%</th>\n",
       "      <td>54201.500000</td>\n",
       "      <td>-9.203734e-01</td>\n",
       "      <td>-5.985499e-01</td>\n",
       "      <td>-8.903648e-01</td>\n",
       "      <td>-8.486401e-01</td>\n",
       "      <td>-6.915971e-01</td>\n",
       "      <td>-3.269839e-01</td>\n",
       "      <td>-7.083953e-02</td>\n",
       "      <td>-5.295979e-02</td>\n",
       "      <td>5.600000</td>\n",
       "      <td>0.000000</td>\n",
       "    </tr>\n",
       "    <tr>\n",
       "      <th>50%</th>\n",
       "      <td>84692.000000</td>\n",
       "      <td>1.810880e-02</td>\n",
       "      <td>6.548556e-02</td>\n",
       "      <td>1.798463e-01</td>\n",
       "      <td>-1.984653e-02</td>\n",
       "      <td>-5.433583e-02</td>\n",
       "      <td>-5.213911e-02</td>\n",
       "      <td>1.342146e-03</td>\n",
       "      <td>1.124383e-02</td>\n",
       "      <td>22.000000</td>\n",
       "      <td>0.000000</td>\n",
       "    </tr>\n",
       "    <tr>\n",
       "      <th>75%</th>\n",
       "      <td>139320.500000</td>\n",
       "      <td>1.315642e+00</td>\n",
       "      <td>8.037239e-01</td>\n",
       "      <td>1.027196e+00</td>\n",
       "      <td>7.433413e-01</td>\n",
       "      <td>6.119264e-01</td>\n",
       "      <td>2.409522e-01</td>\n",
       "      <td>9.104512e-02</td>\n",
       "      <td>7.827995e-02</td>\n",
       "      <td>77.165000</td>\n",
       "      <td>0.000000</td>\n",
       "    </tr>\n",
       "    <tr>\n",
       "      <th>max</th>\n",
       "      <td>172792.000000</td>\n",
       "      <td>2.454930e+00</td>\n",
       "      <td>2.205773e+01</td>\n",
       "      <td>9.382558e+00</td>\n",
       "      <td>1.687534e+01</td>\n",
       "      <td>3.480167e+01</td>\n",
       "      <td>3.517346e+00</td>\n",
       "      <td>3.161220e+01</td>\n",
       "      <td>3.384781e+01</td>\n",
       "      <td>25691.160000</td>\n",
       "      <td>1.000000</td>\n",
       "    </tr>\n",
       "  </tbody>\n",
       "</table>\n",
       "</div>"
      ],
      "text/plain": [
       "                Time            V1  ...         Amount          Class\n",
       "count  284807.000000  2.848070e+05  ...  284807.000000  284807.000000\n",
       "mean    94813.859575  3.919560e-15  ...      88.349619       0.001727\n",
       "std     47488.145955  1.958696e+00  ...     250.120109       0.041527\n",
       "min         0.000000 -5.640751e+01  ...       0.000000       0.000000\n",
       "25%     54201.500000 -9.203734e-01  ...       5.600000       0.000000\n",
       "50%     84692.000000  1.810880e-02  ...      22.000000       0.000000\n",
       "75%    139320.500000  1.315642e+00  ...      77.165000       0.000000\n",
       "max    172792.000000  2.454930e+00  ...   25691.160000       1.000000\n",
       "\n",
       "[8 rows x 11 columns]"
      ]
     },
     "execution_count": 3,
     "metadata": {
      "tags": []
     },
     "output_type": "execute_result"
    }
   ],
   "source": [
    "df[['Time', 'V1', 'V2', 'V3', 'V4', 'V5', 'V26', 'V27', 'V28', 'Amount', 'Class']].describe()"
   ]
  },
  {
   "cell_type": "markdown",
   "metadata": {
    "id": "738aexZRt3x-"
   },
   "source": [
    "### 클래스 레이블 불균형 조사\n",
    "\n",
    "numpy.bincount(x, weights=None, minlength=0)  \n",
    "\n",
    "- list x 의 각 value 별 갯수. return list 의 길이는 np.amax(x) + 1  \n",
    "```\n",
    "np.bincount([0, 1, 1, 0, 1, 0, 1, 3])\n",
    "array([3, 4, 0, 1], dtype=int64)\n",
    "```"
   ]
  },
  {
   "cell_type": "code",
   "execution_count": 4,
   "metadata": {
    "colab": {
     "base_uri": "https://localhost:8080/"
    },
    "id": "2nnddVRjGIpU",
    "outputId": "e0fa3b5f-6088-44b7-8264-dc3212616960"
   },
   "outputs": [
    {
     "data": {
      "text/plain": [
       "0    284315\n",
       "1       492\n",
       "Name: Class, dtype: int64"
      ]
     },
     "execution_count": 4,
     "metadata": {
      "tags": []
     },
     "output_type": "execute_result"
    }
   ],
   "source": [
    "df['Class'].value_counts()"
   ]
  },
  {
   "cell_type": "code",
   "execution_count": 5,
   "metadata": {
    "colab": {
     "base_uri": "https://localhost:8080/"
    },
    "id": "k_Q_Zwbkt3x_",
    "outputId": "b8eeefca-4b63-4317-d3b3-cd1fa5620680"
   },
   "outputs": [
    {
     "name": "stdout",
     "output_type": "stream",
     "text": [
      "284315 492\n",
      "Total = 284,807\n",
      "negative = 99.83%\n",
      "positive = 0.17%\n"
     ]
    }
   ],
   "source": [
    "neg, pos = np.bincount(df['Class'])\n",
    "total = neg + pos\n",
    "\n",
    "print(neg, pos)\n",
    "print(f\"Total = {total:,}\")\n",
    "print(f\"negative = {neg/total*100:,.2f}%\")\n",
    "print(f\"positive = {pos/total*100:,.2f}%\")"
   ]
  },
  {
   "cell_type": "markdown",
   "metadata": {
    "id": "USH9Dhvjt3yG"
   },
   "source": [
    "### Clean, split and normalize the data"
   ]
  },
  {
   "cell_type": "code",
   "execution_count": 6,
   "metadata": {
    "colab": {
     "base_uri": "https://localhost:8080/"
    },
    "id": "c0-CmXOCGIpV",
    "outputId": "b1d0b579-8692-42d9-96d2-47d2c7551c6f"
   },
   "outputs": [
    {
     "data": {
      "text/plain": [
       "(284807, 30)"
      ]
     },
     "execution_count": 6,
     "metadata": {
      "tags": []
     },
     "output_type": "execute_result"
    }
   ],
   "source": [
    "cleaned_df = df.copy()\n",
    "\n",
    "# Time` column 은 불필요하므로 삭제\n",
    "cleaned_df.pop('Time')\n",
    "cleaned_df.shape"
   ]
  },
  {
   "cell_type": "markdown",
   "metadata": {
    "id": "tUeI3ckzGIpV"
   },
   "source": [
    "- `Amount` column 이 편차가 크므로 log-scale 로 변환\n",
    "- 0 amount 가 되지 않도록 0.001 add"
   ]
  },
  {
   "cell_type": "code",
   "execution_count": 7,
   "metadata": {
    "id": "l03JJF7IGIpW"
   },
   "outputs": [],
   "source": [
    "eps=0.001      # 0 => 0.1¢\n",
    "cleaned_df['Log Ammount'] = np.log(cleaned_df.pop('Amount') + eps)"
   ]
  },
  {
   "cell_type": "code",
   "execution_count": 8,
   "metadata": {
    "colab": {
     "base_uri": "https://localhost:8080/"
    },
    "id": "EdHm44M2GIpW",
    "outputId": "927fdc3f-0fbc-4a21-b8cf-16e997b8da34"
   },
   "outputs": [
    {
     "data": {
      "text/plain": [
       "count    284807.000000\n",
       "mean          2.942089\n",
       "std           2.023685\n",
       "min          -6.907755\n",
       "25%           1.722945\n",
       "50%           3.091088\n",
       "75%           4.345959\n",
       "max          10.153902\n",
       "Name: Log Ammount, dtype: float64"
      ]
     },
     "execution_count": 8,
     "metadata": {
      "tags": []
     },
     "output_type": "execute_result"
    }
   ],
   "source": [
    "cleaned_df['Log Ammount'].describe()"
   ]
  },
  {
   "cell_type": "code",
   "execution_count": 9,
   "metadata": {
    "id": "4IEMWwojt3yO"
   },
   "outputs": [],
   "source": [
    "labels = np.array(cleaned_df.pop('Class'))"
   ]
  },
  {
   "cell_type": "code",
   "execution_count": 10,
   "metadata": {
    "colab": {
     "base_uri": "https://localhost:8080/"
    },
    "id": "Qk7ABIpht3yR",
    "outputId": "c1110e35-29cc-4410-8512-f5777d437734"
   },
   "outputs": [
    {
     "data": {
      "text/plain": [
       "array([0, 0, 0, ..., 0, 0, 0])"
      ]
     },
     "execution_count": 10,
     "metadata": {
      "tags": []
     },
     "output_type": "execute_result"
    }
   ],
   "source": [
    "labels"
   ]
  },
  {
   "cell_type": "code",
   "execution_count": 11,
   "metadata": {
    "colab": {
     "base_uri": "https://localhost:8080/"
    },
    "id": "_hqAVRiWt3yV",
    "outputId": "e848336d-fce5-4a5d-d6d6-262ceaaee9b7"
   },
   "outputs": [
    {
     "data": {
      "text/plain": [
       "(284807, 29)"
      ]
     },
     "execution_count": 11,
     "metadata": {
      "tags": []
     },
     "output_type": "execute_result"
    }
   ],
   "source": [
    "X = cleaned_df.values\n",
    "X.shape"
   ]
  },
  {
   "cell_type": "code",
   "execution_count": 12,
   "metadata": {
    "colab": {
     "base_uri": "https://localhost:8080/"
    },
    "id": "RLiKtnt7t3ya",
    "outputId": "cda691ae-daf7-4560-8f6d-8c6d02e5b2b0"
   },
   "outputs": [
    {
     "data": {
      "text/plain": [
       "((227845, 29), (56962, 29), (227845,), (56962,))"
      ]
     },
     "execution_count": 12,
     "metadata": {
      "tags": []
     },
     "output_type": "execute_result"
    }
   ],
   "source": [
    "X_train, X_test, y_train, y_test = train_test_split(X, labels, test_size=0.2)\n",
    "\n",
    "X_train.shape, X_test.shape, y_train.shape, y_test.shape"
   ]
  },
  {
   "cell_type": "code",
   "execution_count": 13,
   "metadata": {
    "id": "QwUNis6Zt3yc"
   },
   "outputs": [],
   "source": [
    "sc = StandardScaler()\n",
    "X_train = sc.fit_transform(X_train)\n",
    "X_test  = sc.transform(X_test)"
   ]
  },
  {
   "cell_type": "code",
   "execution_count": 14,
   "metadata": {
    "id": "VXnqLBIGGIpX"
   },
   "outputs": [],
   "source": [
    "# pd.DataFrame(X_train).describe().values.shape"
   ]
  },
  {
   "cell_type": "code",
   "execution_count": 15,
   "metadata": {
    "id": "sWLyPZh7u4f_"
   },
   "outputs": [],
   "source": [
    "# for i, value in enumerate(pd.DataFrame(X_train).describe().values):\n",
    "#     print(i, min(value), max(value))"
   ]
  },
  {
   "cell_type": "code",
   "execution_count": 16,
   "metadata": {
    "id": "lWlQbhFXx9Dj"
   },
   "outputs": [],
   "source": [
    "# X_train = np.clip(X_train, -5, 5)\n",
    "# X_test = np.clip(X_test, -5, 5)\n",
    "\n",
    "# print(X_train.shape)\n",
    "# print(X_test.shape)\n",
    "# print(y_train.shape)\n",
    "# print(y_test.shape)"
   ]
  },
  {
   "cell_type": "markdown",
   "metadata": {
    "id": "V7qJCSiht3yi"
   },
   "source": [
    "### metrics 정의\n",
    "\n",
    "- 항상 False 로 예측하면 99.8%+ 정확성을 달성하므로, 다양한 metrics 활용하여 측정"
   ]
  },
  {
   "cell_type": "code",
   "execution_count": 17,
   "metadata": {
    "id": "zmRaL5sDt3yj"
   },
   "outputs": [],
   "source": [
    "METRICS = [\n",
    "      tf.keras.metrics.TruePositives(name='tp'),\n",
    "      tf.keras.metrics.FalsePositives(name='fp'),\n",
    "      tf.keras.metrics.TrueNegatives(name='tn'),\n",
    "      tf.keras.metrics.FalseNegatives(name='fn'), \n",
    "      tf.keras.metrics.BinaryAccuracy(name='accuracy'),\n",
    "      tf.keras.metrics.Precision(name='precision'),\n",
    "      tf.keras.metrics.Recall(name='recall'),\n",
    "      tf.keras.metrics.AUC(name='auc'),\n",
    "]"
   ]
  },
  {
   "cell_type": "markdown",
   "metadata": {
    "id": "ejjpZM9Kt3ym"
   },
   "source": [
    "### Simple NN model 정의"
   ]
  },
  {
   "cell_type": "code",
   "execution_count": 18,
   "metadata": {
    "id": "IbbI4SZat3yn"
   },
   "outputs": [],
   "source": [
    "def make_model(metrics = METRICS, output_bias=None):\n",
    "    if output_bias is not None:\n",
    "        output_bias = tf.keras.initializers.Constant(output_bias)\n",
    "    \n",
    "    model = tf.keras.Sequential([\n",
    "      tf.keras.layers.Dense(32, activation='relu', input_shape=(X_train.shape[-1],)),\n",
    "      tf.keras.layers.Dropout(0.2),\n",
    "      tf.keras.layers.Dense(16, activation='relu'),\n",
    "      tf.keras.layers.Dropout(0.2),\n",
    "      tf.keras.layers.Dense(1, activation='sigmoid', bias_initializer=output_bias),\n",
    "  ])\n",
    "\n",
    "    model.compile(\n",
    "      optimizer = tf.keras.optimizers.Adam(lr=1e-3),\n",
    "      loss = tf.keras.losses.BinaryCrossentropy(),\n",
    "      metrics=metrics)\n",
    "\n",
    "    return model"
   ]
  },
  {
   "cell_type": "markdown",
   "metadata": {
    "id": "YuB7VrmAt3yr"
   },
   "source": [
    "## Baseline model build"
   ]
  },
  {
   "cell_type": "code",
   "execution_count": 19,
   "metadata": {
    "id": "gTRT9eKnt3ys"
   },
   "outputs": [],
   "source": [
    "EPOCHS = 100\n",
    "BATCH_SIZE = 2048\n",
    "\n",
    "early_stopping = tf.keras.callbacks.EarlyStopping(\n",
    "    monitor='val_auc', \n",
    "    verbose=1,\n",
    "    patience=10,           \n",
    "    mode='max',           \n",
    "    restore_best_weights=True)"
   ]
  },
  {
   "cell_type": "code",
   "execution_count": 20,
   "metadata": {
    "colab": {
     "base_uri": "https://localhost:8080/"
    },
    "id": "i3qmzy34t3yw",
    "outputId": "704a9419-bb2c-4ce4-c0d9-0f7e6b1a6208",
    "scrolled": true
   },
   "outputs": [
    {
     "name": "stdout",
     "output_type": "stream",
     "text": [
      "Model: \"sequential\"\n",
      "_________________________________________________________________\n",
      "Layer (type)                 Output Shape              Param #   \n",
      "=================================================================\n",
      "dense (Dense)                (None, 32)                960       \n",
      "_________________________________________________________________\n",
      "dropout (Dropout)            (None, 32)                0         \n",
      "_________________________________________________________________\n",
      "dense_1 (Dense)              (None, 16)                528       \n",
      "_________________________________________________________________\n",
      "dropout_1 (Dropout)          (None, 16)                0         \n",
      "_________________________________________________________________\n",
      "dense_2 (Dense)              (None, 1)                 17        \n",
      "=================================================================\n",
      "Total params: 1,505\n",
      "Trainable params: 1,505\n",
      "Non-trainable params: 0\n",
      "_________________________________________________________________\n"
     ]
    },
    {
     "name": "stderr",
     "output_type": "stream",
     "text": [
      "/usr/local/lib/python3.7/dist-packages/tensorflow/python/keras/optimizer_v2/optimizer_v2.py:375: UserWarning: The `lr` argument is deprecated, use `learning_rate` instead.\n",
      "  \"The `lr` argument is deprecated, use `learning_rate` instead.\")\n"
     ]
    }
   ],
   "source": [
    "model = make_model()\n",
    "model.summary()"
   ]
  },
  {
   "cell_type": "markdown",
   "metadata": {
    "id": "K7BLJelxGIpa"
   },
   "source": [
    "## 극도로 편향된 sample 을 학습하는 model 의 bias 초기화"
   ]
  },
  {
   "cell_type": "code",
   "execution_count": 21,
   "metadata": {
    "colab": {
     "base_uri": "https://localhost:8080/"
    },
    "id": "V1owM9iSt3y2",
    "outputId": "f2759ab0-78ba-4081-bba1-06d128d0c137"
   },
   "outputs": [
    {
     "data": {
      "text/plain": [
       "array([[0.51387453],\n",
       "       [0.48798564],\n",
       "       [0.4882831 ],\n",
       "       [0.36428785],\n",
       "       [0.5915252 ],\n",
       "       [0.44567013],\n",
       "       [0.39214748],\n",
       "       [0.34303293],\n",
       "       [0.443521  ],\n",
       "       [0.4974057 ]], dtype=float32)"
      ]
     },
     "execution_count": 21,
     "metadata": {
      "tags": []
     },
     "output_type": "execute_result"
    }
   ],
   "source": [
    "# prediction before train\n",
    "model.predict(X_train[:10])"
   ]
  },
  {
   "cell_type": "markdown",
   "metadata": {
    "id": "YsP9Y3b9t3y7"
   },
   "source": [
    "dataset 이 highly imbalance 한 것을 알고 있으므로 위의 initial guess 는 실제와 매우 차이가 남. 따라서, output layer 의 bias 를 조정하여 실제 data 에 가깝게 만들어 주면 initial convergence 에 도움 됨.  \n",
    "\n",
    "(See: [A Recipe for Training Neural Networks: \"init well\"](http://karpathy.github.io/2019/04/25/recipe/#2-set-up-the-end-to-end-trainingevaluation-skeleton--get-dumb-baselines))"
   ]
  },
  {
   "cell_type": "markdown",
   "metadata": {
    "id": "jssFpISHt3y9"
   },
   "source": [
    "- bias 를 default 값으로 초기화 할 때 loss 는 대략 math.log(2) = 0.69314 정도이다."
   ]
  },
  {
   "cell_type": "code",
   "execution_count": 22,
   "metadata": {
    "colab": {
     "base_uri": "https://localhost:8080/"
    },
    "id": "i4DSpr3zt3y-",
    "outputId": "0864a948-7838-4580-edb3-ad2008c35f5b"
   },
   "outputs": [
    {
     "name": "stdout",
     "output_type": "stream",
     "text": [
      "Loss: 0.6699\n"
     ]
    }
   ],
   "source": [
    "results = model.evaluate(X_train, y_train, batch_size=BATCH_SIZE, verbose=0)\n",
    "print(\"Loss: {:0.4f}\".format(results[0]))"
   ]
  },
  {
   "cell_type": "markdown",
   "metadata": {
    "id": "hFLWclmnt3zG"
   },
   "source": [
    "올바른 bias 는 다음과 같이 계산 가능하다.\n",
    "\n",
    "$$ p_0 = pos/(pos + neg) = 1/(1+e^{-b_0}) \\rightarrow sigmoid$$ \n",
    "$$ b_0 = -log_e(1/p_0 - 1) $$\n",
    "$$ b_0 = log_e(pos/neg)$$"
   ]
  },
  {
   "cell_type": "code",
   "execution_count": 23,
   "metadata": {
    "colab": {
     "base_uri": "https://localhost:8080/"
    },
    "id": "PwyyaEsFt3zI",
    "outputId": "1559f4fc-8fb3-4b65-d391-b57a4599412e"
   },
   "outputs": [
    {
     "data": {
      "text/plain": [
       "array([-6.35935934])"
      ]
     },
     "execution_count": 23,
     "metadata": {
      "tags": []
     },
     "output_type": "execute_result"
    }
   ],
   "source": [
    "initial_bias = np.log([pos/neg])\n",
    "initial_bias"
   ]
  },
  {
   "cell_type": "code",
   "execution_count": 24,
   "metadata": {
    "colab": {
     "base_uri": "https://localhost:8080/"
    },
    "id": "gePdFBYyGIpb",
    "outputId": "99b10c4d-faa4-4983-96ed-4649a55cd26c"
   },
   "outputs": [
    {
     "data": {
      "text/plain": [
       "array([0.00172749])"
      ]
     },
     "execution_count": 24,
     "metadata": {
      "tags": []
     },
     "output_type": "execute_result"
    }
   ],
   "source": [
    "1 / (1 + np.exp(-initial_bias))"
   ]
  },
  {
   "cell_type": "markdown",
   "metadata": {
    "id": "KW-4UzNwt3zN"
   },
   "source": [
    "- 위와 같이 initial bias 를 주면 model 의 initial guesse 가 훨씬 reasonable 해 진다. \n",
    "\n",
    "- 대략 `pos/total = 0.0018` 정도가 된다."
   ]
  },
  {
   "cell_type": "code",
   "execution_count": 25,
   "metadata": {
    "colab": {
     "base_uri": "https://localhost:8080/"
    },
    "id": "AycDjz93t3zQ",
    "outputId": "7994bff9-e2ad-472b-d7b6-70018798b1bf"
   },
   "outputs": [
    {
     "name": "stderr",
     "output_type": "stream",
     "text": [
      "/usr/local/lib/python3.7/dist-packages/tensorflow/python/keras/optimizer_v2/optimizer_v2.py:375: UserWarning: The `lr` argument is deprecated, use `learning_rate` instead.\n",
      "  \"The `lr` argument is deprecated, use `learning_rate` instead.\")\n"
     ]
    },
    {
     "data": {
      "text/plain": [
       "array([[0.00179678],\n",
       "       [0.00049175],\n",
       "       [0.00142487],\n",
       "       [0.0009413 ],\n",
       "       [0.00196477],\n",
       "       [0.00173599],\n",
       "       [0.00210442],\n",
       "       [0.0019639 ],\n",
       "       [0.00183246],\n",
       "       [0.00118888]], dtype=float32)"
      ]
     },
     "execution_count": 25,
     "metadata": {
      "tags": []
     },
     "output_type": "execute_result"
    }
   ],
   "source": [
    "model = make_model(output_bias = initial_bias)\n",
    "model.predict(X_train[:10])"
   ]
  },
  {
   "cell_type": "markdown",
   "metadata": {
    "id": "yOG6oSsYt3zW"
   },
   "source": [
    "위와 같이 초기화 하면 initial loss 는 대략 다음과 같이 된다.\n",
    "\n",
    "$$-p_0log(p_0)-(1-p_0)log(1-p_0) = 0.01317$$  \n",
    "\n",
    "신중히 초기화 하지 않았을 때보다 약 50 배 적고, model 의 초기 학습에 도움을 준다."
   ]
  },
  {
   "cell_type": "code",
   "execution_count": 26,
   "metadata": {
    "colab": {
     "base_uri": "https://localhost:8080/"
    },
    "id": "RiO2LCd_t3zW",
    "outputId": "46461860-39d8-4c76-f821-66059fc4ff49"
   },
   "outputs": [
    {
     "name": "stdout",
     "output_type": "stream",
     "text": [
      "Loss: 0.0135\n"
     ]
    }
   ],
   "source": [
    "results = model.evaluate(X_train, y_train, batch_size=BATCH_SIZE, verbose=0)\n",
    "print(\"Loss: {:0.4f}\".format(results[0]))"
   ]
  },
  {
   "cell_type": "markdown",
   "metadata": {
    "id": "uqjDErzkt3zZ"
   },
   "source": [
    "## initial weight 를 checkpoint 에 저장\n",
    "\n",
    "- Python tempfile - temporary file 과 directory 생성"
   ]
  },
  {
   "cell_type": "code",
   "execution_count": 27,
   "metadata": {
    "id": "Bio5qm79t3zZ"
   },
   "outputs": [],
   "source": [
    "initial_weights = os.path.join(tempfile.mkdtemp(), 'initial_weights')\n",
    "model.save_weights(initial_weights)"
   ]
  },
  {
   "cell_type": "markdown",
   "metadata": {
    "id": "B-Ftgdtct3zb"
   },
   "source": [
    "## Train the model\n",
    "\n",
    "- class weight 조정이나 oversampling 을 하지 않은 baseline model"
   ]
  },
  {
   "cell_type": "code",
   "execution_count": 28,
   "metadata": {
    "colab": {
     "base_uri": "https://localhost:8080/"
    },
    "id": "qyxi6P6Pt3zd",
    "outputId": "877ed30c-1db8-4794-c0a4-c11e22dd7802",
    "scrolled": true
   },
   "outputs": [
    {
     "name": "stderr",
     "output_type": "stream",
     "text": [
      "/usr/local/lib/python3.7/dist-packages/tensorflow/python/keras/optimizer_v2/optimizer_v2.py:375: UserWarning: The `lr` argument is deprecated, use `learning_rate` instead.\n",
      "  \"The `lr` argument is deprecated, use `learning_rate` instead.\")\n"
     ]
    },
    {
     "name": "stdout",
     "output_type": "stream",
     "text": [
      "Epoch 1/100\n",
      "112/112 [==============================] - 3s 11ms/step - loss: 0.0076 - tp: 404.0000 - fp: 85389.0000 - tn: 596964.0000 - fn: 778.0000 - accuracy: 0.8739 - precision: 0.0047 - recall: 0.3418 - auc: 0.6447 - val_loss: 0.0045 - val_tp: 51.0000 - val_fp: 4.0000 - val_tn: 56860.0000 - val_fn: 47.0000 - val_accuracy: 0.9991 - val_precision: 0.9273 - val_recall: 0.5204 - val_auc: 0.9129\n",
      "Epoch 2/100\n",
      "112/112 [==============================] - 1s 5ms/step - loss: 0.0055 - tp: 207.0000 - fp: 39.0000 - tn: 227412.0000 - fn: 187.0000 - accuracy: 0.9990 - precision: 0.8415 - recall: 0.5254 - auc: 0.9137 - val_loss: 0.0040 - val_tp: 49.0000 - val_fp: 5.0000 - val_tn: 56859.0000 - val_fn: 49.0000 - val_accuracy: 0.9991 - val_precision: 0.9074 - val_recall: 0.5000 - val_auc: 0.9334\n",
      "Epoch 3/100\n",
      "112/112 [==============================] - 1s 5ms/step - loss: 0.0052 - tp: 207.0000 - fp: 33.0000 - tn: 227418.0000 - fn: 187.0000 - accuracy: 0.9990 - precision: 0.8625 - recall: 0.5254 - auc: 0.9166 - val_loss: 0.0035 - val_tp: 62.0000 - val_fp: 8.0000 - val_tn: 56856.0000 - val_fn: 36.0000 - val_accuracy: 0.9992 - val_precision: 0.8857 - val_recall: 0.6327 - val_auc: 0.9384\n",
      "Epoch 4/100\n",
      "112/112 [==============================] - 1s 5ms/step - loss: 0.0047 - tp: 223.0000 - fp: 38.0000 - tn: 227413.0000 - fn: 171.0000 - accuracy: 0.9991 - precision: 0.8544 - recall: 0.5660 - auc: 0.9243 - val_loss: 0.0034 - val_tp: 62.0000 - val_fp: 7.0000 - val_tn: 56857.0000 - val_fn: 36.0000 - val_accuracy: 0.9992 - val_precision: 0.8986 - val_recall: 0.6327 - val_auc: 0.9385\n",
      "Epoch 5/100\n",
      "112/112 [==============================] - 1s 5ms/step - loss: 0.0043 - tp: 227.0000 - fp: 37.0000 - tn: 227414.0000 - fn: 167.0000 - accuracy: 0.9991 - precision: 0.8598 - recall: 0.5761 - auc: 0.9256 - val_loss: 0.0034 - val_tp: 57.0000 - val_fp: 7.0000 - val_tn: 56857.0000 - val_fn: 41.0000 - val_accuracy: 0.9992 - val_precision: 0.8906 - val_recall: 0.5816 - val_auc: 0.9385\n",
      "Epoch 6/100\n",
      "112/112 [==============================] - 1s 5ms/step - loss: 0.0043 - tp: 235.0000 - fp: 44.0000 - tn: 227407.0000 - fn: 159.0000 - accuracy: 0.9991 - precision: 0.8423 - recall: 0.5964 - auc: 0.9256 - val_loss: 0.0037 - val_tp: 47.0000 - val_fp: 5.0000 - val_tn: 56859.0000 - val_fn: 51.0000 - val_accuracy: 0.9990 - val_precision: 0.9038 - val_recall: 0.4796 - val_auc: 0.9335\n",
      "Epoch 7/100\n",
      "112/112 [==============================] - 1s 5ms/step - loss: 0.0039 - tp: 233.0000 - fp: 34.0000 - tn: 227417.0000 - fn: 161.0000 - accuracy: 0.9991 - precision: 0.8727 - recall: 0.5914 - auc: 0.9346 - val_loss: 0.0032 - val_tp: 59.0000 - val_fp: 7.0000 - val_tn: 56857.0000 - val_fn: 39.0000 - val_accuracy: 0.9992 - val_precision: 0.8939 - val_recall: 0.6020 - val_auc: 0.9436\n",
      "Epoch 8/100\n",
      "112/112 [==============================] - 1s 5ms/step - loss: 0.0039 - tp: 243.0000 - fp: 41.0000 - tn: 227410.0000 - fn: 151.0000 - accuracy: 0.9992 - precision: 0.8556 - recall: 0.6168 - auc: 0.9345 - val_loss: 0.0032 - val_tp: 57.0000 - val_fp: 7.0000 - val_tn: 56857.0000 - val_fn: 41.0000 - val_accuracy: 0.9992 - val_precision: 0.8906 - val_recall: 0.5816 - val_auc: 0.9385\n",
      "Epoch 9/100\n",
      "112/112 [==============================] - 1s 5ms/step - loss: 0.0040 - tp: 240.0000 - fp: 43.0000 - tn: 227408.0000 - fn: 154.0000 - accuracy: 0.9991 - precision: 0.8481 - recall: 0.6091 - auc: 0.9371 - val_loss: 0.0032 - val_tp: 55.0000 - val_fp: 7.0000 - val_tn: 56857.0000 - val_fn: 43.0000 - val_accuracy: 0.9991 - val_precision: 0.8871 - val_recall: 0.5612 - val_auc: 0.9487\n",
      "Epoch 10/100\n",
      "112/112 [==============================] - 1s 5ms/step - loss: 0.0037 - tp: 249.0000 - fp: 35.0000 - tn: 227416.0000 - fn: 145.0000 - accuracy: 0.9992 - precision: 0.8768 - recall: 0.6320 - auc: 0.9358 - val_loss: 0.0030 - val_tp: 58.0000 - val_fp: 7.0000 - val_tn: 56857.0000 - val_fn: 40.0000 - val_accuracy: 0.9992 - val_precision: 0.8923 - val_recall: 0.5918 - val_auc: 0.9436\n",
      "Epoch 11/100\n",
      "112/112 [==============================] - 1s 5ms/step - loss: 0.0038 - tp: 245.0000 - fp: 44.0000 - tn: 227407.0000 - fn: 149.0000 - accuracy: 0.9992 - precision: 0.8478 - recall: 0.6218 - auc: 0.9371 - val_loss: 0.0032 - val_tp: 57.0000 - val_fp: 7.0000 - val_tn: 56857.0000 - val_fn: 41.0000 - val_accuracy: 0.9992 - val_precision: 0.8906 - val_recall: 0.5816 - val_auc: 0.9436\n",
      "Epoch 12/100\n",
      "112/112 [==============================] - 1s 5ms/step - loss: 0.0036 - tp: 240.0000 - fp: 41.0000 - tn: 227410.0000 - fn: 154.0000 - accuracy: 0.9991 - precision: 0.8541 - recall: 0.6091 - auc: 0.9447 - val_loss: 0.0029 - val_tp: 64.0000 - val_fp: 7.0000 - val_tn: 56857.0000 - val_fn: 34.0000 - val_accuracy: 0.9993 - val_precision: 0.9014 - val_recall: 0.6531 - val_auc: 0.9487\n",
      "Epoch 13/100\n",
      "112/112 [==============================] - 1s 5ms/step - loss: 0.0034 - tp: 257.0000 - fp: 35.0000 - tn: 227416.0000 - fn: 137.0000 - accuracy: 0.9992 - precision: 0.8801 - recall: 0.6523 - auc: 0.9422 - val_loss: 0.0029 - val_tp: 58.0000 - val_fp: 7.0000 - val_tn: 56857.0000 - val_fn: 40.0000 - val_accuracy: 0.9992 - val_precision: 0.8923 - val_recall: 0.5918 - val_auc: 0.9486\n",
      "Epoch 14/100\n",
      "112/112 [==============================] - 1s 5ms/step - loss: 0.0034 - tp: 253.0000 - fp: 30.0000 - tn: 227421.0000 - fn: 141.0000 - accuracy: 0.9992 - precision: 0.8940 - recall: 0.6421 - auc: 0.9485 - val_loss: 0.0029 - val_tp: 59.0000 - val_fp: 7.0000 - val_tn: 56857.0000 - val_fn: 39.0000 - val_accuracy: 0.9992 - val_precision: 0.8939 - val_recall: 0.6020 - val_auc: 0.9487\n",
      "Epoch 15/100\n",
      "112/112 [==============================] - 1s 5ms/step - loss: 0.0034 - tp: 255.0000 - fp: 32.0000 - tn: 227419.0000 - fn: 139.0000 - accuracy: 0.9992 - precision: 0.8885 - recall: 0.6472 - auc: 0.9422 - val_loss: 0.0028 - val_tp: 65.0000 - val_fp: 7.0000 - val_tn: 56857.0000 - val_fn: 33.0000 - val_accuracy: 0.9993 - val_precision: 0.9028 - val_recall: 0.6633 - val_auc: 0.9487\n",
      "Epoch 16/100\n",
      "112/112 [==============================] - 1s 5ms/step - loss: 0.0033 - tp: 256.0000 - fp: 38.0000 - tn: 227413.0000 - fn: 138.0000 - accuracy: 0.9992 - precision: 0.8707 - recall: 0.6497 - auc: 0.9346 - val_loss: 0.0028 - val_tp: 64.0000 - val_fp: 9.0000 - val_tn: 56855.0000 - val_fn: 34.0000 - val_accuracy: 0.9992 - val_precision: 0.8767 - val_recall: 0.6531 - val_auc: 0.9588\n",
      "Epoch 17/100\n",
      "112/112 [==============================] - 1s 5ms/step - loss: 0.0031 - tp: 270.0000 - fp: 39.0000 - tn: 227412.0000 - fn: 124.0000 - accuracy: 0.9993 - precision: 0.8738 - recall: 0.6853 - auc: 0.9562 - val_loss: 0.0027 - val_tp: 65.0000 - val_fp: 6.0000 - val_tn: 56858.0000 - val_fn: 33.0000 - val_accuracy: 0.9993 - val_precision: 0.9155 - val_recall: 0.6633 - val_auc: 0.9436\n",
      "Epoch 18/100\n",
      "112/112 [==============================] - 1s 5ms/step - loss: 0.0033 - tp: 258.0000 - fp: 38.0000 - tn: 227413.0000 - fn: 136.0000 - accuracy: 0.9992 - precision: 0.8716 - recall: 0.6548 - auc: 0.9510 - val_loss: 0.0027 - val_tp: 67.0000 - val_fp: 6.0000 - val_tn: 56858.0000 - val_fn: 31.0000 - val_accuracy: 0.9994 - val_precision: 0.9178 - val_recall: 0.6837 - val_auc: 0.9436\n",
      "Epoch 19/100\n",
      "112/112 [==============================] - 1s 5ms/step - loss: 0.0031 - tp: 263.0000 - fp: 36.0000 - tn: 227415.0000 - fn: 131.0000 - accuracy: 0.9993 - precision: 0.8796 - recall: 0.6675 - auc: 0.9459 - val_loss: 0.0029 - val_tp: 57.0000 - val_fp: 4.0000 - val_tn: 56860.0000 - val_fn: 41.0000 - val_accuracy: 0.9992 - val_precision: 0.9344 - val_recall: 0.5816 - val_auc: 0.9386\n",
      "Epoch 20/100\n",
      "112/112 [==============================] - 1s 5ms/step - loss: 0.0031 - tp: 279.0000 - fp: 38.0000 - tn: 227413.0000 - fn: 115.0000 - accuracy: 0.9993 - precision: 0.8801 - recall: 0.7081 - auc: 0.9423 - val_loss: 0.0027 - val_tp: 58.0000 - val_fp: 4.0000 - val_tn: 56860.0000 - val_fn: 40.0000 - val_accuracy: 0.9992 - val_precision: 0.9355 - val_recall: 0.5918 - val_auc: 0.9487\n",
      "Epoch 21/100\n",
      "112/112 [==============================] - 1s 5ms/step - loss: 0.0031 - tp: 264.0000 - fp: 32.0000 - tn: 227419.0000 - fn: 130.0000 - accuracy: 0.9993 - precision: 0.8919 - recall: 0.6701 - auc: 0.9523 - val_loss: 0.0027 - val_tp: 60.0000 - val_fp: 4.0000 - val_tn: 56860.0000 - val_fn: 38.0000 - val_accuracy: 0.9993 - val_precision: 0.9375 - val_recall: 0.6122 - val_auc: 0.9487\n",
      "Epoch 22/100\n",
      "112/112 [==============================] - 1s 5ms/step - loss: 0.0029 - tp: 268.0000 - fp: 30.0000 - tn: 227421.0000 - fn: 126.0000 - accuracy: 0.9993 - precision: 0.8993 - recall: 0.6802 - auc: 0.9537 - val_loss: 0.0026 - val_tp: 65.0000 - val_fp: 5.0000 - val_tn: 56859.0000 - val_fn: 33.0000 - val_accuracy: 0.9993 - val_precision: 0.9286 - val_recall: 0.6633 - val_auc: 0.9437\n",
      "Epoch 23/100\n",
      "112/112 [==============================] - 1s 5ms/step - loss: 0.0031 - tp: 267.0000 - fp: 34.0000 - tn: 227417.0000 - fn: 127.0000 - accuracy: 0.9993 - precision: 0.8870 - recall: 0.6777 - auc: 0.9524 - val_loss: 0.0025 - val_tp: 71.0000 - val_fp: 7.0000 - val_tn: 56857.0000 - val_fn: 27.0000 - val_accuracy: 0.9994 - val_precision: 0.9103 - val_recall: 0.7245 - val_auc: 0.9487\n",
      "Epoch 24/100\n",
      "112/112 [==============================] - 1s 5ms/step - loss: 0.0029 - tp: 273.0000 - fp: 40.0000 - tn: 227411.0000 - fn: 121.0000 - accuracy: 0.9993 - precision: 0.8722 - recall: 0.6929 - auc: 0.9574 - val_loss: 0.0028 - val_tp: 61.0000 - val_fp: 4.0000 - val_tn: 56860.0000 - val_fn: 37.0000 - val_accuracy: 0.9993 - val_precision: 0.9385 - val_recall: 0.6224 - val_auc: 0.9437\n",
      "Epoch 25/100\n",
      "112/112 [==============================] - 1s 5ms/step - loss: 0.0032 - tp: 260.0000 - fp: 28.0000 - tn: 227423.0000 - fn: 134.0000 - accuracy: 0.9993 - precision: 0.9028 - recall: 0.6599 - auc: 0.9524 - val_loss: 0.0030 - val_tp: 61.0000 - val_fp: 2.0000 - val_tn: 56862.0000 - val_fn: 37.0000 - val_accuracy: 0.9993 - val_precision: 0.9683 - val_recall: 0.6224 - val_auc: 0.9436\n",
      "Epoch 26/100\n",
      "112/112 [==============================] - 1s 5ms/step - loss: 0.0030 - tp: 255.0000 - fp: 33.0000 - tn: 227418.0000 - fn: 139.0000 - accuracy: 0.9992 - precision: 0.8854 - recall: 0.6472 - auc: 0.9525 - val_loss: 0.0026 - val_tp: 62.0000 - val_fp: 4.0000 - val_tn: 56860.0000 - val_fn: 36.0000 - val_accuracy: 0.9993 - val_precision: 0.9394 - val_recall: 0.6327 - val_auc: 0.9437\n",
      "Restoring model weights from the end of the best epoch.\n",
      "Epoch 00026: early stopping\n"
     ]
    }
   ],
   "source": [
    "model = make_model()\n",
    "model.load_weights(initial_weights)\n",
    "baseline_history = model.fit(X_train, y_train, batch_size=BATCH_SIZE, epochs=EPOCHS, \n",
    "                                        callbacks=[early_stopping], validation_data=(X_test, y_test))"
   ]
  },
  {
   "cell_type": "markdown",
   "metadata": {
    "id": "EEf7OlXQt3zf"
   },
   "source": [
    "## Check trainig history"
   ]
  },
  {
   "cell_type": "code",
   "execution_count": 29,
   "metadata": {
    "id": "OnYt_2T3t3zg"
   },
   "outputs": [],
   "source": [
    "def plot_metrics(history):\n",
    "    metrics = ['loss', 'auc', 'precision', 'recall']\n",
    "    \n",
    "    plt.figure(figsize=(12, 8))\n",
    "    for n, metric in enumerate(metrics):\n",
    "        name = metric.capitalize()\n",
    "        plt.subplot(2, 2, n+1)\n",
    "        plt.plot(history.history[metric], label='Train')\n",
    "        plt.plot(history.history['val_' + metric], label='Val')\n",
    "        plt.xlabel('Epoch')\n",
    "        plt.ylabel(name)\n",
    "        if metric == 'loss':\n",
    "            plt.ylim([0, plt.ylim()[1]])\n",
    "        elif metric == 'auc':\n",
    "            plt.ylim([0.8, 1])\n",
    "        else:\n",
    "            plt.ylim([0, 1])\n",
    "        plt.legend()"
   ]
  },
  {
   "cell_type": "code",
   "execution_count": 30,
   "metadata": {
    "colab": {
     "base_uri": "https://localhost:8080/",
     "height": 501
    },
    "id": "8H3Omag9t3zj",
    "outputId": "94c2e9bd-42d2-4b62-a9ea-fc35234d85de"
   },
   "outputs": [
    {
     "data": {
      "image/png": "[encoded data removed]",
      "text/plain": [
       "<Figure size 864x576 with 4 Axes>"
      ]
     },
     "metadata": {
      "needs_background": "light",
      "tags": []
     },
     "output_type": "display_data"
    }
   ],
   "source": [
    "plot_metrics(baseline_history)"
   ]
  },
  {
   "cell_type": "markdown",
   "metadata": {
    "id": "PROwAK95t3zl"
   },
   "source": [
    "## Evaluate Metric\n",
    "\n",
    "- confusion matrix 를 이용하여 metrics 요약"
   ]
  },
  {
   "cell_type": "code",
   "execution_count": 31,
   "metadata": {
    "colab": {
     "base_uri": "https://localhost:8080/"
    },
    "id": "ZSXfIygjGIpe",
    "outputId": "be624931-3fae-4bc9-cbd3-737a7a3ae442"
   },
   "outputs": [
    {
     "data": {
      "text/plain": [
       "((227845, 1), (56962, 1))"
      ]
     },
     "execution_count": 31,
     "metadata": {
      "tags": []
     },
     "output_type": "execute_result"
    }
   ],
   "source": [
    "train_predictions_baseline = model.predict(X_train, batch_size=BATCH_SIZE)\n",
    "test_predictions_baseline = model.predict(X_test, batch_size=BATCH_SIZE)\n",
    "\n",
    "train_predictions_baseline .shape, test_predictions_baseline.shape"
   ]
  },
  {
   "cell_type": "code",
   "execution_count": 32,
   "metadata": {
    "id": "GKBFC56Nt3zq"
   },
   "outputs": [],
   "source": [
    "def plot_cm(labels, predictions, p=0.5):\n",
    "    \n",
    "    cm = confusion_matrix(labels, predictions > p)\n",
    "    plt.figure(figsize=(5,5))\n",
    "    \n",
    "    sns.heatmap(cm, annot=True, fmt=\"d\")\n",
    "    \n",
    "    plt.title('Confusion matrix @{:.2f}'.format(p))\n",
    "    plt.ylabel('Actual label')\n",
    "    plt.xlabel('Predicted label')\n",
    "\n",
    "    print('TN: ', cm[0][0])\n",
    "    print('FP: ', cm[0][1])\n",
    "    print('FN (Fraud Transaction Missed): ', cm[1][0])\n",
    "    print('TP (Fraud Transaction Detected): ', cm[1][1])\n",
    "    print('Total Fraud Transactions: ', np.sum(cm[1]))"
   ]
  },
  {
   "cell_type": "markdown",
   "metadata": {
    "id": "LWD-EIM7t3zt"
   },
   "source": [
    "### Test dataset 으로 evaluate 하고, confusion matrix 를 그린다"
   ]
  },
  {
   "cell_type": "code",
   "execution_count": 33,
   "metadata": {
    "colab": {
     "base_uri": "https://localhost:8080/"
    },
    "id": "moRMO5VIGIpf",
    "outputId": "f30c499a-34b5-4908-9610-f83802620d1b"
   },
   "outputs": [
    {
     "data": {
      "text/plain": [
       "['loss', 'tp', 'fp', 'tn', 'fn', 'accuracy', 'precision', 'recall', 'auc']"
      ]
     },
     "execution_count": 33,
     "metadata": {
      "tags": []
     },
     "output_type": "execute_result"
    }
   ],
   "source": [
    "model.metrics_names"
   ]
  },
  {
   "cell_type": "code",
   "execution_count": 34,
   "metadata": {
    "colab": {
     "base_uri": "https://localhost:8080/"
    },
    "id": "5AR9QOcwGIpf",
    "outputId": "f4379b37-0cd7-436a-9acb-638dda962a64"
   },
   "outputs": [
    {
     "data": {
      "text/plain": [
       "[0.0027514207176864147,\n",
       " 64.0,\n",
       " 9.0,\n",
       " 56855.0,\n",
       " 34.0,\n",
       " 0.9992451071739197,\n",
       " 0.8767123222351074,\n",
       " 0.6530612111091614,\n",
       " 0.9587756991386414]"
      ]
     },
     "execution_count": 34,
     "metadata": {
      "tags": []
     },
     "output_type": "execute_result"
    }
   ],
   "source": [
    "baseline_results = model.evaluate(X_test, y_test, batch_size=BATCH_SIZE, verbose=0)\n",
    "baseline_results "
   ]
  },
  {
   "cell_type": "code",
   "execution_count": 35,
   "metadata": {
    "colab": {
     "base_uri": "https://localhost:8080/",
     "height": 609
    },
    "id": "Y3nVjXCUt3zu",
    "outputId": "1781ba58-7b6e-471d-a0a6-9bd8116f5f27"
   },
   "outputs": [
    {
     "name": "stdout",
     "output_type": "stream",
     "text": [
      "loss :  0.0027514207176864147\n",
      "tp :  64.0\n",
      "fp :  9.0\n",
      "tn :  56855.0\n",
      "fn :  34.0\n",
      "accuracy :  0.9992451071739197\n",
      "precision :  0.8767123222351074\n",
      "recall :  0.6530612111091614\n",
      "auc :  0.9587756991386414\n",
      "\n",
      "TN:  56855\n",
      "FP:  9\n",
      "FN (Fraud Transaction Missed):  34\n",
      "TP (Fraud Transaction Detected):  64\n",
      "Total Fraud Transactions:  98\n"
     ]
    },
    {
     "data": {
      "image/png": "[encoded data removed]",
      "text/plain": [
       "<Figure size 360x360 with 2 Axes>"
      ]
     },
     "metadata": {
      "needs_background": "light",
      "tags": []
     },
     "output_type": "display_data"
    }
   ],
   "source": [
    "for name, value in zip(model.metrics_names, baseline_results):\n",
    "    print(name, ': ', value)\n",
    "    \n",
    "print()\n",
    "\n",
    "plot_cm(y_test, test_predictions_baseline)"
   ]
  },
  {
   "cell_type": "markdown",
   "metadata": {
    "id": "8F2krKGSt3zx"
   },
   "source": [
    "## Plot ROC"
   ]
  },
  {
   "cell_type": "code",
   "execution_count": 36,
   "metadata": {
    "id": "gAeL0U1et3zy"
   },
   "outputs": [],
   "source": [
    "def plot_roc(name, labels, predictions, **kwargs):\n",
    "    \n",
    "    fp, tp, _ = roc_curve(labels, predictions)\n",
    "    \n",
    "    plt.plot(100*fp, 100*tp, label=name, linewidth=2, **kwargs)\n",
    "    plt.xlabel('FP [%]')\n",
    "    plt.ylabel('TP [%]')\n",
    "    plt.xlim([-0.5,20])\n",
    "    plt.ylim([80,100.5])\n",
    "    plt.grid(True)\n",
    "    ax = plt.gca()\n",
    "    ax.set_aspect('equal')\n",
    "    fig = plt.gcf()\n",
    "    fig.set_size_inches(8, 6)"
   ]
  },
  {
   "cell_type": "code",
   "execution_count": 37,
   "metadata": {
    "colab": {
     "base_uri": "https://localhost:8080/",
     "height": 405
    },
    "id": "_-fDmxMTt3z0",
    "outputId": "21ed098c-3842-4024-b090-675df7ef4cf9"
   },
   "outputs": [
    {
     "data": {
      "text/plain": [
       "<matplotlib.legend.Legend at 0x7ff65eb17bd0>"
      ]
     },
     "execution_count": 37,
     "metadata": {
      "tags": []
     },
     "output_type": "execute_result"
    },
    {
     "data": {
      "image/png": "[encoded data removed]",
      "text/plain": [
       "<Figure size 576x432 with 1 Axes>"
      ]
     },
     "metadata": {
      "needs_background": "light",
      "tags": []
     },
     "output_type": "display_data"
    }
   ],
   "source": [
    "plot_roc(\"Train Baseline\", y_train, train_predictions_baseline, color='red')\n",
    "plot_roc(\"Test Baseline\", y_test, test_predictions_baseline, color='blue', linestyle='--')\n",
    "plt.legend(loc='lower right')"
   ]
  },
  {
   "cell_type": "markdown",
   "metadata": {
    "id": "_d83CAb9t3z5"
   },
   "source": [
    "정밀도가 비교적 높은 것처럼 보이지만 리콜 및 ROC 곡선 아래 면적 (AUC)은 원하는만큼 높지 않습니다. 분류기는 종종 정밀도와 재현율을 모두 극대화하려고 할 때 어려움에 직면합니다. 특히 불균형 데이터 세트로 작업 할 때는 더욱 그렇습니다. "
   ]
  },
  {
   "cell_type": "markdown",
   "metadata": {
    "id": "-P-iJJ1pt3z5"
   },
   "source": [
    "## Class Weight \n",
    "\n",
    "사용할 positive 샘플이 많지 않기 때문에 가용한 적은 수의 sample 에 classifier 가 더 비중을 두도록 할 수 있다. \n",
    "\n",
    "step1 - 레이블 및 관련 가중치로 dictionary 정의 \n",
    "```\n",
    "class_weight = {0: 1.,\n",
    "                         1: 50.,\n",
    "                         2: 2.}\n",
    "```                \n",
    "step2 - dictionary를 매개 변수로 공급:  \n",
    "```\n",
    "    model.fit(X_train, Y_train, nb_epoch=5, batch_size=32, class_weight=class_weight)\n",
    "```\n",
    "\n",
    "- class 1 하나를 50 개의 classs 0 로 취급 $\\rightarrow$ loss function 계산 시 class_weight 에 지정된 대로 가중 평균"
   ]
  },
  {
   "cell_type": "code",
   "execution_count": 38,
   "metadata": {
    "colab": {
     "base_uri": "https://localhost:8080/"
    },
    "id": "8VevE6hHt3z6",
    "outputId": "d7b208bf-bfef-44de-e2a4-041c621ae63f"
   },
   "outputs": [
    {
     "name": "stdout",
     "output_type": "stream",
     "text": [
      "Weight for class 0: 0.50\n",
      "Weight for class 1: 289.44\n"
     ]
    }
   ],
   "source": [
    "# total/2 로 scale 하면 loss를 비슷한 크기로 유지하는 데 도움이됩니다.\n",
    "# 모든 example의 가중치 합계는 동일하게 유지됩니다.\n",
    "\n",
    "weight_for_0 = (1 / neg)*(total)/2.0 \n",
    "weight_for_1 = (1 / pos)*(total)/2.0\n",
    "\n",
    "class_weight = {0: weight_for_0, 1: weight_for_1}\n",
    "\n",
    "print('Weight for class 0: {:.2f}'.format(weight_for_0))\n",
    "print('Weight for class 1: {:.2f}'.format(weight_for_1))"
   ]
  },
  {
   "cell_type": "code",
   "execution_count": 39,
   "metadata": {
    "colab": {
     "base_uri": "https://localhost:8080/"
    },
    "id": "Am_veDXSt3z9",
    "outputId": "b9cf5512-8dea-495f-e34a-60677a102b3b",
    "scrolled": true
   },
   "outputs": [
    {
     "name": "stdout",
     "output_type": "stream",
     "text": [
      "WARNING:tensorflow:From /usr/local/lib/python3.7/dist-packages/tensorflow/python/ops/array_ops.py:5049: calling gather (from tensorflow.python.ops.array_ops) with validate_indices is deprecated and will be removed in a future version.\n",
      "Instructions for updating:\n",
      "The `validate_indices` argument has no effect. Indices are always validated on CPU and never validated on GPU.\n",
      "Epoch 1/100\n"
     ]
    },
    {
     "name": "stderr",
     "output_type": "stream",
     "text": [
      "/usr/local/lib/python3.7/dist-packages/tensorflow/python/keras/optimizer_v2/optimizer_v2.py:375: UserWarning: The `lr` argument is deprecated, use `learning_rate` instead.\n",
      "  \"The `lr` argument is deprecated, use `learning_rate` instead.\")\n"
     ]
    },
    {
     "name": "stdout",
     "output_type": "stream",
     "text": [
      "112/112 [==============================] - 3s 11ms/step - loss: 1.2248 - tp: 235.0000 - fp: 185.0000 - tn: 284130.0000 - fn: 257.0000 - accuracy: 0.9984 - precision: 0.5595 - recall: 0.4776 - auc: 0.8949 - val_loss: 0.0137 - val_tp: 76.0000 - val_fp: 71.0000 - val_tn: 56793.0000 - val_fn: 22.0000 - val_accuracy: 0.9984 - val_precision: 0.5170 - val_recall: 0.7755 - val_auc: 0.9715\n",
      "Epoch 2/100\n",
      "112/112 [==============================] - 1s 5ms/step - loss: 0.3952 - tp: 304.0000 - fp: 1775.0000 - tn: 225676.0000 - fn: 90.0000 - accuracy: 0.9918 - precision: 0.1462 - recall: 0.7716 - auc: 0.9507 - val_loss: 0.0576 - val_tp: 87.0000 - val_fp: 649.0000 - val_tn: 56215.0000 - val_fn: 11.0000 - val_accuracy: 0.9884 - val_precision: 0.1182 - val_recall: 0.8878 - val_auc: 0.9769\n",
      "Epoch 3/100\n",
      "112/112 [==============================] - 1s 5ms/step - loss: 0.2562 - tp: 339.0000 - fp: 6000.0000 - tn: 221451.0000 - fn: 55.0000 - accuracy: 0.9734 - precision: 0.0535 - recall: 0.8604 - auc: 0.9632 - val_loss: 0.0952 - val_tp: 88.0000 - val_fp: 1205.0000 - val_tn: 55659.0000 - val_fn: 10.0000 - val_accuracy: 0.9787 - val_precision: 0.0681 - val_recall: 0.8980 - val_auc: 0.9796\n",
      "Epoch 4/100\n",
      "112/112 [==============================] - 1s 5ms/step - loss: 0.2300 - tp: 348.0000 - fp: 7128.0000 - tn: 220323.0000 - fn: 46.0000 - accuracy: 0.9685 - precision: 0.0465 - recall: 0.8832 - auc: 0.9661 - val_loss: 0.1018 - val_tp: 89.0000 - val_fp: 1294.0000 - val_tn: 55570.0000 - val_fn: 9.0000 - val_accuracy: 0.9771 - val_precision: 0.0644 - val_recall: 0.9082 - val_auc: 0.9822\n",
      "Epoch 5/100\n",
      "112/112 [==============================] - 1s 5ms/step - loss: 0.2269 - tp: 349.0000 - fp: 7707.0000 - tn: 219744.0000 - fn: 45.0000 - accuracy: 0.9660 - precision: 0.0433 - recall: 0.8858 - auc: 0.9683 - val_loss: 0.1090 - val_tp: 89.0000 - val_fp: 1402.0000 - val_tn: 55462.0000 - val_fn: 9.0000 - val_accuracy: 0.9752 - val_precision: 0.0597 - val_recall: 0.9082 - val_auc: 0.9834\n",
      "Epoch 6/100\n",
      "112/112 [==============================] - 1s 5ms/step - loss: 0.2199 - tp: 350.0000 - fp: 8629.0000 - tn: 218822.0000 - fn: 44.0000 - accuracy: 0.9619 - precision: 0.0390 - recall: 0.8883 - auc: 0.9698 - val_loss: 0.0983 - val_tp: 89.0000 - val_fp: 1253.0000 - val_tn: 55611.0000 - val_fn: 9.0000 - val_accuracy: 0.9778 - val_precision: 0.0663 - val_recall: 0.9082 - val_auc: 0.9835\n",
      "Epoch 7/100\n",
      "112/112 [==============================] - 1s 5ms/step - loss: 0.2015 - tp: 352.0000 - fp: 7878.0000 - tn: 219573.0000 - fn: 42.0000 - accuracy: 0.9652 - precision: 0.0428 - recall: 0.8934 - auc: 0.9747 - val_loss: 0.1104 - val_tp: 89.0000 - val_fp: 1448.0000 - val_tn: 55416.0000 - val_fn: 9.0000 - val_accuracy: 0.9744 - val_precision: 0.0579 - val_recall: 0.9082 - val_auc: 0.9835\n",
      "Epoch 8/100\n",
      "112/112 [==============================] - 1s 5ms/step - loss: 0.1915 - tp: 355.0000 - fp: 7827.0000 - tn: 219624.0000 - fn: 39.0000 - accuracy: 0.9655 - precision: 0.0434 - recall: 0.9010 - auc: 0.9744 - val_loss: 0.0909 - val_tp: 89.0000 - val_fp: 1153.0000 - val_tn: 55711.0000 - val_fn: 9.0000 - val_accuracy: 0.9796 - val_precision: 0.0717 - val_recall: 0.9082 - val_auc: 0.9849\n",
      "Epoch 9/100\n",
      "112/112 [==============================] - 1s 5ms/step - loss: 0.1626 - tp: 355.0000 - fp: 7366.0000 - tn: 220085.0000 - fn: 39.0000 - accuracy: 0.9675 - precision: 0.0460 - recall: 0.9010 - auc: 0.9859 - val_loss: 0.0979 - val_tp: 89.0000 - val_fp: 1244.0000 - val_tn: 55620.0000 - val_fn: 9.0000 - val_accuracy: 0.9780 - val_precision: 0.0668 - val_recall: 0.9082 - val_auc: 0.9841\n",
      "Epoch 10/100\n",
      "112/112 [==============================] - 1s 5ms/step - loss: 0.1688 - tp: 360.0000 - fp: 7842.0000 - tn: 219609.0000 - fn: 34.0000 - accuracy: 0.9654 - precision: 0.0439 - recall: 0.9137 - auc: 0.9837 - val_loss: 0.0856 - val_tp: 89.0000 - val_fp: 1046.0000 - val_tn: 55818.0000 - val_fn: 9.0000 - val_accuracy: 0.9815 - val_precision: 0.0784 - val_recall: 0.9082 - val_auc: 0.9849\n",
      "Epoch 11/100\n",
      "112/112 [==============================] - 1s 5ms/step - loss: 0.1686 - tp: 360.0000 - fp: 7643.0000 - tn: 219808.0000 - fn: 34.0000 - accuracy: 0.9663 - precision: 0.0450 - recall: 0.9137 - auc: 0.9822 - val_loss: 0.0837 - val_tp: 89.0000 - val_fp: 991.0000 - val_tn: 55873.0000 - val_fn: 9.0000 - val_accuracy: 0.9824 - val_precision: 0.0824 - val_recall: 0.9082 - val_auc: 0.9853\n",
      "Epoch 12/100\n",
      "112/112 [==============================] - 1s 5ms/step - loss: 0.1541 - tp: 359.0000 - fp: 7501.0000 - tn: 219950.0000 - fn: 35.0000 - accuracy: 0.9669 - precision: 0.0457 - recall: 0.9112 - auc: 0.9855 - val_loss: 0.0753 - val_tp: 89.0000 - val_fp: 812.0000 - val_tn: 56052.0000 - val_fn: 9.0000 - val_accuracy: 0.9856 - val_precision: 0.0988 - val_recall: 0.9082 - val_auc: 0.9859\n",
      "Epoch 13/100\n",
      "112/112 [==============================] - 1s 5ms/step - loss: 0.1707 - tp: 356.0000 - fp: 6294.0000 - tn: 221157.0000 - fn: 38.0000 - accuracy: 0.9722 - precision: 0.0535 - recall: 0.9036 - auc: 0.9817 - val_loss: 0.0874 - val_tp: 89.0000 - val_fp: 1057.0000 - val_tn: 55807.0000 - val_fn: 9.0000 - val_accuracy: 0.9813 - val_precision: 0.0777 - val_recall: 0.9082 - val_auc: 0.9865\n",
      "Epoch 14/100\n",
      "112/112 [==============================] - 1s 5ms/step - loss: 0.1794 - tp: 354.0000 - fp: 7139.0000 - tn: 220312.0000 - fn: 40.0000 - accuracy: 0.9685 - precision: 0.0472 - recall: 0.8985 - auc: 0.9791 - val_loss: 0.1001 - val_tp: 90.0000 - val_fp: 1267.0000 - val_tn: 55597.0000 - val_fn: 8.0000 - val_accuracy: 0.9776 - val_precision: 0.0663 - val_recall: 0.9184 - val_auc: 0.9865\n",
      "Epoch 15/100\n",
      "112/112 [==============================] - 1s 5ms/step - loss: 0.1592 - tp: 360.0000 - fp: 7838.0000 - tn: 219613.0000 - fn: 34.0000 - accuracy: 0.9655 - precision: 0.0439 - recall: 0.9137 - auc: 0.9831 - val_loss: 0.0756 - val_tp: 89.0000 - val_fp: 855.0000 - val_tn: 56009.0000 - val_fn: 9.0000 - val_accuracy: 0.9848 - val_precision: 0.0943 - val_recall: 0.9082 - val_auc: 0.9858\n",
      "Epoch 16/100\n",
      "112/112 [==============================] - 1s 5ms/step - loss: 0.1416 - tp: 360.0000 - fp: 6383.0000 - tn: 221068.0000 - fn: 34.0000 - accuracy: 0.9718 - precision: 0.0534 - recall: 0.9137 - auc: 0.9885 - val_loss: 0.0862 - val_tp: 89.0000 - val_fp: 1057.0000 - val_tn: 55807.0000 - val_fn: 9.0000 - val_accuracy: 0.9813 - val_precision: 0.0777 - val_recall: 0.9082 - val_auc: 0.9860\n",
      "Epoch 17/100\n",
      "112/112 [==============================] - 1s 5ms/step - loss: 0.1530 - tp: 358.0000 - fp: 6962.0000 - tn: 220489.0000 - fn: 36.0000 - accuracy: 0.9693 - precision: 0.0489 - recall: 0.9086 - auc: 0.9860 - val_loss: 0.0821 - val_tp: 89.0000 - val_fp: 992.0000 - val_tn: 55872.0000 - val_fn: 9.0000 - val_accuracy: 0.9824 - val_precision: 0.0823 - val_recall: 0.9082 - val_auc: 0.9862\n",
      "Epoch 18/100\n",
      "112/112 [==============================] - 1s 5ms/step - loss: 0.1433 - tp: 363.0000 - fp: 7208.0000 - tn: 220243.0000 - fn: 31.0000 - accuracy: 0.9682 - precision: 0.0479 - recall: 0.9213 - auc: 0.9875 - val_loss: 0.0851 - val_tp: 90.0000 - val_fp: 1026.0000 - val_tn: 55838.0000 - val_fn: 8.0000 - val_accuracy: 0.9818 - val_precision: 0.0806 - val_recall: 0.9184 - val_auc: 0.9864\n",
      "Epoch 19/100\n",
      "112/112 [==============================] - 1s 5ms/step - loss: 0.1459 - tp: 361.0000 - fp: 7279.0000 - tn: 220172.0000 - fn: 33.0000 - accuracy: 0.9679 - precision: 0.0473 - recall: 0.9162 - auc: 0.9878 - val_loss: 0.0809 - val_tp: 89.0000 - val_fp: 998.0000 - val_tn: 55866.0000 - val_fn: 9.0000 - val_accuracy: 0.9823 - val_precision: 0.0819 - val_recall: 0.9082 - val_auc: 0.9867\n",
      "Epoch 20/100\n",
      "112/112 [==============================] - 1s 5ms/step - loss: 0.1457 - tp: 359.0000 - fp: 7385.0000 - tn: 220066.0000 - fn: 35.0000 - accuracy: 0.9674 - precision: 0.0464 - recall: 0.9112 - auc: 0.9867 - val_loss: 0.0702 - val_tp: 89.0000 - val_fp: 841.0000 - val_tn: 56023.0000 - val_fn: 9.0000 - val_accuracy: 0.9851 - val_precision: 0.0957 - val_recall: 0.9082 - val_auc: 0.9871\n",
      "Epoch 21/100\n",
      "112/112 [==============================] - 1s 5ms/step - loss: 0.1388 - tp: 363.0000 - fp: 6609.0000 - tn: 220842.0000 - fn: 31.0000 - accuracy: 0.9709 - precision: 0.0521 - recall: 0.9213 - auc: 0.9872 - val_loss: 0.0629 - val_tp: 89.0000 - val_fp: 683.0000 - val_tn: 56181.0000 - val_fn: 9.0000 - val_accuracy: 0.9879 - val_precision: 0.1153 - val_recall: 0.9082 - val_auc: 0.9876\n",
      "Epoch 22/100\n",
      "112/112 [==============================] - 1s 5ms/step - loss: 0.1335 - tp: 362.0000 - fp: 6215.0000 - tn: 221236.0000 - fn: 32.0000 - accuracy: 0.9726 - precision: 0.0550 - recall: 0.9188 - auc: 0.9896 - val_loss: 0.0652 - val_tp: 89.0000 - val_fp: 754.0000 - val_tn: 56110.0000 - val_fn: 9.0000 - val_accuracy: 0.9866 - val_precision: 0.1056 - val_recall: 0.9082 - val_auc: 0.9876\n",
      "Epoch 23/100\n",
      "112/112 [==============================] - 1s 5ms/step - loss: 0.1127 - tp: 368.0000 - fp: 6340.0000 - tn: 221111.0000 - fn: 26.0000 - accuracy: 0.9721 - precision: 0.0549 - recall: 0.9340 - auc: 0.9924 - val_loss: 0.0614 - val_tp: 89.0000 - val_fp: 669.0000 - val_tn: 56195.0000 - val_fn: 9.0000 - val_accuracy: 0.9881 - val_precision: 0.1174 - val_recall: 0.9082 - val_auc: 0.9878\n",
      "Epoch 24/100\n",
      "112/112 [==============================] - 1s 5ms/step - loss: 0.1275 - tp: 368.0000 - fp: 5140.0000 - tn: 222311.0000 - fn: 26.0000 - accuracy: 0.9773 - precision: 0.0668 - recall: 0.9340 - auc: 0.9891 - val_loss: 0.0717 - val_tp: 89.0000 - val_fp: 878.0000 - val_tn: 55986.0000 - val_fn: 9.0000 - val_accuracy: 0.9844 - val_precision: 0.0920 - val_recall: 0.9082 - val_auc: 0.9876\n",
      "Epoch 25/100\n",
      "112/112 [==============================] - 1s 5ms/step - loss: 0.1369 - tp: 368.0000 - fp: 6096.0000 - tn: 221355.0000 - fn: 26.0000 - accuracy: 0.9731 - precision: 0.0569 - recall: 0.9340 - auc: 0.9879 - val_loss: 0.0698 - val_tp: 89.0000 - val_fp: 840.0000 - val_tn: 56024.0000 - val_fn: 9.0000 - val_accuracy: 0.9851 - val_precision: 0.0958 - val_recall: 0.9082 - val_auc: 0.9878\n",
      "Epoch 26/100\n",
      "112/112 [==============================] - 1s 5ms/step - loss: 0.1264 - tp: 364.0000 - fp: 6239.0000 - tn: 221212.0000 - fn: 30.0000 - accuracy: 0.9725 - precision: 0.0551 - recall: 0.9239 - auc: 0.9909 - val_loss: 0.0761 - val_tp: 90.0000 - val_fp: 955.0000 - val_tn: 55909.0000 - val_fn: 8.0000 - val_accuracy: 0.9831 - val_precision: 0.0861 - val_recall: 0.9184 - val_auc: 0.9878\n",
      "Epoch 27/100\n",
      "112/112 [==============================] - 1s 5ms/step - loss: 0.1152 - tp: 369.0000 - fp: 6294.0000 - tn: 221157.0000 - fn: 25.0000 - accuracy: 0.9723 - precision: 0.0554 - recall: 0.9365 - auc: 0.9920 - val_loss: 0.0716 - val_tp: 90.0000 - val_fp: 904.0000 - val_tn: 55960.0000 - val_fn: 8.0000 - val_accuracy: 0.9840 - val_precision: 0.0905 - val_recall: 0.9184 - val_auc: 0.9883\n",
      "Epoch 28/100\n",
      "112/112 [==============================] - 1s 5ms/step - loss: 0.1225 - tp: 366.0000 - fp: 5915.0000 - tn: 221536.0000 - fn: 28.0000 - accuracy: 0.9739 - precision: 0.0583 - recall: 0.9289 - auc: 0.9912 - val_loss: 0.0732 - val_tp: 90.0000 - val_fp: 937.0000 - val_tn: 55927.0000 - val_fn: 8.0000 - val_accuracy: 0.9834 - val_precision: 0.0876 - val_recall: 0.9184 - val_auc: 0.9884\n",
      "Epoch 29/100\n",
      "112/112 [==============================] - 1s 5ms/step - loss: 0.1108 - tp: 370.0000 - fp: 6162.0000 - tn: 221289.0000 - fn: 24.0000 - accuracy: 0.9728 - precision: 0.0566 - recall: 0.9391 - auc: 0.9933 - val_loss: 0.0685 - val_tp: 90.0000 - val_fp: 856.0000 - val_tn: 56008.0000 - val_fn: 8.0000 - val_accuracy: 0.9848 - val_precision: 0.0951 - val_recall: 0.9184 - val_auc: 0.9884\n",
      "Epoch 30/100\n",
      "112/112 [==============================] - 1s 5ms/step - loss: 0.1279 - tp: 368.0000 - fp: 6665.0000 - tn: 220786.0000 - fn: 26.0000 - accuracy: 0.9706 - precision: 0.0523 - recall: 0.9340 - auc: 0.9904 - val_loss: 0.0626 - val_tp: 90.0000 - val_fp: 762.0000 - val_tn: 56102.0000 - val_fn: 8.0000 - val_accuracy: 0.9865 - val_precision: 0.1056 - val_recall: 0.9184 - val_auc: 0.9884\n",
      "Epoch 31/100\n",
      "112/112 [==============================] - 1s 5ms/step - loss: 0.1054 - tp: 372.0000 - fp: 5762.0000 - tn: 221689.0000 - fn: 22.0000 - accuracy: 0.9746 - precision: 0.0606 - recall: 0.9442 - auc: 0.9936 - val_loss: 0.0532 - val_tp: 90.0000 - val_fp: 632.0000 - val_tn: 56232.0000 - val_fn: 8.0000 - val_accuracy: 0.9888 - val_precision: 0.1247 - val_recall: 0.9184 - val_auc: 0.9887\n",
      "Epoch 32/100\n",
      "112/112 [==============================] - 1s 5ms/step - loss: 0.0951 - tp: 371.0000 - fp: 5270.0000 - tn: 222181.0000 - fn: 23.0000 - accuracy: 0.9768 - precision: 0.0658 - recall: 0.9416 - auc: 0.9950 - val_loss: 0.0569 - val_tp: 89.0000 - val_fp: 686.0000 - val_tn: 56178.0000 - val_fn: 9.0000 - val_accuracy: 0.9878 - val_precision: 0.1148 - val_recall: 0.9082 - val_auc: 0.9883\n",
      "Epoch 33/100\n",
      "112/112 [==============================] - 1s 5ms/step - loss: 0.1127 - tp: 368.0000 - fp: 5722.0000 - tn: 221729.0000 - fn: 26.0000 - accuracy: 0.9748 - precision: 0.0604 - recall: 0.9340 - auc: 0.9922 - val_loss: 0.0630 - val_tp: 90.0000 - val_fp: 759.0000 - val_tn: 56105.0000 - val_fn: 8.0000 - val_accuracy: 0.9865 - val_precision: 0.1060 - val_recall: 0.9184 - val_auc: 0.9884\n",
      "Epoch 34/100\n",
      "112/112 [==============================] - 1s 5ms/step - loss: 0.0964 - tp: 373.0000 - fp: 5495.0000 - tn: 221956.0000 - fn: 21.0000 - accuracy: 0.9758 - precision: 0.0636 - recall: 0.9467 - auc: 0.9949 - val_loss: 0.0548 - val_tp: 90.0000 - val_fp: 633.0000 - val_tn: 56231.0000 - val_fn: 8.0000 - val_accuracy: 0.9887 - val_precision: 0.1245 - val_recall: 0.9184 - val_auc: 0.9888\n",
      "Epoch 35/100\n",
      "112/112 [==============================] - 1s 5ms/step - loss: 0.1040 - tp: 368.0000 - fp: 5323.0000 - tn: 222128.0000 - fn: 26.0000 - accuracy: 0.9765 - precision: 0.0647 - recall: 0.9340 - auc: 0.9942 - val_loss: 0.0623 - val_tp: 90.0000 - val_fp: 767.0000 - val_tn: 56097.0000 - val_fn: 8.0000 - val_accuracy: 0.9864 - val_precision: 0.1050 - val_recall: 0.9184 - val_auc: 0.9889\n",
      "Epoch 36/100\n",
      "112/112 [==============================] - 1s 5ms/step - loss: 0.1050 - tp: 373.0000 - fp: 5873.0000 - tn: 221578.0000 - fn: 21.0000 - accuracy: 0.9741 - precision: 0.0597 - recall: 0.9467 - auc: 0.9938 - val_loss: 0.0553 - val_tp: 90.0000 - val_fp: 675.0000 - val_tn: 56189.0000 - val_fn: 8.0000 - val_accuracy: 0.9880 - val_precision: 0.1176 - val_recall: 0.9184 - val_auc: 0.9891\n",
      "Epoch 37/100\n",
      "112/112 [==============================] - 1s 5ms/step - loss: 0.1112 - tp: 365.0000 - fp: 6113.0000 - tn: 221338.0000 - fn: 29.0000 - accuracy: 0.9730 - precision: 0.0563 - recall: 0.9264 - auc: 0.9929 - val_loss: 0.0603 - val_tp: 90.0000 - val_fp: 784.0000 - val_tn: 56080.0000 - val_fn: 8.0000 - val_accuracy: 0.9861 - val_precision: 0.1030 - val_recall: 0.9184 - val_auc: 0.9888\n",
      "Epoch 38/100\n",
      "112/112 [==============================] - 1s 5ms/step - loss: 0.1120 - tp: 370.0000 - fp: 5997.0000 - tn: 221454.0000 - fn: 24.0000 - accuracy: 0.9736 - precision: 0.0581 - recall: 0.9391 - auc: 0.9928 - val_loss: 0.0602 - val_tp: 90.0000 - val_fp: 817.0000 - val_tn: 56047.0000 - val_fn: 8.0000 - val_accuracy: 0.9855 - val_precision: 0.0992 - val_recall: 0.9184 - val_auc: 0.9889\n",
      "Epoch 39/100\n",
      "112/112 [==============================] - 1s 5ms/step - loss: 0.1005 - tp: 370.0000 - fp: 5873.0000 - tn: 221578.0000 - fn: 24.0000 - accuracy: 0.9741 - precision: 0.0593 - recall: 0.9391 - auc: 0.9945 - val_loss: 0.0610 - val_tp: 90.0000 - val_fp: 873.0000 - val_tn: 55991.0000 - val_fn: 8.0000 - val_accuracy: 0.9845 - val_precision: 0.0935 - val_recall: 0.9184 - val_auc: 0.9888\n",
      "Epoch 40/100\n",
      "112/112 [==============================] - 1s 5ms/step - loss: 0.0840 - tp: 375.0000 - fp: 5369.0000 - tn: 222082.0000 - fn: 19.0000 - accuracy: 0.9764 - precision: 0.0653 - recall: 0.9518 - auc: 0.9962 - val_loss: 0.0536 - val_tp: 90.0000 - val_fp: 677.0000 - val_tn: 56187.0000 - val_fn: 8.0000 - val_accuracy: 0.9880 - val_precision: 0.1173 - val_recall: 0.9184 - val_auc: 0.9891\n",
      "Epoch 41/100\n",
      "112/112 [==============================] - 1s 5ms/step - loss: 0.0959 - tp: 376.0000 - fp: 6002.0000 - tn: 221449.0000 - fn: 18.0000 - accuracy: 0.9736 - precision: 0.0590 - recall: 0.9543 - auc: 0.9948 - val_loss: 0.0505 - val_tp: 90.0000 - val_fp: 605.0000 - val_tn: 56259.0000 - val_fn: 8.0000 - val_accuracy: 0.9892 - val_precision: 0.1295 - val_recall: 0.9184 - val_auc: 0.9890\n",
      "Epoch 42/100\n",
      "112/112 [==============================] - 1s 5ms/step - loss: 0.0981 - tp: 371.0000 - fp: 5779.0000 - tn: 221672.0000 - fn: 23.0000 - accuracy: 0.9745 - precision: 0.0603 - recall: 0.9416 - auc: 0.9945 - val_loss: 0.0503 - val_tp: 90.0000 - val_fp: 621.0000 - val_tn: 56243.0000 - val_fn: 8.0000 - val_accuracy: 0.9890 - val_precision: 0.1266 - val_recall: 0.9184 - val_auc: 0.9892\n",
      "Epoch 43/100\n",
      "112/112 [==============================] - 1s 5ms/step - loss: 0.0988 - tp: 368.0000 - fp: 5746.0000 - tn: 221705.0000 - fn: 26.0000 - accuracy: 0.9747 - precision: 0.0602 - recall: 0.9340 - auc: 0.9948 - val_loss: 0.0594 - val_tp: 90.0000 - val_fp: 793.0000 - val_tn: 56071.0000 - val_fn: 8.0000 - val_accuracy: 0.9859 - val_precision: 0.1019 - val_recall: 0.9184 - val_auc: 0.9889\n",
      "Epoch 44/100\n",
      "112/112 [==============================] - 1s 5ms/step - loss: 0.0948 - tp: 379.0000 - fp: 5892.0000 - tn: 221559.0000 - fn: 15.0000 - accuracy: 0.9741 - precision: 0.0604 - recall: 0.9619 - auc: 0.9948 - val_loss: 0.0527 - val_tp: 90.0000 - val_fp: 683.0000 - val_tn: 56181.0000 - val_fn: 8.0000 - val_accuracy: 0.9879 - val_precision: 0.1164 - val_recall: 0.9184 - val_auc: 0.9890\n",
      "Epoch 45/100\n",
      "112/112 [==============================] - 1s 5ms/step - loss: 0.0901 - tp: 372.0000 - fp: 5257.0000 - tn: 222194.0000 - fn: 22.0000 - accuracy: 0.9768 - precision: 0.0661 - recall: 0.9442 - auc: 0.9957 - val_loss: 0.0490 - val_tp: 90.0000 - val_fp: 635.0000 - val_tn: 56229.0000 - val_fn: 8.0000 - val_accuracy: 0.9887 - val_precision: 0.1241 - val_recall: 0.9184 - val_auc: 0.9893\n",
      "Epoch 46/100\n",
      "112/112 [==============================] - 1s 5ms/step - loss: 0.0792 - tp: 379.0000 - fp: 4863.0000 - tn: 222588.0000 - fn: 15.0000 - accuracy: 0.9786 - precision: 0.0723 - recall: 0.9619 - auc: 0.9966 - val_loss: 0.0537 - val_tp: 90.0000 - val_fp: 755.0000 - val_tn: 56109.0000 - val_fn: 8.0000 - val_accuracy: 0.9866 - val_precision: 0.1065 - val_recall: 0.9184 - val_auc: 0.9895\n",
      "Epoch 47/100\n",
      "112/112 [==============================] - 1s 5ms/step - loss: 0.0804 - tp: 380.0000 - fp: 5239.0000 - tn: 222212.0000 - fn: 14.0000 - accuracy: 0.9769 - precision: 0.0676 - recall: 0.9645 - auc: 0.9962 - val_loss: 0.0446 - val_tp: 90.0000 - val_fp: 580.0000 - val_tn: 56284.0000 - val_fn: 8.0000 - val_accuracy: 0.9897 - val_precision: 0.1343 - val_recall: 0.9184 - val_auc: 0.9897\n",
      "Epoch 48/100\n",
      "112/112 [==============================] - 1s 5ms/step - loss: 0.0930 - tp: 375.0000 - fp: 5029.0000 - tn: 222422.0000 - fn: 19.0000 - accuracy: 0.9778 - precision: 0.0694 - recall: 0.9518 - auc: 0.9952 - val_loss: 0.0513 - val_tp: 90.0000 - val_fp: 732.0000 - val_tn: 56132.0000 - val_fn: 8.0000 - val_accuracy: 0.9870 - val_precision: 0.1095 - val_recall: 0.9184 - val_auc: 0.9894\n",
      "Epoch 49/100\n",
      "112/112 [==============================] - 1s 5ms/step - loss: 0.0747 - tp: 378.0000 - fp: 4903.0000 - tn: 222548.0000 - fn: 16.0000 - accuracy: 0.9784 - precision: 0.0716 - recall: 0.9594 - auc: 0.9966 - val_loss: 0.0459 - val_tp: 90.0000 - val_fp: 624.0000 - val_tn: 56240.0000 - val_fn: 8.0000 - val_accuracy: 0.9889 - val_precision: 0.1261 - val_recall: 0.9184 - val_auc: 0.9894\n",
      "Epoch 50/100\n",
      "112/112 [==============================] - 1s 5ms/step - loss: 0.0743 - tp: 379.0000 - fp: 4594.0000 - tn: 222857.0000 - fn: 15.0000 - accuracy: 0.9798 - precision: 0.0762 - recall: 0.9619 - auc: 0.9969 - val_loss: 0.0477 - val_tp: 90.0000 - val_fp: 668.0000 - val_tn: 56196.0000 - val_fn: 8.0000 - val_accuracy: 0.9881 - val_precision: 0.1187 - val_recall: 0.9184 - val_auc: 0.9894\n",
      "Epoch 51/100\n",
      "112/112 [==============================] - 1s 5ms/step - loss: 0.0784 - tp: 380.0000 - fp: 4966.0000 - tn: 222485.0000 - fn: 14.0000 - accuracy: 0.9781 - precision: 0.0711 - recall: 0.9645 - auc: 0.9964 - val_loss: 0.0408 - val_tp: 90.0000 - val_fp: 540.0000 - val_tn: 56324.0000 - val_fn: 8.0000 - val_accuracy: 0.9904 - val_precision: 0.1429 - val_recall: 0.9184 - val_auc: 0.9896\n",
      "Epoch 52/100\n",
      "112/112 [==============================] - 1s 5ms/step - loss: 0.0893 - tp: 376.0000 - fp: 4987.0000 - tn: 222464.0000 - fn: 18.0000 - accuracy: 0.9780 - precision: 0.0701 - recall: 0.9543 - auc: 0.9956 - val_loss: 0.0448 - val_tp: 90.0000 - val_fp: 616.0000 - val_tn: 56248.0000 - val_fn: 8.0000 - val_accuracy: 0.9890 - val_precision: 0.1275 - val_recall: 0.9184 - val_auc: 0.9895\n",
      "Epoch 53/100\n",
      "112/112 [==============================] - 1s 5ms/step - loss: 0.0883 - tp: 380.0000 - fp: 5512.0000 - tn: 221939.0000 - fn: 14.0000 - accuracy: 0.9757 - precision: 0.0645 - recall: 0.9645 - auc: 0.9957 - val_loss: 0.0431 - val_tp: 90.0000 - val_fp: 577.0000 - val_tn: 56287.0000 - val_fn: 8.0000 - val_accuracy: 0.9897 - val_precision: 0.1349 - val_recall: 0.9184 - val_auc: 0.9896\n",
      "Epoch 54/100\n",
      "112/112 [==============================] - 1s 6ms/step - loss: 0.0806 - tp: 380.0000 - fp: 4694.0000 - tn: 222757.0000 - fn: 14.0000 - accuracy: 0.9793 - precision: 0.0749 - recall: 0.9645 - auc: 0.9953 - val_loss: 0.0488 - val_tp: 90.0000 - val_fp: 702.0000 - val_tn: 56162.0000 - val_fn: 8.0000 - val_accuracy: 0.9875 - val_precision: 0.1136 - val_recall: 0.9184 - val_auc: 0.9896\n",
      "Epoch 55/100\n",
      "112/112 [==============================] - 1s 5ms/step - loss: 0.0903 - tp: 376.0000 - fp: 5266.0000 - tn: 222185.0000 - fn: 18.0000 - accuracy: 0.9768 - precision: 0.0666 - recall: 0.9543 - auc: 0.9950 - val_loss: 0.0369 - val_tp: 90.0000 - val_fp: 451.0000 - val_tn: 56413.0000 - val_fn: 8.0000 - val_accuracy: 0.9919 - val_precision: 0.1664 - val_recall: 0.9184 - val_auc: 0.9899\n",
      "Epoch 56/100\n",
      "112/112 [==============================] - 1s 5ms/step - loss: 0.0869 - tp: 373.0000 - fp: 4254.0000 - tn: 223197.0000 - fn: 21.0000 - accuracy: 0.9812 - precision: 0.0806 - recall: 0.9467 - auc: 0.9960 - val_loss: 0.0551 - val_tp: 90.0000 - val_fp: 870.0000 - val_tn: 55994.0000 - val_fn: 8.0000 - val_accuracy: 0.9846 - val_precision: 0.0938 - val_recall: 0.9184 - val_auc: 0.9898\n",
      "Epoch 57/100\n",
      "112/112 [==============================] - 1s 5ms/step - loss: 0.0858 - tp: 379.0000 - fp: 4915.0000 - tn: 222536.0000 - fn: 15.0000 - accuracy: 0.9784 - precision: 0.0716 - recall: 0.9619 - auc: 0.9960 - val_loss: 0.0453 - val_tp: 90.0000 - val_fp: 665.0000 - val_tn: 56199.0000 - val_fn: 8.0000 - val_accuracy: 0.9882 - val_precision: 0.1192 - val_recall: 0.9184 - val_auc: 0.9902\n",
      "Epoch 58/100\n",
      "112/112 [==============================] - 1s 5ms/step - loss: 0.0783 - tp: 379.0000 - fp: 4880.0000 - tn: 222571.0000 - fn: 15.0000 - accuracy: 0.9785 - precision: 0.0721 - recall: 0.9619 - auc: 0.9967 - val_loss: 0.0483 - val_tp: 90.0000 - val_fp: 732.0000 - val_tn: 56132.0000 - val_fn: 8.0000 - val_accuracy: 0.9870 - val_precision: 0.1095 - val_recall: 0.9184 - val_auc: 0.9900\n",
      "Epoch 59/100\n",
      "112/112 [==============================] - 1s 5ms/step - loss: 0.0633 - tp: 381.0000 - fp: 4552.0000 - tn: 222899.0000 - fn: 13.0000 - accuracy: 0.9800 - precision: 0.0772 - recall: 0.9670 - auc: 0.9976 - val_loss: 0.0345 - val_tp: 90.0000 - val_fp: 424.0000 - val_tn: 56440.0000 - val_fn: 8.0000 - val_accuracy: 0.9924 - val_precision: 0.1751 - val_recall: 0.9184 - val_auc: 0.9903\n",
      "Epoch 60/100\n",
      "112/112 [==============================] - 1s 5ms/step - loss: 0.0800 - tp: 376.0000 - fp: 4723.0000 - tn: 222728.0000 - fn: 18.0000 - accuracy: 0.9792 - precision: 0.0737 - recall: 0.9543 - auc: 0.9965 - val_loss: 0.0418 - val_tp: 90.0000 - val_fp: 574.0000 - val_tn: 56290.0000 - val_fn: 8.0000 - val_accuracy: 0.9898 - val_precision: 0.1355 - val_recall: 0.9184 - val_auc: 0.9899\n",
      "Epoch 61/100\n",
      "112/112 [==============================] - 1s 5ms/step - loss: 0.0723 - tp: 379.0000 - fp: 4036.0000 - tn: 223415.0000 - fn: 15.0000 - accuracy: 0.9822 - precision: 0.0858 - recall: 0.9619 - auc: 0.9969 - val_loss: 0.0429 - val_tp: 89.0000 - val_fp: 630.0000 - val_tn: 56234.0000 - val_fn: 9.0000 - val_accuracy: 0.9888 - val_precision: 0.1238 - val_recall: 0.9082 - val_auc: 0.9899\n",
      "Epoch 62/100\n",
      "112/112 [==============================] - 1s 5ms/step - loss: 0.0716 - tp: 382.0000 - fp: 4807.0000 - tn: 222644.0000 - fn: 12.0000 - accuracy: 0.9788 - precision: 0.0736 - recall: 0.9695 - auc: 0.9969 - val_loss: 0.0402 - val_tp: 90.0000 - val_fp: 571.0000 - val_tn: 56293.0000 - val_fn: 8.0000 - val_accuracy: 0.9898 - val_precision: 0.1362 - val_recall: 0.9184 - val_auc: 0.9901\n",
      "Epoch 63/100\n",
      "112/112 [==============================] - 1s 5ms/step - loss: 0.0652 - tp: 382.0000 - fp: 4582.0000 - tn: 222869.0000 - fn: 12.0000 - accuracy: 0.9798 - precision: 0.0770 - recall: 0.9695 - auc: 0.9974 - val_loss: 0.0353 - val_tp: 90.0000 - val_fp: 469.0000 - val_tn: 56395.0000 - val_fn: 8.0000 - val_accuracy: 0.9916 - val_precision: 0.1610 - val_recall: 0.9184 - val_auc: 0.9903\n",
      "Epoch 64/100\n",
      "112/112 [==============================] - 1s 5ms/step - loss: 0.0654 - tp: 383.0000 - fp: 4481.0000 - tn: 222970.0000 - fn: 11.0000 - accuracy: 0.9803 - precision: 0.0787 - recall: 0.9721 - auc: 0.9974 - val_loss: 0.0337 - val_tp: 89.0000 - val_fp: 455.0000 - val_tn: 56409.0000 - val_fn: 9.0000 - val_accuracy: 0.9919 - val_precision: 0.1636 - val_recall: 0.9082 - val_auc: 0.9903\n",
      "Epoch 65/100\n",
      "112/112 [==============================] - 1s 5ms/step - loss: 0.0661 - tp: 383.0000 - fp: 3807.0000 - tn: 223644.0000 - fn: 11.0000 - accuracy: 0.9832 - precision: 0.0914 - recall: 0.9721 - auc: 0.9974 - val_loss: 0.0433 - val_tp: 90.0000 - val_fp: 680.0000 - val_tn: 56184.0000 - val_fn: 8.0000 - val_accuracy: 0.9879 - val_precision: 0.1169 - val_recall: 0.9184 - val_auc: 0.9902\n",
      "Epoch 66/100\n",
      "112/112 [==============================] - 1s 5ms/step - loss: 0.0676 - tp: 380.0000 - fp: 4778.0000 - tn: 222673.0000 - fn: 14.0000 - accuracy: 0.9790 - precision: 0.0737 - recall: 0.9645 - auc: 0.9973 - val_loss: 0.0407 - val_tp: 90.0000 - val_fp: 620.0000 - val_tn: 56244.0000 - val_fn: 8.0000 - val_accuracy: 0.9890 - val_precision: 0.1268 - val_recall: 0.9184 - val_auc: 0.9901\n",
      "Epoch 67/100\n",
      "112/112 [==============================] - 1s 5ms/step - loss: 0.0662 - tp: 381.0000 - fp: 4978.0000 - tn: 222473.0000 - fn: 13.0000 - accuracy: 0.9781 - precision: 0.0711 - recall: 0.9670 - auc: 0.9973 - val_loss: 0.0368 - val_tp: 90.0000 - val_fp: 555.0000 - val_tn: 56309.0000 - val_fn: 8.0000 - val_accuracy: 0.9901 - val_precision: 0.1395 - val_recall: 0.9184 - val_auc: 0.9902\n",
      "Epoch 68/100\n",
      "112/112 [==============================] - 1s 5ms/step - loss: 0.0617 - tp: 382.0000 - fp: 3901.0000 - tn: 223550.0000 - fn: 12.0000 - accuracy: 0.9828 - precision: 0.0892 - recall: 0.9695 - auc: 0.9976 - val_loss: 0.0342 - val_tp: 90.0000 - val_fp: 496.0000 - val_tn: 56368.0000 - val_fn: 8.0000 - val_accuracy: 0.9912 - val_precision: 0.1536 - val_recall: 0.9184 - val_auc: 0.9902\n",
      "Epoch 69/100\n",
      "112/112 [==============================] - 1s 5ms/step - loss: 0.0641 - tp: 380.0000 - fp: 4011.0000 - tn: 223440.0000 - fn: 14.0000 - accuracy: 0.9823 - precision: 0.0865 - recall: 0.9645 - auc: 0.9975 - val_loss: 0.0427 - val_tp: 90.0000 - val_fp: 666.0000 - val_tn: 56198.0000 - val_fn: 8.0000 - val_accuracy: 0.9882 - val_precision: 0.1190 - val_recall: 0.9184 - val_auc: 0.9900\n",
      "Epoch 70/100\n",
      "112/112 [==============================] - 1s 5ms/step - loss: 0.0637 - tp: 383.0000 - fp: 4506.0000 - tn: 222945.0000 - fn: 11.0000 - accuracy: 0.9802 - precision: 0.0783 - recall: 0.9721 - auc: 0.9974 - val_loss: 0.0372 - val_tp: 90.0000 - val_fp: 541.0000 - val_tn: 56323.0000 - val_fn: 8.0000 - val_accuracy: 0.9904 - val_precision: 0.1426 - val_recall: 0.9184 - val_auc: 0.9898\n",
      "Epoch 71/100\n",
      "112/112 [==============================] - 1s 6ms/step - loss: 0.0617 - tp: 381.0000 - fp: 4085.0000 - tn: 223366.0000 - fn: 13.0000 - accuracy: 0.9820 - precision: 0.0853 - recall: 0.9670 - auc: 0.9977 - val_loss: 0.0362 - val_tp: 90.0000 - val_fp: 554.0000 - val_tn: 56310.0000 - val_fn: 8.0000 - val_accuracy: 0.9901 - val_precision: 0.1398 - val_recall: 0.9184 - val_auc: 0.9901\n",
      "Epoch 72/100\n",
      "112/112 [==============================] - 1s 5ms/step - loss: 0.0591 - tp: 387.0000 - fp: 4950.0000 - tn: 222501.0000 - fn: 7.0000 - accuracy: 0.9782 - precision: 0.0725 - recall: 0.9822 - auc: 0.9977 - val_loss: 0.0330 - val_tp: 89.0000 - val_fp: 501.0000 - val_tn: 56363.0000 - val_fn: 9.0000 - val_accuracy: 0.9910 - val_precision: 0.1508 - val_recall: 0.9082 - val_auc: 0.9902\n",
      "Epoch 73/100\n",
      "112/112 [==============================] - 1s 5ms/step - loss: 0.0626 - tp: 381.0000 - fp: 4045.0000 - tn: 223406.0000 - fn: 13.0000 - accuracy: 0.9822 - precision: 0.0861 - recall: 0.9670 - auc: 0.9976 - val_loss: 0.0400 - val_tp: 90.0000 - val_fp: 658.0000 - val_tn: 56206.0000 - val_fn: 8.0000 - val_accuracy: 0.9883 - val_precision: 0.1203 - val_recall: 0.9184 - val_auc: 0.9905\n",
      "Epoch 74/100\n",
      "112/112 [==============================] - 1s 5ms/step - loss: 0.0558 - tp: 384.0000 - fp: 4178.0000 - tn: 223273.0000 - fn: 10.0000 - accuracy: 0.9816 - precision: 0.0842 - recall: 0.9746 - auc: 0.9980 - val_loss: 0.0382 - val_tp: 90.0000 - val_fp: 604.0000 - val_tn: 56260.0000 - val_fn: 8.0000 - val_accuracy: 0.9893 - val_precision: 0.1297 - val_recall: 0.9184 - val_auc: 0.9903\n",
      "Epoch 75/100\n",
      "112/112 [==============================] - 1s 5ms/step - loss: 0.0739 - tp: 380.0000 - fp: 4803.0000 - tn: 222648.0000 - fn: 14.0000 - accuracy: 0.9789 - precision: 0.0733 - recall: 0.9645 - auc: 0.9967 - val_loss: 0.0363 - val_tp: 90.0000 - val_fp: 579.0000 - val_tn: 56285.0000 - val_fn: 8.0000 - val_accuracy: 0.9897 - val_precision: 0.1345 - val_recall: 0.9184 - val_auc: 0.9904\n",
      "Epoch 76/100\n",
      "112/112 [==============================] - 1s 5ms/step - loss: 0.0605 - tp: 382.0000 - fp: 4101.0000 - tn: 223350.0000 - fn: 12.0000 - accuracy: 0.9819 - precision: 0.0852 - recall: 0.9695 - auc: 0.9977 - val_loss: 0.0328 - val_tp: 89.0000 - val_fp: 487.0000 - val_tn: 56377.0000 - val_fn: 9.0000 - val_accuracy: 0.9913 - val_precision: 0.1545 - val_recall: 0.9082 - val_auc: 0.9901\n",
      "Epoch 77/100\n",
      "112/112 [==============================] - 1s 5ms/step - loss: 0.0599 - tp: 381.0000 - fp: 4372.0000 - tn: 223079.0000 - fn: 13.0000 - accuracy: 0.9808 - precision: 0.0802 - recall: 0.9670 - auc: 0.9978 - val_loss: 0.0384 - val_tp: 90.0000 - val_fp: 597.0000 - val_tn: 56267.0000 - val_fn: 8.0000 - val_accuracy: 0.9894 - val_precision: 0.1310 - val_recall: 0.9184 - val_auc: 0.9901\n",
      "Epoch 78/100\n",
      "112/112 [==============================] - 1s 5ms/step - loss: 0.0623 - tp: 382.0000 - fp: 4413.0000 - tn: 223038.0000 - fn: 12.0000 - accuracy: 0.9806 - precision: 0.0797 - recall: 0.9695 - auc: 0.9976 - val_loss: 0.0376 - val_tp: 90.0000 - val_fp: 585.0000 - val_tn: 56279.0000 - val_fn: 8.0000 - val_accuracy: 0.9896 - val_precision: 0.1333 - val_recall: 0.9184 - val_auc: 0.9902\n",
      "Epoch 79/100\n",
      "112/112 [==============================] - 1s 5ms/step - loss: 0.0564 - tp: 385.0000 - fp: 4176.0000 - tn: 223275.0000 - fn: 9.0000 - accuracy: 0.9816 - precision: 0.0844 - recall: 0.9772 - auc: 0.9979 - val_loss: 0.0322 - val_tp: 89.0000 - val_fp: 498.0000 - val_tn: 56366.0000 - val_fn: 9.0000 - val_accuracy: 0.9911 - val_precision: 0.1516 - val_recall: 0.9082 - val_auc: 0.9902\n",
      "Epoch 80/100\n",
      "112/112 [==============================] - 1s 5ms/step - loss: 0.0565 - tp: 386.0000 - fp: 4222.0000 - tn: 223229.0000 - fn: 8.0000 - accuracy: 0.9814 - precision: 0.0838 - recall: 0.9797 - auc: 0.9979 - val_loss: 0.0324 - val_tp: 89.0000 - val_fp: 506.0000 - val_tn: 56358.0000 - val_fn: 9.0000 - val_accuracy: 0.9910 - val_precision: 0.1496 - val_recall: 0.9082 - val_auc: 0.9902\n",
      "Epoch 81/100\n",
      "112/112 [==============================] - 1s 5ms/step - loss: 0.0559 - tp: 382.0000 - fp: 4024.0000 - tn: 223427.0000 - fn: 12.0000 - accuracy: 0.9823 - precision: 0.0867 - recall: 0.9695 - auc: 0.9980 - val_loss: 0.0362 - val_tp: 90.0000 - val_fp: 600.0000 - val_tn: 56264.0000 - val_fn: 8.0000 - val_accuracy: 0.9893 - val_precision: 0.1304 - val_recall: 0.9184 - val_auc: 0.9903\n",
      "Epoch 82/100\n",
      "112/112 [==============================] - 1s 5ms/step - loss: 0.0622 - tp: 379.0000 - fp: 4135.0000 - tn: 223316.0000 - fn: 15.0000 - accuracy: 0.9818 - precision: 0.0840 - recall: 0.9619 - auc: 0.9976 - val_loss: 0.0356 - val_tp: 90.0000 - val_fp: 578.0000 - val_tn: 56286.0000 - val_fn: 8.0000 - val_accuracy: 0.9897 - val_precision: 0.1347 - val_recall: 0.9184 - val_auc: 0.9902\n",
      "Epoch 83/100\n",
      "112/112 [==============================] - 1s 5ms/step - loss: 0.0660 - tp: 383.0000 - fp: 4278.0000 - tn: 223173.0000 - fn: 11.0000 - accuracy: 0.9812 - precision: 0.0822 - recall: 0.9721 - auc: 0.9973 - val_loss: 0.0318 - val_tp: 89.0000 - val_fp: 493.0000 - val_tn: 56371.0000 - val_fn: 9.0000 - val_accuracy: 0.9912 - val_precision: 0.1529 - val_recall: 0.9082 - val_auc: 0.9901\n",
      "Restoring model weights from the end of the best epoch.\n",
      "Epoch 00083: early stopping\n"
     ]
    }
   ],
   "source": [
    "weighted_model = make_model()\n",
    "weighted_model.load_weights(initial_weights)\n",
    "\n",
    "weighted_history = weighted_model.fit(X_train, y_train, \n",
    "                                    batch_size=BATCH_SIZE,\n",
    "                                    epochs=EPOCHS, \n",
    "                                    callbacks = [early_stopping], \n",
    "                                    validation_data=(X_test, y_test),\n",
    "                                    class_weight=class_weight) "
   ]
  },
  {
   "cell_type": "code",
   "execution_count": 40,
   "metadata": {
    "colab": {
     "base_uri": "https://localhost:8080/",
     "height": 501
    },
    "id": "N5iUrVe6t30B",
    "outputId": "fd6c918b-3b59-47e5-f6aa-f5a37c719725"
   },
   "outputs": [
    {
     "data": {
      "image/png": "[encoded data removed]",
      "text/plain": [
       "<Figure size 864x576 with 4 Axes>"
      ]
     },
     "metadata": {
      "needs_background": "light",
      "tags": []
     },
     "output_type": "display_data"
    }
   ],
   "source": [
    "plot_metrics(weighted_history)"
   ]
  },
  {
   "cell_type": "code",
   "execution_count": 41,
   "metadata": {
    "id": "ErH9Ehhct30D"
   },
   "outputs": [],
   "source": [
    "train_predictions_weighted = weighted_model.predict(X_train, batch_size=BATCH_SIZE)\n",
    "test_predictions_weighted = weighted_model.predict(X_test, batch_size=BATCH_SIZE)"
   ]
  },
  {
   "cell_type": "code",
   "execution_count": 42,
   "metadata": {
    "colab": {
     "base_uri": "https://localhost:8080/",
     "height": 609
    },
    "id": "59NLR77Kt30E",
    "outputId": "cd20ccbb-a728-44da-e040-1dffac79fe0f"
   },
   "outputs": [
    {
     "name": "stdout",
     "output_type": "stream",
     "text": [
      "loss :  0.039962463080883026\n",
      "tp :  90.0\n",
      "fp :  658.0\n",
      "tn :  56206.0\n",
      "fn :  8.0\n",
      "accuracy :  0.9883080124855042\n",
      "precision :  0.12032085657119751\n",
      "recall :  0.918367326259613\n",
      "auc :  0.9904742240905762\n",
      "\n",
      "TN:  56206\n",
      "FP:  658\n",
      "FN (Fraud Transaction Missed):  8\n",
      "TP (Fraud Transaction Detected):  90\n",
      "Total Fraud Transactions:  98\n"
     ]
    },
    {
     "data": {
      "image/png": "[encoded data removed]",
      "text/plain": [
       "<Figure size 360x360 with 2 Axes>"
      ]
     },
     "metadata": {
      "needs_background": "light",
      "tags": []
     },
     "output_type": "display_data"
    }
   ],
   "source": [
    "weighted_results = weighted_model.evaluate(X_test, y_test,\n",
    "                                           batch_size=BATCH_SIZE, verbose=0)\n",
    "\n",
    "for name, value in zip(weighted_model.metrics_names, weighted_results):\n",
    "    print(name, ': ', value)\n",
    "    \n",
    "print()\n",
    "\n",
    "plot_cm(y_test, test_predictions_weighted)"
   ]
  },
  {
   "cell_type": "markdown",
   "metadata": {
    "id": "FF42Tjcdt30K"
   },
   "source": [
    "## Plot the ROC"
   ]
  },
  {
   "cell_type": "code",
   "execution_count": 43,
   "metadata": {
    "colab": {
     "base_uri": "https://localhost:8080/",
     "height": 405
    },
    "id": "DmZ5bpDEt30N",
    "outputId": "279b3c1d-517e-4d8e-cc19-456f3c22ff9c"
   },
   "outputs": [
    {
     "data": {
      "text/plain": [
       "<matplotlib.legend.Legend at 0x7ff65ec9ff50>"
      ]
     },
     "execution_count": 43,
     "metadata": {
      "tags": []
     },
     "output_type": "execute_result"
    },
    {
     "data": {
      "image/png": "[encoded data removed]",
      "text/plain": [
       "<Figure size 576x432 with 1 Axes>"
      ]
     },
     "metadata": {
      "needs_background": "light",
      "tags": []
     },
     "output_type": "display_data"
    }
   ],
   "source": [
    "plot_roc(\"Train Baseline\", y_train, train_predictions_baseline, color='blue')\n",
    "plot_roc(\"Test Baseline\", y_test, test_predictions_baseline, color='blue', linestyle='--')\n",
    "\n",
    "plot_roc(\"Train Weighted\", y_train, train_predictions_weighted, color='red')\n",
    "plot_roc(\"Test Weighted\", y_test, test_predictions_weighted, color='red', linestyle='--')\n",
    "\n",
    "\n",
    "plt.legend(loc='lower right')"
   ]
  },
  {
   "cell_type": "markdown",
   "metadata": {
    "id": "_Bo3WQn8t30P"
   },
   "source": [
    "## Oversampling\n",
    "\n",
    "- 다른 접근 방식은 소수 클래스를 오버 샘플링하여 데이터 세트를 다시 샘플링하는 것\n",
    "\n",
    "\n",
    "- tf.data를 사용하는 경우 균형 잡힌 예제를 생성하는 가장 쉬운 방법은 positive 및 negative 데이터 세트로 따로 시작하여 병합하는 것임"
   ]
  },
  {
   "cell_type": "code",
   "execution_count": 44,
   "metadata": {
    "colab": {
     "base_uri": "https://localhost:8080/"
    },
    "id": "xON8b28zt30R",
    "outputId": "00e33285-2521-49cc-945b-d50519671b43"
   },
   "outputs": [
    {
     "data": {
      "text/plain": [
       "array([False, False, False, ..., False, False, False])"
      ]
     },
     "execution_count": 44,
     "metadata": {
      "tags": []
     },
     "output_type": "execute_result"
    }
   ],
   "source": [
    "# train_labels != 0\n",
    "bool_train_labels = y_train != 0\n",
    "bool_train_labels"
   ]
  },
  {
   "cell_type": "markdown",
   "metadata": {
    "id": "RVOBJOrQt30V"
   },
   "source": [
    "### positive, negative dataset 분리"
   ]
  },
  {
   "cell_type": "code",
   "execution_count": 45,
   "metadata": {
    "id": "dtG0_5s_t30W"
   },
   "outputs": [],
   "source": [
    "pos_features = X_train[bool_train_labels]\n",
    "neg_features = X_train[~bool_train_labels]\n",
    "\n",
    "pos_labels = y_train[bool_train_labels]\n",
    "neg_labels = y_train[~bool_train_labels]"
   ]
  },
  {
   "cell_type": "code",
   "execution_count": 46,
   "metadata": {
    "id": "-z7HdAFkt30c"
   },
   "outputs": [],
   "source": [
    "BUFFER_SIZE = 100000\n",
    "\n",
    "def make_ds(features, labels):\n",
    "    ds = tf.data.Dataset.from_tensor_slices((features, labels)).cache()\n",
    "    ds = ds.shuffle(BUFFER_SIZE).repeat()\n",
    "    return ds\n",
    "\n",
    "pos_ds = make_ds(pos_features, pos_labels)\n",
    "neg_ds = make_ds(neg_features, neg_labels)"
   ]
  },
  {
   "cell_type": "code",
   "execution_count": 47,
   "metadata": {
    "colab": {
     "base_uri": "https://localhost:8080/"
    },
    "id": "wOWE8Lvst30d",
    "outputId": "e523f6da-8516-4846-8cf8-51fbf4a7ec7f"
   },
   "outputs": [
    {
     "name": "stdout",
     "output_type": "stream",
     "text": [
      "<RepeatDataset shapes: ((29,), ()), types: (tf.float64, tf.int64)>\n",
      "<RepeatDataset shapes: ((29,), ()), types: (tf.float64, tf.int64)>\n"
     ]
    }
   ],
   "source": [
    "print(pos_ds)\n",
    "print(neg_ds)"
   ]
  },
  {
   "cell_type": "code",
   "execution_count": 48,
   "metadata": {
    "colab": {
     "base_uri": "https://localhost:8080/"
    },
    "id": "vIv9xPDht30h",
    "outputId": "84cef0bc-18ea-48fa-d96c-9369337a508d"
   },
   "outputs": [
    {
     "name": "stdout",
     "output_type": "stream",
     "text": [
      "Features:\n",
      " [-1.01548016e+01  7.34123928e+00 -1.48237072e+01  4.32296920e+00\n",
      " -1.08840565e+01 -3.25082857e+00 -1.25559848e+01  1.11720700e+01\n",
      " -3.61643672e+00 -8.12338275e+00  5.60999785e+00 -8.07671504e+00\n",
      "  2.31293831e-01 -8.93599561e+00  2.36032036e-04 -7.90024859e+00\n",
      " -1.57418346e+01 -5.88510645e+00  1.50844804e+00  2.05405197e+00\n",
      "  2.38256336e+00 -1.94509381e+00 -1.30899778e+00  2.02047215e-01\n",
      "  2.58998331e+00 -4.65166135e-01  3.94513681e+00  1.44308955e+00\n",
      "  8.21581571e-01]\n",
      "\n",
      "Label:  1\n"
     ]
    }
   ],
   "source": [
    "for features, label in pos_ds.take(1):\n",
    "    print(\"Features:\\n\", features.numpy())\n",
    "    print()\n",
    "    print(\"Label: \", label.numpy())"
   ]
  },
  {
   "cell_type": "markdown",
   "metadata": {
    "id": "10_X71jgt30k"
   },
   "source": [
    "### experimental.sample_from_datasets 을 이용하여 두 dataset merge"
   ]
  },
  {
   "cell_type": "code",
   "execution_count": 49,
   "metadata": {
    "id": "aYdcZKGnt30l"
   },
   "outputs": [],
   "source": [
    "resampled_ds = tf.data.experimental.sample_from_datasets([pos_ds, neg_ds], weights=[0.5, 0.5])\n",
    "resampled_ds = resampled_ds.batch(BATCH_SIZE).prefetch(2)"
   ]
  },
  {
   "cell_type": "code",
   "execution_count": 50,
   "metadata": {
    "colab": {
     "base_uri": "https://localhost:8080/"
    },
    "id": "bZaJHPkst30o",
    "outputId": "d7511aca-6656-43ce-89a8-1019f41705f9"
   },
   "outputs": [
    {
     "name": "stdout",
     "output_type": "stream",
     "text": [
      "(2048,)\n",
      "0.5029296875\n"
     ]
    }
   ],
   "source": [
    "for features, label in resampled_ds.take(1):\n",
    "    print(label.numpy().shape)\n",
    "    print(label.numpy().mean())"
   ]
  },
  {
   "cell_type": "markdown",
   "metadata": {
    "id": "z77D49Fft30s"
   },
   "source": [
    "- tf.data.Dataset 을 사용하려면 에포크 당 step 수 계산 필요  \n",
    "\n",
    "\n",
    "- steps_per_epoch : 훈련 에포크가 완료되기 전의 배치 반복 횟수. 고정된 크기의 트레이닝 세트가 있는 경우 이를 무시할 수 있지만 큰 데이터 세트거나 random data augmentation 을 하는 경우 (즉, 트레이닝 세트의 크기가 무한대로 생성된 경우) 유용할 수 있음. 전체 training 세트를 진행할 시간이있는 경우 이 매개 변수를 건너 뛰는 것이 좋음.  \n",
    "\n",
    "\n",
    "- steps_per_epoch는 generator 를 steps_per_epoch 번 호출하여 전체 데이터 세트를 한 번 generate 하는 데 사용  \n",
    "\n",
    "\n",
    "- positive example 의 비율을 50% 로 만들어 전체 dataset 을 거의 2 배로 늘렸으므로 steps_per_epoch 도 늘려 준다"
   ]
  },
  {
   "cell_type": "code",
   "execution_count": 51,
   "metadata": {
    "colab": {
     "base_uri": "https://localhost:8080/"
    },
    "id": "K8MfNuc6t30t",
    "outputId": "033f385d-3998-4a9d-ccec-bfbf42432f99"
   },
   "outputs": [
    {
     "data": {
      "text/plain": [
       "278.0"
      ]
     },
     "execution_count": 51,
     "metadata": {
      "tags": []
     },
     "output_type": "execute_result"
    }
   ],
   "source": [
    "resampled_steps_per_epoch = np.ceil(2.0*neg/BATCH_SIZE)\n",
    "resampled_steps_per_epoch"
   ]
  },
  {
   "cell_type": "markdown",
   "metadata": {
    "id": "BkMc17S8t30w"
   },
   "source": [
    "### Train on the oversampled data\n",
    "\n",
    "- 클래스 가중치를 사용하는 대신 리샘플링 된 데이터 세트로 모델을 학습하여 이러한 방법을 비교\n",
    "\n",
    "참고 : positive example 을 복제하여 데이터의 균형을 맞추 었으므로 전체 데이터 세트 크기가 더 크고 각 epoch 는 더 많은 training step 을 실행"
   ]
  },
  {
   "cell_type": "code",
   "execution_count": 52,
   "metadata": {
    "colab": {
     "base_uri": "https://localhost:8080/"
    },
    "id": "qnTwva6wt30y",
    "outputId": "063ca4b8-315a-444b-c356-4aa2f136ad11",
    "scrolled": false
   },
   "outputs": [
    {
     "name": "stdout",
     "output_type": "stream",
     "text": [
      "Epoch 1/100\n"
     ]
    },
    {
     "name": "stderr",
     "output_type": "stream",
     "text": [
      "/usr/local/lib/python3.7/dist-packages/tensorflow/python/keras/optimizer_v2/optimizer_v2.py:375: UserWarning: The `lr` argument is deprecated, use `learning_rate` instead.\n",
      "  \"The `lr` argument is deprecated, use `learning_rate` instead.\")\n"
     ]
    },
    {
     "name": "stdout",
     "output_type": "stream",
     "text": [
      "278/278 [==============================] - 10s 31ms/step - loss: 0.2373 - tp: 256609.0000 - fp: 25368.0000 - tn: 315382.0000 - fn: 28947.0000 - accuracy: 0.9133 - precision: 0.9100 - recall: 0.8986 - auc: 0.9686 - val_loss: 0.0780 - val_tp: 90.0000 - val_fp: 907.0000 - val_tn: 55957.0000 - val_fn: 8.0000 - val_accuracy: 0.9839 - val_precision: 0.0903 - val_recall: 0.9184 - val_auc: 0.9864\n",
      "Epoch 2/100\n",
      "278/278 [==============================] - 8s 29ms/step - loss: 0.0954 - tp: 270679.0000 - fp: 6457.0000 - tn: 278033.0000 - fn: 14175.0000 - accuracy: 0.9638 - precision: 0.9767 - recall: 0.9502 - auc: 0.9943 - val_loss: 0.0432 - val_tp: 91.0000 - val_fp: 686.0000 - val_tn: 56178.0000 - val_fn: 7.0000 - val_accuracy: 0.9878 - val_precision: 0.1171 - val_recall: 0.9286 - val_auc: 0.9872\n",
      "Epoch 3/100\n",
      "278/278 [==============================] - 8s 29ms/step - loss: 0.0605 - tp: 277917.0000 - fp: 5539.0000 - tn: 278637.0000 - fn: 7251.0000 - accuracy: 0.9775 - precision: 0.9805 - recall: 0.9746 - auc: 0.9979 - val_loss: 0.0325 - val_tp: 90.0000 - val_fp: 628.0000 - val_tn: 56236.0000 - val_fn: 8.0000 - val_accuracy: 0.9888 - val_precision: 0.1253 - val_recall: 0.9184 - val_auc: 0.9852\n",
      "Epoch 4/100\n",
      "278/278 [==============================] - 8s 28ms/step - loss: 0.0426 - tp: 281904.0000 - fp: 4574.0000 - tn: 279626.0000 - fn: 3240.0000 - accuracy: 0.9863 - precision: 0.9840 - recall: 0.9886 - auc: 0.9988 - val_loss: 0.0248 - val_tp: 89.0000 - val_fp: 500.0000 - val_tn: 56364.0000 - val_fn: 9.0000 - val_accuracy: 0.9911 - val_precision: 0.1511 - val_recall: 0.9082 - val_auc: 0.9861\n",
      "Epoch 5/100\n",
      "278/278 [==============================] - 8s 28ms/step - loss: 0.0318 - tp: 283047.0000 - fp: 3678.0000 - tn: 281021.0000 - fn: 1598.0000 - accuracy: 0.9907 - precision: 0.9872 - recall: 0.9944 - auc: 0.9992 - val_loss: 0.0202 - val_tp: 88.0000 - val_fp: 396.0000 - val_tn: 56468.0000 - val_fn: 10.0000 - val_accuracy: 0.9929 - val_precision: 0.1818 - val_recall: 0.8980 - val_auc: 0.9867\n",
      "Epoch 6/100\n",
      "278/278 [==============================] - 8s 28ms/step - loss: 0.0254 - tp: 284179.0000 - fp: 3103.0000 - tn: 281216.0000 - fn: 846.0000 - accuracy: 0.9931 - precision: 0.9892 - recall: 0.9970 - auc: 0.9994 - val_loss: 0.0179 - val_tp: 88.0000 - val_fp: 323.0000 - val_tn: 56541.0000 - val_fn: 10.0000 - val_accuracy: 0.9942 - val_precision: 0.2141 - val_recall: 0.8980 - val_auc: 0.9821\n",
      "Epoch 7/100\n",
      "278/278 [==============================] - 8s 29ms/step - loss: 0.0210 - tp: 284270.0000 - fp: 2527.0000 - tn: 282030.0000 - fn: 517.0000 - accuracy: 0.9947 - precision: 0.9912 - recall: 0.9982 - auc: 0.9994 - val_loss: 0.0151 - val_tp: 87.0000 - val_fp: 248.0000 - val_tn: 56616.0000 - val_fn: 11.0000 - val_accuracy: 0.9955 - val_precision: 0.2597 - val_recall: 0.8878 - val_auc: 0.9676\n",
      "Epoch 8/100\n",
      "278/278 [==============================] - 8s 28ms/step - loss: 0.0170 - tp: 284102.0000 - fp: 2110.0000 - tn: 282838.0000 - fn: 294.0000 - accuracy: 0.9958 - precision: 0.9926 - recall: 0.9990 - auc: 0.9996 - val_loss: 0.0130 - val_tp: 87.0000 - val_fp: 196.0000 - val_tn: 56668.0000 - val_fn: 11.0000 - val_accuracy: 0.9964 - val_precision: 0.3074 - val_recall: 0.8878 - val_auc: 0.9629\n",
      "Epoch 9/100\n",
      "278/278 [==============================] - 8s 28ms/step - loss: 0.0145 - tp: 284951.0000 - fp: 1711.0000 - tn: 282485.0000 - fn: 197.0000 - accuracy: 0.9966 - precision: 0.9940 - recall: 0.9993 - auc: 0.9996 - val_loss: 0.0122 - val_tp: 87.0000 - val_fp: 179.0000 - val_tn: 56685.0000 - val_fn: 11.0000 - val_accuracy: 0.9967 - val_precision: 0.3271 - val_recall: 0.8878 - val_auc: 0.9581\n",
      "Epoch 10/100\n",
      "278/278 [==============================] - 8s 29ms/step - loss: 0.0126 - tp: 284363.0000 - fp: 1497.0000 - tn: 283334.0000 - fn: 150.0000 - accuracy: 0.9971 - precision: 0.9948 - recall: 0.9995 - auc: 0.9996 - val_loss: 0.0114 - val_tp: 87.0000 - val_fp: 154.0000 - val_tn: 56710.0000 - val_fn: 11.0000 - val_accuracy: 0.9971 - val_precision: 0.3610 - val_recall: 0.8878 - val_auc: 0.9582\n",
      "Epoch 11/100\n",
      "278/278 [==============================] - 8s 29ms/step - loss: 0.0110 - tp: 284613.0000 - fp: 1353.0000 - tn: 283269.0000 - fn: 109.0000 - accuracy: 0.9974 - precision: 0.9953 - recall: 0.9996 - auc: 0.9997 - val_loss: 0.0111 - val_tp: 87.0000 - val_fp: 139.0000 - val_tn: 56725.0000 - val_fn: 11.0000 - val_accuracy: 0.9974 - val_precision: 0.3850 - val_recall: 0.8878 - val_auc: 0.9583\n",
      "Epoch 12/100\n",
      "278/278 [==============================] - 8s 28ms/step - loss: 0.0099 - tp: 284687.0000 - fp: 1172.0000 - tn: 283394.0000 - fn: 91.0000 - accuracy: 0.9978 - precision: 0.9959 - recall: 0.9997 - auc: 0.9997 - val_loss: 0.0105 - val_tp: 87.0000 - val_fp: 124.0000 - val_tn: 56740.0000 - val_fn: 11.0000 - val_accuracy: 0.9976 - val_precision: 0.4123 - val_recall: 0.8878 - val_auc: 0.9584\n",
      "Restoring model weights from the end of the best epoch.\n",
      "Epoch 00012: early stopping\n"
     ]
    }
   ],
   "source": [
    "resampled_model = make_model()\n",
    "resampled_model.load_weights(initial_weights)\n",
    "\n",
    "# 이 데이터 세트가 균형을 이루기 때문에 bias 를 0으로 재설정합니다\n",
    "output_layer = resampled_model.layers[-1] \n",
    "output_layer.bias.assign([0])\n",
    "\n",
    "val_ds = tf.data.Dataset.from_tensor_slices((X_test, y_test)).cache()\n",
    "val_ds = val_ds.batch(BATCH_SIZE).prefetch(2) \n",
    "\n",
    "resampled_history = resampled_model.fit(\n",
    "    resampled_ds,\n",
    "    epochs=EPOCHS,\n",
    "    steps_per_epoch=resampled_steps_per_epoch,\n",
    "    callbacks = [early_stopping],\n",
    "    validation_data=val_ds)"
   ]
  },
  {
   "cell_type": "markdown",
   "metadata": {
    "id": "iG-tWWpwt301"
   },
   "source": [
    "- 트레이닝 프로세스가 각 그라디언트 업데이트에서 전체 데이터 세트를 고려하는 경우, oversampling 은 기본적으로 class weight 방식과 동일.  \n",
    "\n",
    "\n",
    "- 그러나 모델을 배치 방식으로 학습 할 때,  데이터를 오버 샘플링 하는 방식은 보다 부드러운 gradient signal 을 제공. 하나의 배치에 각 positive example 이 큰 가중치로  표시되는 대신 많은 다른 배치에 작은 weight 로 나타남.   \n",
    "\n",
    "\n",
    "- 이 smooth 한 gradient signal 은 모델 훈련을 더 쉽게 만듬."
   ]
  },
  {
   "cell_type": "markdown",
   "metadata": {
    "id": "ej7yQd_1t302"
   },
   "source": [
    "### Check training history\n",
    "\n",
    "training 데이터와 validation data 가 완전히 다른 분포이므로 metric 의 분포가 이전과 다름"
   ]
  },
  {
   "cell_type": "code",
   "execution_count": 53,
   "metadata": {
    "colab": {
     "base_uri": "https://localhost:8080/",
     "height": 501
    },
    "id": "3t1RKbxqt302",
    "outputId": "57e89cf2-9ce8-4ef0-e5e0-e4cd5d226a29"
   },
   "outputs": [
    {
     "data": {
      "image/png": "[encoded data removed]",
      "text/plain": [
       "<Figure size 864x576 with 4 Axes>"
      ]
     },
     "metadata": {
      "needs_background": "light",
      "tags": []
     },
     "output_type": "display_data"
    }
   ],
   "source": [
    "plot_metrics(resampled_history )"
   ]
  },
  {
   "cell_type": "markdown",
   "metadata": {
    "id": "2RCHyNMIt304"
   },
   "source": [
    "### Re-train\n",
    "\n",
    "- 균형 잡힌 데이터에 대한 train 이 더 쉬우므로 빠르게 과적합 될 수 있음.\n",
    "\n",
    "\n",
    "- 따라서 에포크를 분해하여 callback.EarlyStopping 의 train 중단 시점을보다 세밀하게 제어  \n",
    "\n",
    "\n",
    "- overfitting 을 빨리 감지하기 위해, epoch 은 10 배로 늘리고, epoch 당 step 수는 20 으로 줄여 patience=10 이 쉽게 만족되도록 함"
   ]
  },
  {
   "cell_type": "code",
   "execution_count": 54,
   "metadata": {
    "colab": {
     "base_uri": "https://localhost:8080/"
    },
    "id": "Xegz7wbrt305",
    "outputId": "18c6305d-17bf-407e-a6ac-660814b23a56",
    "scrolled": true
   },
   "outputs": [
    {
     "name": "stderr",
     "output_type": "stream",
     "text": [
      "/usr/local/lib/python3.7/dist-packages/tensorflow/python/keras/optimizer_v2/optimizer_v2.py:375: UserWarning: The `lr` argument is deprecated, use `learning_rate` instead.\n",
      "  \"The `lr` argument is deprecated, use `learning_rate` instead.\")\n"
     ]
    },
    {
     "name": "stdout",
     "output_type": "stream",
     "text": [
      "Epoch 1/1000\n",
      "20/20 [==============================] - 3s 68ms/step - loss: 0.6035 - tp: 15889.0000 - fp: 8389.0000 - tn: 68807.0000 - fn: 4837.0000 - accuracy: 0.8649 - precision: 0.6545 - recall: 0.7666 - auc: 0.9376 - val_loss: 0.6122 - val_tp: 96.0000 - val_fp: 15901.0000 - val_tn: 40963.0000 - val_fn: 2.0000 - val_accuracy: 0.7208 - val_precision: 0.0060 - val_recall: 0.9796 - val_auc: 0.9691\n",
      "Epoch 2/1000\n",
      "20/20 [==============================] - 1s 34ms/step - loss: 0.4048 - tp: 18444.0000 - fp: 5717.0000 - tn: 14734.0000 - fn: 2065.0000 - accuracy: 0.8100 - precision: 0.7634 - recall: 0.8993 - auc: 0.9223 - val_loss: 0.4789 - val_tp: 93.0000 - val_fp: 5366.0000 - val_tn: 51498.0000 - val_fn: 5.0000 - val_accuracy: 0.9057 - val_precision: 0.0170 - val_recall: 0.9490 - val_auc: 0.9751\n",
      "Epoch 3/1000\n",
      "20/20 [==============================] - 1s 34ms/step - loss: 0.3333 - tp: 18203.0000 - fp: 2584.0000 - tn: 17828.0000 - fn: 2345.0000 - accuracy: 0.8797 - precision: 0.8757 - recall: 0.8859 - auc: 0.9397 - val_loss: 0.3647 - val_tp: 93.0000 - val_fp: 2325.0000 - val_tn: 54539.0000 - val_fn: 5.0000 - val_accuracy: 0.9591 - val_precision: 0.0385 - val_recall: 0.9490 - val_auc: 0.9750\n",
      "Epoch 4/1000\n",
      "20/20 [==============================] - 1s 34ms/step - loss: 0.2844 - tp: 17999.0000 - fp: 1450.0000 - tn: 19130.0000 - fn: 2381.0000 - accuracy: 0.9065 - precision: 0.9254 - recall: 0.8832 - auc: 0.9509 - val_loss: 0.2829 - val_tp: 91.0000 - val_fp: 1583.0000 - val_tn: 55281.0000 - val_fn: 7.0000 - val_accuracy: 0.9721 - val_precision: 0.0544 - val_recall: 0.9286 - val_auc: 0.9756\n",
      "Epoch 5/1000\n",
      "20/20 [==============================] - 1s 33ms/step - loss: 0.2460 - tp: 18054.0000 - fp: 958.0000 - tn: 19721.0000 - fn: 2227.0000 - accuracy: 0.9222 - precision: 0.9496 - recall: 0.8902 - auc: 0.9603 - val_loss: 0.2219 - val_tp: 91.0000 - val_fp: 1263.0000 - val_tn: 55601.0000 - val_fn: 7.0000 - val_accuracy: 0.9777 - val_precision: 0.0672 - val_recall: 0.9286 - val_auc: 0.9770\n",
      "Epoch 6/1000\n",
      "20/20 [==============================] - 1s 34ms/step - loss: 0.2156 - tp: 18324.0000 - fp: 776.0000 - tn: 19665.0000 - fn: 2195.0000 - accuracy: 0.9275 - precision: 0.9594 - recall: 0.8930 - auc: 0.9675 - val_loss: 0.1789 - val_tp: 91.0000 - val_fp: 1081.0000 - val_tn: 55783.0000 - val_fn: 7.0000 - val_accuracy: 0.9809 - val_precision: 0.0776 - val_recall: 0.9286 - val_auc: 0.9797\n",
      "Epoch 7/1000\n",
      "20/20 [==============================] - 1s 35ms/step - loss: 0.1922 - tp: 18702.0000 - fp: 705.0000 - tn: 19580.0000 - fn: 1973.0000 - accuracy: 0.9346 - precision: 0.9637 - recall: 0.9046 - auc: 0.9739 - val_loss: 0.1518 - val_tp: 90.0000 - val_fp: 1089.0000 - val_tn: 55775.0000 - val_fn: 8.0000 - val_accuracy: 0.9807 - val_precision: 0.0763 - val_recall: 0.9184 - val_auc: 0.9818\n",
      "Epoch 8/1000\n",
      "20/20 [==============================] - 1s 33ms/step - loss: 0.1749 - tp: 18825.0000 - fp: 653.0000 - tn: 19637.0000 - fn: 1845.0000 - accuracy: 0.9390 - precision: 0.9665 - recall: 0.9107 - auc: 0.9782 - val_loss: 0.1276 - val_tp: 89.0000 - val_fp: 959.0000 - val_tn: 55905.0000 - val_fn: 9.0000 - val_accuracy: 0.9830 - val_precision: 0.0849 - val_recall: 0.9082 - val_auc: 0.9839\n",
      "Epoch 9/1000\n",
      "20/20 [==============================] - 1s 34ms/step - loss: 0.1608 - tp: 18720.0000 - fp: 628.0000 - tn: 19843.0000 - fn: 1769.0000 - accuracy: 0.9415 - precision: 0.9675 - recall: 0.9137 - auc: 0.9809 - val_loss: 0.1130 - val_tp: 89.0000 - val_fp: 955.0000 - val_tn: 55909.0000 - val_fn: 9.0000 - val_accuracy: 0.9831 - val_precision: 0.0852 - val_recall: 0.9082 - val_auc: 0.9851\n",
      "Epoch 10/1000\n",
      "20/20 [==============================] - 1s 34ms/step - loss: 0.1553 - tp: 18749.0000 - fp: 618.0000 - tn: 19922.0000 - fn: 1671.0000 - accuracy: 0.9441 - precision: 0.9681 - recall: 0.9182 - auc: 0.9829 - val_loss: 0.1008 - val_tp: 89.0000 - val_fp: 883.0000 - val_tn: 55981.0000 - val_fn: 9.0000 - val_accuracy: 0.9843 - val_precision: 0.0916 - val_recall: 0.9082 - val_auc: 0.9854\n",
      "Epoch 11/1000\n",
      "20/20 [==============================] - 1s 34ms/step - loss: 0.1448 - tp: 18749.0000 - fp: 558.0000 - tn: 20034.0000 - fn: 1619.0000 - accuracy: 0.9469 - precision: 0.9711 - recall: 0.9205 - auc: 0.9853 - val_loss: 0.0933 - val_tp: 90.0000 - val_fp: 908.0000 - val_tn: 55956.0000 - val_fn: 8.0000 - val_accuracy: 0.9839 - val_precision: 0.0902 - val_recall: 0.9184 - val_auc: 0.9862\n",
      "Epoch 12/1000\n",
      "20/20 [==============================] - 1s 33ms/step - loss: 0.1380 - tp: 19010.0000 - fp: 534.0000 - tn: 19895.0000 - fn: 1521.0000 - accuracy: 0.9498 - precision: 0.9727 - recall: 0.9259 - auc: 0.9867 - val_loss: 0.0885 - val_tp: 90.0000 - val_fp: 951.0000 - val_tn: 55913.0000 - val_fn: 8.0000 - val_accuracy: 0.9832 - val_precision: 0.0865 - val_recall: 0.9184 - val_auc: 0.9858\n",
      "Epoch 13/1000\n",
      "20/20 [==============================] - 1s 33ms/step - loss: 0.1315 - tp: 19068.0000 - fp: 547.0000 - tn: 19958.0000 - fn: 1387.0000 - accuracy: 0.9528 - precision: 0.9721 - recall: 0.9322 - auc: 0.9883 - val_loss: 0.0827 - val_tp: 90.0000 - val_fp: 930.0000 - val_tn: 55934.0000 - val_fn: 8.0000 - val_accuracy: 0.9835 - val_precision: 0.0882 - val_recall: 0.9184 - val_auc: 0.9861\n",
      "Epoch 14/1000\n",
      "20/20 [==============================] - 1s 34ms/step - loss: 0.1250 - tp: 19232.0000 - fp: 517.0000 - tn: 19849.0000 - fn: 1362.0000 - accuracy: 0.9541 - precision: 0.9738 - recall: 0.9339 - auc: 0.9891 - val_loss: 0.0789 - val_tp: 90.0000 - val_fp: 935.0000 - val_tn: 55929.0000 - val_fn: 8.0000 - val_accuracy: 0.9834 - val_precision: 0.0878 - val_recall: 0.9184 - val_auc: 0.9863\n",
      "Epoch 15/1000\n",
      "20/20 [==============================] - 1s 33ms/step - loss: 0.1219 - tp: 19361.0000 - fp: 539.0000 - tn: 19789.0000 - fn: 1271.0000 - accuracy: 0.9558 - precision: 0.9729 - recall: 0.9384 - auc: 0.9900 - val_loss: 0.0734 - val_tp: 90.0000 - val_fp: 889.0000 - val_tn: 55975.0000 - val_fn: 8.0000 - val_accuracy: 0.9843 - val_precision: 0.0919 - val_recall: 0.9184 - val_auc: 0.9866\n",
      "Epoch 16/1000\n",
      "20/20 [==============================] - 1s 34ms/step - loss: 0.1143 - tp: 19062.0000 - fp: 507.0000 - tn: 20174.0000 - fn: 1217.0000 - accuracy: 0.9579 - precision: 0.9741 - recall: 0.9400 - auc: 0.9910 - val_loss: 0.0676 - val_tp: 90.0000 - val_fp: 806.0000 - val_tn: 56058.0000 - val_fn: 8.0000 - val_accuracy: 0.9857 - val_precision: 0.1004 - val_recall: 0.9184 - val_auc: 0.9870\n",
      "Epoch 17/1000\n",
      "20/20 [==============================] - 1s 36ms/step - loss: 0.1114 - tp: 19140.0000 - fp: 491.0000 - tn: 20128.0000 - fn: 1201.0000 - accuracy: 0.9587 - precision: 0.9750 - recall: 0.9410 - auc: 0.9915 - val_loss: 0.0655 - val_tp: 90.0000 - val_fp: 795.0000 - val_tn: 56069.0000 - val_fn: 8.0000 - val_accuracy: 0.9859 - val_precision: 0.1017 - val_recall: 0.9184 - val_auc: 0.9871\n",
      "Epoch 18/1000\n",
      "20/20 [==============================] - 1s 37ms/step - loss: 0.1071 - tp: 19226.0000 - fp: 481.0000 - tn: 20095.0000 - fn: 1158.0000 - accuracy: 0.9600 - precision: 0.9756 - recall: 0.9432 - auc: 0.9924 - val_loss: 0.0626 - val_tp: 90.0000 - val_fp: 785.0000 - val_tn: 56079.0000 - val_fn: 8.0000 - val_accuracy: 0.9861 - val_precision: 0.1029 - val_recall: 0.9184 - val_auc: 0.9874\n",
      "Epoch 19/1000\n",
      "20/20 [==============================] - 1s 34ms/step - loss: 0.1031 - tp: 19347.0000 - fp: 471.0000 - tn: 20030.0000 - fn: 1112.0000 - accuracy: 0.9614 - precision: 0.9762 - recall: 0.9456 - auc: 0.9931 - val_loss: 0.0612 - val_tp: 90.0000 - val_fp: 818.0000 - val_tn: 56046.0000 - val_fn: 8.0000 - val_accuracy: 0.9855 - val_precision: 0.0991 - val_recall: 0.9184 - val_auc: 0.9875\n",
      "Epoch 20/1000\n",
      "20/20 [==============================] - 1s 34ms/step - loss: 0.1011 - tp: 19417.0000 - fp: 467.0000 - tn: 19988.0000 - fn: 1088.0000 - accuracy: 0.9620 - precision: 0.9765 - recall: 0.9469 - auc: 0.9936 - val_loss: 0.0596 - val_tp: 90.0000 - val_fp: 793.0000 - val_tn: 56071.0000 - val_fn: 8.0000 - val_accuracy: 0.9859 - val_precision: 0.1019 - val_recall: 0.9184 - val_auc: 0.9875\n",
      "Epoch 21/1000\n",
      "20/20 [==============================] - 1s 33ms/step - loss: 0.0957 - tp: 19416.0000 - fp: 451.0000 - tn: 20049.0000 - fn: 1044.0000 - accuracy: 0.9635 - precision: 0.9773 - recall: 0.9490 - auc: 0.9944 - val_loss: 0.0567 - val_tp: 90.0000 - val_fp: 755.0000 - val_tn: 56109.0000 - val_fn: 8.0000 - val_accuracy: 0.9866 - val_precision: 0.1065 - val_recall: 0.9184 - val_auc: 0.9876\n",
      "Epoch 22/1000\n",
      "20/20 [==============================] - 1s 34ms/step - loss: 0.0921 - tp: 19487.0000 - fp: 435.0000 - tn: 20050.0000 - fn: 988.0000 - accuracy: 0.9653 - precision: 0.9782 - recall: 0.9517 - auc: 0.9947 - val_loss: 0.0553 - val_tp: 90.0000 - val_fp: 765.0000 - val_tn: 56099.0000 - val_fn: 8.0000 - val_accuracy: 0.9864 - val_precision: 0.1053 - val_recall: 0.9184 - val_auc: 0.9876\n",
      "Epoch 23/1000\n",
      "20/20 [==============================] - 1s 35ms/step - loss: 0.0904 - tp: 19449.0000 - fp: 464.0000 - tn: 20081.0000 - fn: 966.0000 - accuracy: 0.9651 - precision: 0.9767 - recall: 0.9527 - auc: 0.9950 - val_loss: 0.0519 - val_tp: 90.0000 - val_fp: 735.0000 - val_tn: 56129.0000 - val_fn: 8.0000 - val_accuracy: 0.9870 - val_precision: 0.1091 - val_recall: 0.9184 - val_auc: 0.9876\n",
      "Epoch 24/1000\n",
      "20/20 [==============================] - 1s 37ms/step - loss: 0.0871 - tp: 19546.0000 - fp: 471.0000 - tn: 20026.0000 - fn: 917.0000 - accuracy: 0.9661 - precision: 0.9765 - recall: 0.9552 - auc: 0.9954 - val_loss: 0.0491 - val_tp: 91.0000 - val_fp: 680.0000 - val_tn: 56184.0000 - val_fn: 7.0000 - val_accuracy: 0.9879 - val_precision: 0.1180 - val_recall: 0.9286 - val_auc: 0.9877\n",
      "Epoch 25/1000\n",
      "20/20 [==============================] - 1s 36ms/step - loss: 0.0846 - tp: 19493.0000 - fp: 442.0000 - tn: 20126.0000 - fn: 899.0000 - accuracy: 0.9673 - precision: 0.9778 - recall: 0.9559 - auc: 0.9959 - val_loss: 0.0488 - val_tp: 91.0000 - val_fp: 704.0000 - val_tn: 56160.0000 - val_fn: 7.0000 - val_accuracy: 0.9875 - val_precision: 0.1145 - val_recall: 0.9286 - val_auc: 0.9877\n",
      "Epoch 26/1000\n",
      "20/20 [==============================] - 1s 34ms/step - loss: 0.0831 - tp: 19762.0000 - fp: 464.0000 - tn: 19886.0000 - fn: 848.0000 - accuracy: 0.9680 - precision: 0.9771 - recall: 0.9589 - auc: 0.9960 - val_loss: 0.0463 - val_tp: 90.0000 - val_fp: 681.0000 - val_tn: 56183.0000 - val_fn: 8.0000 - val_accuracy: 0.9879 - val_precision: 0.1167 - val_recall: 0.9184 - val_auc: 0.9877\n",
      "Epoch 27/1000\n",
      "20/20 [==============================] - 1s 33ms/step - loss: 0.0767 - tp: 19703.0000 - fp: 436.0000 - tn: 20032.0000 - fn: 789.0000 - accuracy: 0.9701 - precision: 0.9784 - recall: 0.9615 - auc: 0.9966 - val_loss: 0.0453 - val_tp: 90.0000 - val_fp: 689.0000 - val_tn: 56175.0000 - val_fn: 8.0000 - val_accuracy: 0.9878 - val_precision: 0.1155 - val_recall: 0.9184 - val_auc: 0.9875\n",
      "Epoch 28/1000\n",
      "20/20 [==============================] - 1s 33ms/step - loss: 0.0744 - tp: 19556.0000 - fp: 429.0000 - tn: 20219.0000 - fn: 756.0000 - accuracy: 0.9711 - precision: 0.9785 - recall: 0.9628 - auc: 0.9968 - val_loss: 0.0441 - val_tp: 90.0000 - val_fp: 688.0000 - val_tn: 56176.0000 - val_fn: 8.0000 - val_accuracy: 0.9878 - val_precision: 0.1157 - val_recall: 0.9184 - val_auc: 0.9870\n",
      "Epoch 29/1000\n",
      "20/20 [==============================] - 1s 36ms/step - loss: 0.0724 - tp: 19845.0000 - fp: 425.0000 - tn: 20005.0000 - fn: 685.0000 - accuracy: 0.9729 - precision: 0.9790 - recall: 0.9666 - auc: 0.9971 - val_loss: 0.0432 - val_tp: 90.0000 - val_fp: 708.0000 - val_tn: 56156.0000 - val_fn: 8.0000 - val_accuracy: 0.9874 - val_precision: 0.1128 - val_recall: 0.9184 - val_auc: 0.9874\n",
      "Epoch 30/1000\n",
      "20/20 [==============================] - 1s 33ms/step - loss: 0.0698 - tp: 19828.0000 - fp: 409.0000 - tn: 20032.0000 - fn: 691.0000 - accuracy: 0.9731 - precision: 0.9798 - recall: 0.9663 - auc: 0.9973 - val_loss: 0.0432 - val_tp: 90.0000 - val_fp: 712.0000 - val_tn: 56152.0000 - val_fn: 8.0000 - val_accuracy: 0.9874 - val_precision: 0.1122 - val_recall: 0.9184 - val_auc: 0.9877\n",
      "Epoch 31/1000\n",
      "20/20 [==============================] - 1s 34ms/step - loss: 0.0700 - tp: 20032.0000 - fp: 426.0000 - tn: 19855.0000 - fn: 647.0000 - accuracy: 0.9738 - precision: 0.9792 - recall: 0.9687 - auc: 0.9972 - val_loss: 0.0398 - val_tp: 90.0000 - val_fp: 662.0000 - val_tn: 56202.0000 - val_fn: 8.0000 - val_accuracy: 0.9882 - val_precision: 0.1197 - val_recall: 0.9184 - val_auc: 0.9842\n",
      "Epoch 32/1000\n",
      "20/20 [==============================] - 1s 34ms/step - loss: 0.0640 - tp: 20080.0000 - fp: 394.0000 - tn: 19880.0000 - fn: 606.0000 - accuracy: 0.9756 - precision: 0.9808 - recall: 0.9707 - auc: 0.9976 - val_loss: 0.0404 - val_tp: 90.0000 - val_fp: 693.0000 - val_tn: 56171.0000 - val_fn: 8.0000 - val_accuracy: 0.9877 - val_precision: 0.1149 - val_recall: 0.9184 - val_auc: 0.9844\n",
      "Epoch 33/1000\n",
      "20/20 [==============================] - 1s 33ms/step - loss: 0.0624 - tp: 19920.0000 - fp: 381.0000 - tn: 20089.0000 - fn: 570.0000 - accuracy: 0.9768 - precision: 0.9812 - recall: 0.9722 - auc: 0.9978 - val_loss: 0.0398 - val_tp: 90.0000 - val_fp: 695.0000 - val_tn: 56169.0000 - val_fn: 8.0000 - val_accuracy: 0.9877 - val_precision: 0.1146 - val_recall: 0.9184 - val_auc: 0.9846\n",
      "Epoch 34/1000\n",
      "20/20 [==============================] - 1s 34ms/step - loss: 0.0623 - tp: 20084.0000 - fp: 423.0000 - tn: 19891.0000 - fn: 562.0000 - accuracy: 0.9760 - precision: 0.9794 - recall: 0.9728 - auc: 0.9977 - val_loss: 0.0383 - val_tp: 90.0000 - val_fp: 674.0000 - val_tn: 56190.0000 - val_fn: 8.0000 - val_accuracy: 0.9880 - val_precision: 0.1178 - val_recall: 0.9184 - val_auc: 0.9847\n",
      "Restoring model weights from the end of the best epoch.\n",
      "Epoch 00034: early stopping\n"
     ]
    }
   ],
   "source": [
    "resampled_model = make_model()\n",
    "resampled_model.load_weights(initial_weights)\n",
    "\n",
    "# Reset the bias to zero, since this dataset is balanced.\n",
    "output_layer = resampled_model.layers[-1] \n",
    "output_layer.bias.assign([0])\n",
    "\n",
    "resampled_history = resampled_model.fit(\n",
    "    resampled_ds,\n",
    "    # These are not real epochs\n",
    "    steps_per_epoch = 20,\n",
    "    epochs=10*EPOCHS,\n",
    "    callbacks = [early_stopping],\n",
    "    validation_data=(val_ds))"
   ]
  },
  {
   "cell_type": "markdown",
   "metadata": {
    "id": "VjgLw_Dbt307"
   },
   "source": [
    "### Re-check training history"
   ]
  },
  {
   "cell_type": "code",
   "execution_count": 55,
   "metadata": {
    "colab": {
     "base_uri": "https://localhost:8080/",
     "height": 501
    },
    "id": "a1kzDbxpt308",
    "outputId": "870e83d8-a563-44b3-8e24-5b183c47d03b"
   },
   "outputs": [
    {
     "data": {
      "image/png": "[encoded data removed]",
      "text/plain": [
       "<Figure size 864x576 with 4 Axes>"
      ]
     },
     "metadata": {
      "needs_background": "light",
      "tags": []
     },
     "output_type": "display_data"
    }
   ],
   "source": [
    "plot_metrics(resampled_history)"
   ]
  },
  {
   "cell_type": "markdown",
   "metadata": {
    "id": "-FgiHPOnt309"
   },
   "source": [
    "### Evaluate metrics"
   ]
  },
  {
   "cell_type": "code",
   "execution_count": 56,
   "metadata": {
    "id": "w-ADY1dEt30-"
   },
   "outputs": [],
   "source": [
    "train_predictions_resampled = resampled_model.predict(X_train, batch_size=BATCH_SIZE)\n",
    "test_predictions_resampled = resampled_model.predict(X_test, batch_size=BATCH_SIZE)"
   ]
  },
  {
   "cell_type": "code",
   "execution_count": 57,
   "metadata": {
    "colab": {
     "base_uri": "https://localhost:8080/",
     "height": 609
    },
    "id": "ELxTP2Ext31B",
    "outputId": "38377fe4-9a5d-4982-f8b6-b9ad66fe4943"
   },
   "outputs": [
    {
     "name": "stdout",
     "output_type": "stream",
     "text": [
      "loss :  0.04910361394286156\n",
      "tp :  91.0\n",
      "fp :  680.0\n",
      "tn :  56184.0\n",
      "fn :  7.0\n",
      "accuracy :  0.9879393577575684\n",
      "precision :  0.11802853643894196\n",
      "recall :  0.9285714030265808\n",
      "auc :  0.9877276420593262\n",
      "\n",
      "TN:  56184\n",
      "FP:  680\n",
      "FN (Fraud Transaction Missed):  7\n",
      "TP (Fraud Transaction Detected):  91\n",
      "Total Fraud Transactions:  98\n"
     ]
    },
    {
     "data": {
      "image/png": "[encoded data removed]",
      "text/plain": [
       "<Figure size 360x360 with 2 Axes>"
      ]
     },
     "metadata": {
      "needs_background": "light",
      "tags": []
     },
     "output_type": "display_data"
    }
   ],
   "source": [
    "resampled_results = resampled_model.evaluate(X_test, y_test,\n",
    "                                             batch_size=BATCH_SIZE, verbose=0)\n",
    "for name, value in zip(resampled_model.metrics_names, resampled_results):\n",
    "    print(name, ': ', value)\n",
    "    \n",
    "print()\n",
    "\n",
    "plot_cm(y_test, test_predictions_resampled)"
   ]
  },
  {
   "cell_type": "markdown",
   "metadata": {
    "id": "ebH9JoZ6t31D"
   },
   "source": [
    "### Plot the ROC"
   ]
  },
  {
   "cell_type": "code",
   "execution_count": 58,
   "metadata": {
    "colab": {
     "base_uri": "https://localhost:8080/",
     "height": 405
    },
    "id": "Q8vOWAQ_t31E",
    "outputId": "138bfa15-3517-4c31-8885-201d6cae4aa8"
   },
   "outputs": [
    {
     "data": {
      "text/plain": [
       "<matplotlib.legend.Legend at 0x7ff64c90f050>"
      ]
     },
     "execution_count": 58,
     "metadata": {
      "tags": []
     },
     "output_type": "execute_result"
    },
    {
     "data": {
      "image/png": "[encoded data removed]",
      "text/plain": [
       "<Figure size 576x432 with 1 Axes>"
      ]
     },
     "metadata": {
      "needs_background": "light",
      "tags": []
     },
     "output_type": "display_data"
    }
   ],
   "source": [
    "plot_roc(\"Train Baseline\", y_train, train_predictions_baseline, color='blue')\n",
    "plot_roc(\"Test Baseline\", y_test, test_predictions_baseline, color='blue', linestyle='--')\n",
    "\n",
    "plot_roc(\"Train Weighted\", y_train, train_predictions_weighted, color='green')\n",
    "plot_roc(\"Test Weighted\", y_test, test_predictions_weighted, color='green', linestyle='--')\n",
    "\n",
    "plot_roc(\"Train Resampled\", y_train, train_predictions_resampled,  color='red')\n",
    "plot_roc(\"Test Resampled\", y_test, test_predictions_resampled,  color='red', linestyle='--')\n",
    "plt.legend(loc='lower right')"
   ]
  },
  {
   "cell_type": "markdown",
   "metadata": {
    "id": "sRpf21k4t31H"
   },
   "source": [
    "### 실제 문제 적용시 유의점\n",
    "\n",
    "- 불균형 데이터 분류는 배울 샘플이 거의 없기 때문에 본질적으로 어려운 작업임\n",
    "\n",
    "- 항상 데이터부터 먼저 시작하고 가능한 많은 샘플을 수집하고 어떤 feature 가 minority sample 분류에 관련될지 구체적으로 고민  \n",
    "\n",
    "- 어떤 시점에서 모델이 원하는 결과를 개선하고 도출하는 데 어려움을 겪을 수 있으므로 오류 유형 간의 trade-off 를 염두에 두는 것이 중요"
   ]
  },
  {
   "cell_type": "code",
   "execution_count": null,
   "metadata": {
    "id": "rcbHFEtjGzxD"
   },
   "outputs": [],
   "source": []
  }
 ],
 "metadata": {
  "accelerator": "GPU",
  "colab": {
   "collapsed_sections": [],
   "machine_shape": "hm",
   "name": "120_Imbalanced_Dataset_credit_card_fraud_detection.ipynb",
   "provenance": []
  },
  "kernelspec": {
   "display_name": "Python 3",
   "language": "python",
   "name": "python3"
  },
  "language_info": {
   "codemirror_mode": {
    "name": "ipython",
    "version": 3
   },
   "file_extension": ".py",
   "mimetype": "text/x-python",
   "name": "python",
   "nbconvert_exporter": "python",
   "pygments_lexer": "ipython3",
   "version": "3.8.5"
  }
 },
 "nbformat": 4,
 "nbformat_minor": 1
}
